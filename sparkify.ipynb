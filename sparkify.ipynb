{
 "cells": [
  {
   "cell_type": "markdown",
   "metadata": {},
   "source": [
    "# Sparkify Project\n",
    "\n",
    "In this project user churn rate is predicted for a music streaming software called Sparkify.\n",
    "\n",
    "### Notebook Content\n",
    "**1. Get started**\n",
    "- Import packages\n",
    "- Build spark session\n",
    "\n",
    "**2. Extract data**\n",
    "- Extract data from local .json or a s3 storage\n",
    "\n",
    "**3. Clean data**\n",
    "- Drop null values\n",
    "- Add column indicating churn (label)\n",
    "- Aggregate data on user level\n",
    "- Calculate several aggregates per user, such as session count or user age\n",
    "- Ensure numeric value\n",
    "\n",
    "**4. Exploratory Data Analysis**\n",
    "- Show aggregates of each column\n",
    "\n",
    "**5. Feature Engineering**\n",
    "- One Hot Encoding for categorical features\n",
    "- Assembling feature vector\n",
    "\n",
    "**6. Modeling**\n",
    "- Build pipeline (random forest + logistic regression)\n",
    "- Find best model with grid search\n",
    "- Evaluate accuracy and F2"
   ]
  },
  {
   "cell_type": "markdown",
   "metadata": {},
   "source": [
    "## 1. Get Started\n",
    "Import required packages for [pyspark sql](https://spark.apache.org/docs/2.2.0/api/python/pyspark.sql.html) and [mlib](https://spark.apache.org/docs/2.2.0/api/python/pyspark.ml.html)."
   ]
  },
  {
   "cell_type": "code",
   "execution_count": 1,
   "metadata": {},
   "outputs": [],
   "source": [
    "# SQL\n",
    "from pyspark.sql import SparkSession\n",
    "from pyspark.sql.window import Window\n",
    "from pyspark.sql.functions import udf, from_unixtime, trunc, isnan, when, count, col, lit, countDistinct, lag, isnull\n",
    "from pyspark.sql.types import IntegerType\n",
    "from pyspark.sql.functions import to_timestamp\n",
    "from pyspark.sql.functions import col\n",
    "from pyspark.sql import functions as f\n",
    "from pyspark.sql import types as t\n",
    "\n",
    "# MLib\n",
    "from pyspark.ml import Pipeline\n",
    "from pyspark.ml.classification import LogisticRegression, RandomForestClassifier\n",
    "from pyspark.ml.evaluation import MulticlassClassificationEvaluator, BinaryClassificationEvaluator\n",
    "from pyspark.ml.feature import CountVectorizer, IDF, Normalizer, PCA, RegexTokenizer, StandardScaler, StopWordsRemover, StringIndexer, VectorAssembler, OneHotEncoder\n",
    "from pyspark.ml.regression import LinearRegression\n",
    "from pyspark.ml.tuning import CrossValidator, ParamGridBuilder\n",
    "from pyspark.ml.feature import RegexTokenizer, VectorAssembler, Normalizer, StandardScaler\n",
    "\n",
    "# Other\n",
    "import numpy as np\n",
    "import pandas as pd\n",
    "import matplotlib\n",
    "import matplotlib.pyplot as plt"
   ]
  },
  {
   "cell_type": "code",
   "execution_count": 2,
   "metadata": {},
   "outputs": [],
   "source": [
    "spark = SparkSession \\\n",
    "    .builder \\\n",
    "    .appName(\"Sparkify\") \\\n",
    "    .getOrCreate()\n",
    "\n",
    "sparkContext = spark.sparkContext"
   ]
  },
  {
   "cell_type": "markdown",
   "metadata": {},
   "source": [
    "## 2. Extract Data\n",
    "Extract data from a local file or access Amazon S3."
   ]
  },
  {
   "cell_type": "code",
   "execution_count": 3,
   "metadata": {},
   "outputs": [
    {
     "data": {
      "text/plain": [
       "[Row(artist='Martha Tilston', auth='Logged In', firstName='Colin', gender='M', itemInSession=50, lastName='Freeman', length=277.89016, level='paid', location='Bakersfield, CA', method='PUT', page='NextSong', registration=1538173362000, sessionId=29, song='Rockpools', status=200, ts=1538352117000, userAgent='Mozilla/5.0 (Windows NT 6.1; WOW64; rv:31.0) Gecko/20100101 Firefox/31.0', userId='30'),\n",
       " Row(artist='Five Iron Frenzy', auth='Logged In', firstName='Micah', gender='M', itemInSession=79, lastName='Long', length=236.09424, level='free', location='Boston-Cambridge-Newton, MA-NH', method='PUT', page='NextSong', registration=1538331630000, sessionId=8, song='Canada', status=200, ts=1538352180000, userAgent='\"Mozilla/5.0 (Windows NT 6.1; WOW64) AppleWebKit/537.36 (KHTML, like Gecko) Chrome/37.0.2062.103 Safari/537.36\"', userId='9')]"
      ]
     },
     "execution_count": 3,
     "metadata": {},
     "output_type": "execute_result"
    }
   ],
   "source": [
    "# For running on a EC2 cluster \n",
    "event_data_s3n_small = \"s3n://udacity-dsnd/sparkify/mini_sparkify_event_data.json\"\n",
    "event_data_s3n_full = \"s3n://udacity-dsnd/sparkify/sparkify_event_data.json\"\n",
    "\n",
    "# For local use\n",
    "event_data_local = \"data/mini_sparkify_event_data.json\"\n",
    "\n",
    "df = spark.read.json(event_data_local)\n",
    "df.head(2)\n",
    "\n",
    "# User very small subset of data for trying out functions\n",
    "#df = df.limit(1000)"
   ]
  },
  {
   "cell_type": "markdown",
   "metadata": {},
   "source": [
    "## 2. Clean Data\n",
    "Check for empty values and null values. \n",
    "Create dataframe that aggregates data on a user level."
   ]
  },
  {
   "cell_type": "markdown",
   "metadata": {},
   "source": [
    "### Checking for null, empty and other faulty values"
   ]
  },
  {
   "cell_type": "code",
   "execution_count": 4,
   "metadata": {},
   "outputs": [
    {
     "name": "stdout",
     "output_type": "stream",
     "text": [
      "Column artist has 0 empty values.\n",
      "Column auth has 0 empty values.\n",
      "Column firstName has 0 empty values.\n",
      "Column gender has 0 empty values.\n",
      "Column itemInSession has 0 empty values.\n",
      "Column lastName has 0 empty values.\n",
      "Column length has 0 empty values.\n",
      "Column level has 0 empty values.\n",
      "Column location has 0 empty values.\n",
      "Column method has 0 empty values.\n",
      "Column page has 0 empty values.\n",
      "Column registration has 0 empty values.\n",
      "Column sessionId has 0 empty values.\n",
      "Column song has 0 empty values.\n",
      "Column status has 0 empty values.\n",
      "Column ts has 0 empty values.\n",
      "Column userAgent has 0 empty values.\n",
      "Column userId has 8346 empty values.\n"
     ]
    }
   ],
   "source": [
    "# Show how many null values each column has\n",
    "for column in df.columns:\n",
    "    print(\"Column \" + column + \" has \" + str(len(df.where(df[column] == \"\").collect())) + \" empty values.\")"
   ]
  },
  {
   "cell_type": "code",
   "execution_count": 5,
   "metadata": {},
   "outputs": [
    {
     "name": "stdout",
     "output_type": "stream",
     "text": [
      "Remove rows with empty userIds.\n",
      "Check how many empty userIds are left: 0\n"
     ]
    }
   ],
   "source": [
    "print(\"Remove rows with empty userIds.\")\n",
    "df = df.where(df.userId != \"\")\n",
    "print(\"Check how many empty userIds are left: \" + \\\n",
    "      str(len(df.where(df.userId == \"\").collect())))"
   ]
  },
  {
   "cell_type": "code",
   "execution_count": 6,
   "metadata": {},
   "outputs": [
    {
     "name": "stdout",
     "output_type": "stream",
     "text": [
      "Null values per column:\n",
      "-RECORD 0------------\n",
      " artist        | 0   \n",
      " auth          | 0   \n",
      " firstName     | 0   \n",
      " gender        | 0   \n",
      " itemInSession | 0   \n",
      " lastName      | 0   \n",
      " length        | 0   \n",
      " level         | 0   \n",
      " location      | 0   \n",
      " method        | 0   \n",
      " page          | 0   \n",
      " registration  | 0   \n",
      " sessionId     | 0   \n",
      " song          | 0   \n",
      " status        | 0   \n",
      " ts            | 0   \n",
      " userAgent     | 0   \n",
      " userId        | 0   \n",
      "\n"
     ]
    }
   ],
   "source": [
    "print(\"Null values per column:\")\n",
    "df.select([count(when(isnan(c), c)).alias(c) for c in df.columns]).show(vertical=True)"
   ]
  },
  {
   "cell_type": "code",
   "execution_count": 7,
   "metadata": {},
   "outputs": [
    {
     "name": "stdout",
     "output_type": "stream",
     "text": [
      "Example event flow for one particular user:\n",
      "+--------------------+-------------+\n",
      "|                page|           ts|\n",
      "+--------------------+-------------+\n",
      "|                Home|1538376504000|\n",
      "|            NextSong|1538376509000|\n",
      "|         Roll Advert|1538376542000|\n",
      "|            NextSong|1538376747000|\n",
      "|         Roll Advert|1538376783000|\n",
      "|            NextSong|1538377349000|\n",
      "|            NextSong|1538377748000|\n",
      "|            NextSong|1538377932000|\n",
      "|            NextSong|1538378245000|\n",
      "|            NextSong|1538378483000|\n",
      "|            NextSong|1538378687000|\n",
      "|            NextSong|1538378877000|\n",
      "|            NextSong|1538379041000|\n",
      "|            NextSong|1538379207000|\n",
      "|         Roll Advert|1538379230000|\n",
      "|            NextSong|1538379420000|\n",
      "|            NextSong|1538379668000|\n",
      "|            NextSong|1538380000000|\n",
      "|            NextSong|1538380179000|\n",
      "|              Logout|1538380180000|\n",
      "|                Home|1538380429000|\n",
      "|            NextSong|1538380481000|\n",
      "|            NextSong|1538380829000|\n",
      "|            NextSong|1538381273000|\n",
      "|         Thumbs Down|1538381274000|\n",
      "|            NextSong|1538381449000|\n",
      "|            NextSong|1538381708000|\n",
      "|            NextSong|1538381978000|\n",
      "|            NextSong|1538382217000|\n",
      "|            NextSong|1538382476000|\n",
      "|         Roll Advert|1538382550000|\n",
      "|            NextSong|1538382674000|\n",
      "|         Roll Advert|1538382775000|\n",
      "|            NextSong|1538382964000|\n",
      "|            NextSong|1538383234000|\n",
      "|            NextSong|1538383532000|\n",
      "|            NextSong|1538383757000|\n",
      "|              Logout|1538383758000|\n",
      "|                Home|1538383846000|\n",
      "|            NextSong|1538384003000|\n",
      "|          Add Friend|1538384004000|\n",
      "|            NextSong|1538384240000|\n",
      "|            NextSong|1538384895000|\n",
      "|            NextSong|1538385105000|\n",
      "|            NextSong|1538385353000|\n",
      "|           Thumbs Up|1538385354000|\n",
      "|            NextSong|1538385682000|\n",
      "|            NextSong|1538385917000|\n",
      "|     Add to Playlist|1538386066000|\n",
      "|            NextSong|1538386082000|\n",
      "|              Logout|1538386083000|\n",
      "|                Home|1538451696000|\n",
      "|            NextSong|1538451700000|\n",
      "|            NextSong|1538452219000|\n",
      "|           Thumbs Up|1538452220000|\n",
      "|            NextSong|1538452394000|\n",
      "|            NextSong|1538452617000|\n",
      "|            NextSong|1538452881000|\n",
      "|            NextSong|1538453120000|\n",
      "|            NextSong|1538453404000|\n",
      "|         Roll Advert|1538453436000|\n",
      "|            NextSong|1538453655000|\n",
      "|            NextSong|1538453950000|\n",
      "|            NextSong|1538454144000|\n",
      "|            NextSong|1538454463000|\n",
      "|            NextSong|1538454682000|\n",
      "|            NextSong|1538455031000|\n",
      "|            NextSong|1538455387000|\n",
      "|            NextSong|1538455735000|\n",
      "|            Settings|1538455871000|\n",
      "|            NextSong|1538455885000|\n",
      "|            NextSong|1538456099000|\n",
      "|            NextSong|1538456361000|\n",
      "|            NextSong|1538456593000|\n",
      "|                Home|1538456624000|\n",
      "|            NextSong|1538456826000|\n",
      "|            NextSong|1538456957000|\n",
      "|         Roll Advert|1538457061000|\n",
      "|            NextSong|1538457191000|\n",
      "|            NextSong|1538457526000|\n",
      "|            NextSong|1538457701000|\n",
      "|            NextSong|1538458075000|\n",
      "|            NextSong|1538458310000|\n",
      "|                Home|1538458321000|\n",
      "|            NextSong|1538458851000|\n",
      "|         Thumbs Down|1538458852000|\n",
      "|            NextSong|1538459123000|\n",
      "|            NextSong|1538459171000|\n",
      "|            NextSong|1538459282000|\n",
      "|            NextSong|1538459508000|\n",
      "|             Upgrade|1538459613000|\n",
      "|            NextSong|1538459639000|\n",
      "|            NextSong|1538459825000|\n",
      "|            NextSong|1538460138000|\n",
      "|         Roll Advert|1538460173000|\n",
      "|            NextSong|1538460405000|\n",
      "|            NextSong|1538460683000|\n",
      "|            NextSong|1538460857000|\n",
      "|            NextSong|1538461017000|\n",
      "|           Thumbs Up|1538461018000|\n",
      "|            NextSong|1538461256000|\n",
      "|            NextSong|1538461451000|\n",
      "|            NextSong|1538461759000|\n",
      "|            NextSong|1538461992000|\n",
      "|            NextSong|1538462330000|\n",
      "|           Thumbs Up|1538462331000|\n",
      "|            NextSong|1538462591000|\n",
      "|            NextSong|1538462786000|\n",
      "|            NextSong|1538463081000|\n",
      "|             Upgrade|1538463098000|\n",
      "|            NextSong|1538463447000|\n",
      "|         Roll Advert|1538463489000|\n",
      "|         Roll Advert|1538463534000|\n",
      "|            NextSong|1538463606000|\n",
      "|            NextSong|1538463835000|\n",
      "|            NextSong|1538464098000|\n",
      "|            NextSong|1538464235000|\n",
      "|            NextSong|1538464342000|\n",
      "|            NextSong|1538464495000|\n",
      "|     Add to Playlist|1538464613000|\n",
      "|            NextSong|1538482755000|\n",
      "|              Logout|1538482756000|\n",
      "|                Home|1538483069000|\n",
      "|            NextSong|1538483141000|\n",
      "|         Roll Advert|1538483164000|\n",
      "|            NextSong|1538483424000|\n",
      "|         Roll Advert|1538483727000|\n",
      "|            NextSong|1538483738000|\n",
      "|            NextSong|1538483941000|\n",
      "|              Logout|1538483942000|\n",
      "|                Home|1538484662000|\n",
      "|            NextSong|1538484997000|\n",
      "|            NextSong|1538485105000|\n",
      "|           Thumbs Up|1538485106000|\n",
      "|            NextSong|1538485340000|\n",
      "|            NextSong|1538485623000|\n",
      "|          Add Friend|1538485624000|\n",
      "|            NextSong|1538485920000|\n",
      "|                Home|1538486429000|\n",
      "|            NextSong|1538486486000|\n",
      "|            NextSong|1538486692000|\n",
      "|           Thumbs Up|1538486693000|\n",
      "|            NextSong|1538486935000|\n",
      "|           Thumbs Up|1538486936000|\n",
      "|            NextSong|1538487296000|\n",
      "|            NextSong|1538487551000|\n",
      "|            NextSong|1538487846000|\n",
      "|     Add to Playlist|1538487847000|\n",
      "|           Thumbs Up|1538487848000|\n",
      "|            NextSong|1538488106000|\n",
      "|            NextSong|1538488358000|\n",
      "|            NextSong|1538488580000|\n",
      "|            NextSong|1538488860000|\n",
      "|            NextSong|1538488996000|\n",
      "|            NextSong|1538489401000|\n",
      "|            NextSong|1538489681000|\n",
      "|            NextSong|1538489881000|\n",
      "|               Error|1538489901000|\n",
      "|            NextSong|1538490278000|\n",
      "|            NextSong|1538490541000|\n",
      "|            NextSong|1538490859000|\n",
      "|            NextSong|1538491037000|\n",
      "|            NextSong|1538491293000|\n",
      "|            NextSong|1538491561000|\n",
      "|            NextSong|1538491800000|\n",
      "|            NextSong|1538492036000|\n",
      "|              Logout|1538492037000|\n",
      "|                Home|1538494425000|\n",
      "|            NextSong|1538494783000|\n",
      "|            NextSong|1538494956000|\n",
      "|            NextSong|1538495427000|\n",
      "|            NextSong|1538496021000|\n",
      "|            NextSong|1538496198000|\n",
      "|            NextSong|1538496420000|\n",
      "|            NextSong|1538496753000|\n",
      "|         Roll Advert|1538496839000|\n",
      "|            NextSong|1538496984000|\n",
      "|                Help|1538497010000|\n",
      "|            NextSong|1538497194000|\n",
      "|            NextSong|1538497474000|\n",
      "|            NextSong|1538497758000|\n",
      "|              Logout|1538497759000|\n",
      "|                Home|1538497786000|\n",
      "|            NextSong|1538498032000|\n",
      "|         Roll Advert|1538498073000|\n",
      "|              Cancel|1538498074000|\n",
      "|Cancellation Conf...|1538498205000|\n",
      "+--------------------+-------------+\n",
      "\n"
     ]
    }
   ],
   "source": [
    "print(\"Example event flow for one particular user:\")\n",
    "df.where(df.userId == 100001).select(\"page\", \"ts\").orderBy(\"ts\").show(1000)"
   ]
  },
  {
   "cell_type": "markdown",
   "metadata": {},
   "source": [
    "#### Get users that churned\n",
    "Creating a column `Churn` to use as the label for your model. I am using the `Cancellation Confirmation` events to define churn, which happen for both paid and free users."
   ]
  },
  {
   "cell_type": "code",
   "execution_count": 8,
   "metadata": {},
   "outputs": [],
   "source": [
    "# Get users that churned\n",
    "churned_users = df.where(df.page == \"Cancellation Confirmation\").select(\"userId\").dropDuplicates()"
   ]
  },
  {
   "cell_type": "markdown",
   "metadata": {},
   "source": [
    "#### Add a boolean column to df indicating user churn"
   ]
  },
  {
   "cell_type": "code",
   "execution_count": 9,
   "metadata": {},
   "outputs": [
    {
     "name": "stdout",
     "output_type": "stream",
     "text": [
      "+------+-------+\n",
      "|userId|churned|\n",
      "+------+-------+\n",
      "|   125|      1|\n",
      "|    51|      1|\n",
      "|    54|      1|\n",
      "|100014|      1|\n",
      "|   101|      1|\n",
      "+------+-------+\n",
      "only showing top 5 rows\n",
      "\n"
     ]
    }
   ],
   "source": [
    "churn = udf(lambda x: 1, IntegerType())\n",
    "churned_users = churned_users.withColumn(\"churned\", lit(1))\n",
    "churned_users.show(5)\n",
    "\n",
    "# Join new column to df\n",
    "df = df.join(churned_users, on=['userId'], how='left')"
   ]
  },
  {
   "cell_type": "markdown",
   "metadata": {},
   "source": [
    "### Calculate aggregates per user that are interesting"
   ]
  },
  {
   "cell_type": "markdown",
   "metadata": {},
   "source": [
    "#### Create dataframe that is aggregated on user level"
   ]
  },
  {
   "cell_type": "code",
   "execution_count": 10,
   "metadata": {},
   "outputs": [],
   "source": [
    "# Create user aggregation and add churn information\n",
    "df_user_agg = df.select([\"userId\", \"gender\", \"churned\"]).groupBy([\"userId\", \"gender\"]).max()\n",
    "df_user_agg = df_user_agg.na.fill(0)\n",
    "df_user_agg = df_user_agg.withColumnRenamed(\"max(churned)\", \"churned\")"
   ]
  },
  {
   "cell_type": "code",
   "execution_count": 11,
   "metadata": {
    "scrolled": true
   },
   "outputs": [
    {
     "name": "stdout",
     "output_type": "stream",
     "text": [
      "+------+------+-------+\n",
      "|userId|gender|churned|\n",
      "+------+------+-------+\n",
      "|100010|     F|      0|\n",
      "|200002|     M|      0|\n",
      "|   125|     M|      1|\n",
      "|   124|     F|      0|\n",
      "|    51|     M|      1|\n",
      "+------+------+-------+\n",
      "only showing top 5 rows\n",
      "\n"
     ]
    }
   ],
   "source": [
    "df_user_agg.show(5)"
   ]
  },
  {
   "cell_type": "code",
   "execution_count": 12,
   "metadata": {},
   "outputs": [
    {
     "name": "stdout",
     "output_type": "stream",
     "text": [
      "Columns in df:\n",
      "['userId', 'artist', 'auth', 'firstName', 'gender', 'itemInSession', 'lastName', 'length', 'level', 'location', 'method', 'page', 'registration', 'sessionId', 'song', 'status', 'ts', 'userAgent', 'churned']\n",
      "\n",
      "Event types:\n",
      "+--------------------+\n",
      "|                page|\n",
      "+--------------------+\n",
      "|               About|\n",
      "|          Add Friend|\n",
      "|     Add to Playlist|\n",
      "|              Cancel|\n",
      "|Cancellation Conf...|\n",
      "|           Downgrade|\n",
      "|               Error|\n",
      "|                Help|\n",
      "|                Home|\n",
      "|              Logout|\n",
      "|            NextSong|\n",
      "|         Roll Advert|\n",
      "|       Save Settings|\n",
      "|            Settings|\n",
      "|    Submit Downgrade|\n",
      "|      Submit Upgrade|\n",
      "|         Thumbs Down|\n",
      "|           Thumbs Up|\n",
      "|             Upgrade|\n",
      "+--------------------+\n",
      "\n"
     ]
    }
   ],
   "source": [
    "print(\"Columns in df:\")\n",
    "print(df.columns)\n",
    "print(\"\\nEvent types:\")\n",
    "df.select(\"page\").dropDuplicates().orderBy(df.page.asc()).show()"
   ]
  },
  {
   "cell_type": "code",
   "execution_count": 13,
   "metadata": {
    "scrolled": true
   },
   "outputs": [],
   "source": [
    "# Calculate songs per user\n",
    "df_songs_per_user = df.where(df.page == \"NextSong\").select([\"userId\", \"page\"]).groupBy([\"userId\"]).count()\n",
    "df_songs_per_user = df_songs_per_user.withColumnRenamed(\"count\", \"songs_listened\")"
   ]
  },
  {
   "cell_type": "code",
   "execution_count": 14,
   "metadata": {},
   "outputs": [],
   "source": [
    "# Calculate ads per user\n",
    "df_ads_per_user = df.where(df.page == \"Roll Advert\").select([\"userId\", \"page\"]).groupBy([\"userId\"]).count()\n",
    "df_ads_per_user = df_ads_per_user.withColumnRenamed(\"count\", \"adverts_rolled\")"
   ]
  },
  {
   "cell_type": "code",
   "execution_count": 15,
   "metadata": {},
   "outputs": [],
   "source": [
    "# Calculate friends added per user\n",
    "df_friends_added_per_user = df.where(df.page == \"Add Friend\").select([\"userId\", \"page\"]).groupBy([\"userId\"]).count()\n",
    "df_friends_added_per_user = df_friends_added_per_user.withColumnRenamed(\"count\", \"friends_added\")"
   ]
  },
  {
   "cell_type": "code",
   "execution_count": 16,
   "metadata": {},
   "outputs": [],
   "source": [
    "# Calculate upgrades to premium per user\n",
    "df_upgrades_per_user = df.where(df.page == \"Submit Upgrade\").select([\"userId\", \"page\"]).groupBy([\"userId\"]).count()\n",
    "df_upgrades_per_user = df_upgrades_per_user.withColumnRenamed(\"count\", \"times_upgraded\")"
   ]
  },
  {
   "cell_type": "code",
   "execution_count": 17,
   "metadata": {},
   "outputs": [],
   "source": [
    "# Calculate downgrades for free per user\n",
    "df_downgrades_per_user = df.where(df.page == \"Submit Downgrade\").select([\"userId\", \"page\"]).groupBy([\"userId\"]).count()\n",
    "df_downgrades_per_user = df_downgrades_per_user.withColumnRenamed(\"count\", \"times_downgraded\")"
   ]
  },
  {
   "cell_type": "code",
   "execution_count": 18,
   "metadata": {},
   "outputs": [],
   "source": [
    "# Calculate playlist additions per user\n",
    "df_playlist_adds_per_user = df.where(df.page == \"Add to Playlist\").select([\"userId\", \"page\"]).groupBy([\"userId\"]).count()\n",
    "df_playlist_adds_per_user = df_playlist_adds_per_user.withColumnRenamed(\"count\", \"playlist_additions\")"
   ]
  },
  {
   "cell_type": "code",
   "execution_count": 19,
   "metadata": {},
   "outputs": [],
   "source": [
    "# Calculate errors per user\n",
    "df_errors_per_user = df.where(df.page == \"Error\").select([\"userId\", \"page\"]).groupBy([\"userId\"]).count()\n",
    "df_errors_per_user = df_errors_per_user.withColumnRenamed(\"count\", \"errors\")"
   ]
  },
  {
   "cell_type": "code",
   "execution_count": 20,
   "metadata": {},
   "outputs": [],
   "source": [
    "# Calculate help access per user\n",
    "df_help_per_user = df.where(df.page == \"Help\").select([\"userId\", \"page\"]).groupBy([\"userId\"]).count()\n",
    "df_help_per_user = df_help_per_user.withColumnRenamed(\"count\", \"help_access_count\")"
   ]
  },
  {
   "cell_type": "code",
   "execution_count": 21,
   "metadata": {},
   "outputs": [],
   "source": [
    "# Calculate logouts per user\n",
    "df_logouts_per_user = df.where(df.page == \"Logout\").select([\"userId\", \"page\"]).groupBy([\"userId\"]).count()\n",
    "df_logouts_per_user = df_logouts_per_user.withColumnRenamed(\"count\", \"logouts\")"
   ]
  },
  {
   "cell_type": "code",
   "execution_count": 22,
   "metadata": {},
   "outputs": [],
   "source": [
    "# Calculate thumbs up per user\n",
    "df_thumbs_up_per_user = df.where(df.page == \"Thumbs Up\").select([\"userId\", \"page\"]).groupBy([\"userId\"]).count()\n",
    "df_thumbs_up_per_user = df_thumbs_up_per_user.withColumnRenamed(\"count\", \"thumbs_up_given\")"
   ]
  },
  {
   "cell_type": "code",
   "execution_count": 23,
   "metadata": {},
   "outputs": [],
   "source": [
    "# Calculate thumbs down per user\n",
    "df_thumbs_down_per_user = df.where(df.page == \"Thumbs Down\").select([\"userId\", \"page\"]).groupBy([\"userId\"]).count()\n",
    "df_thumbs_down_per_user = df_thumbs_down_per_user.withColumnRenamed(\"count\", \"thumbs_down_given\")"
   ]
  },
  {
   "cell_type": "code",
   "execution_count": 24,
   "metadata": {},
   "outputs": [
    {
     "name": "stdout",
     "output_type": "stream",
     "text": [
      "+------+-------------+-------------+----------+\n",
      "|userId|   last_login| registration|  user_age|\n",
      "+------+-------------+-------------+----------+\n",
      "|100010|1542823952000|1538016340000|4807612000|\n",
      "+------+-------------+-------------+----------+\n",
      "only showing top 1 row\n",
      "\n"
     ]
    }
   ],
   "source": [
    "# Calculate time registered (\"user age\")\n",
    "df_age_per_user = df.groupBy(\"userId\").agg(f.max('ts').alias(\"last_login\"), \\\n",
    "    f.min('registration').alias(\"registration\"))\n",
    "\n",
    "df_age_per_user = df_age_per_user.withColumn(\"user_age\", df_age_per_user.last_login - df_age_per_user.registration)\n",
    "\n",
    "df_age_per_user.show(1)"
   ]
  },
  {
   "cell_type": "markdown",
   "metadata": {},
   "source": [
    "#### Number of sessions\n",
    "The number of sessions is calculated by calculating the **distinct count of session IDs per user**. \n",
    "- It appears the session ID itself does not represent the number of sesssion of that user, as they usually don't follow the numerical series 1..n but are fragmentary. Therefore I can not use the **max sessionId per user** as session count. \n",
    "- The last event of each session is not necessarily a \"logout\" and the first event is not always the \"Home\" page, but they can happen within one session Id. This means I also can't use the **number of \"Home\" pages per user** as session count."
   ]
  },
  {
   "cell_type": "code",
   "execution_count": 25,
   "metadata": {},
   "outputs": [
    {
     "name": "stdout",
     "output_type": "stream",
     "text": [
      "Illustrates the points mentioned in the markdown above.\n",
      "+---------+---------------+\n",
      "|sessionId|           page|\n",
      "+---------+---------------+\n",
      "|        2|       NextSong|\n",
      "|        2|    Roll Advert|\n",
      "|        2|       NextSong|\n",
      "|        2|       NextSong|\n",
      "|        2|      Thumbs Up|\n",
      "|        2|       NextSong|\n",
      "|        2|Add to Playlist|\n",
      "|       44|       NextSong|\n",
      "|       44|       NextSong|\n",
      "|       44|       NextSong|\n",
      "|       44|       NextSong|\n",
      "|       44|    Roll Advert|\n",
      "|       44|       NextSong|\n",
      "|       44|       NextSong|\n",
      "|       44|          About|\n",
      "|       44|     Add Friend|\n",
      "|       44|           Home|\n",
      "|       44|       Settings|\n",
      "|       44|       NextSong|\n",
      "|       44|           Home|\n",
      "|       44|     Add Friend|\n",
      "|       44|       NextSong|\n",
      "|       44|       NextSong|\n",
      "|       44|       NextSong|\n",
      "|       44|       NextSong|\n",
      "|       44|       NextSong|\n",
      "|       44|      Thumbs Up|\n",
      "|       44|       NextSong|\n",
      "|       44|       NextSong|\n",
      "|       44|       NextSong|\n",
      "|       44|       NextSong|\n",
      "|       44|       NextSong|\n",
      "|       44|       NextSong|\n",
      "|       44|    Roll Advert|\n",
      "|       44|       NextSong|\n",
      "|       44|       NextSong|\n",
      "|       44|         Logout|\n",
      "|      114|           Home|\n",
      "|      114|       NextSong|\n",
      "|      114|       NextSong|\n",
      "|      114|    Roll Advert|\n",
      "|      114|       NextSong|\n",
      "|      114|       NextSong|\n",
      "|      114|       NextSong|\n",
      "|      114|       NextSong|\n",
      "|      114|       NextSong|\n",
      "|      114|       NextSong|\n",
      "|      114|Add to Playlist|\n",
      "|      114|       NextSong|\n",
      "|      114|        Upgrade|\n",
      "|      114|       NextSong|\n",
      "|      114|       NextSong|\n",
      "|      114|       NextSong|\n",
      "|      114|       NextSong|\n",
      "|      114|      Thumbs Up|\n",
      "|      114|       NextSong|\n",
      "|      114|       NextSong|\n",
      "|      114|       NextSong|\n",
      "|      114|       NextSong|\n",
      "|      114|       NextSong|\n",
      "|      114|       NextSong|\n",
      "|      114|       NextSong|\n",
      "|      114|       NextSong|\n",
      "|      114|       NextSong|\n",
      "|      114|           Home|\n",
      "|      114|       NextSong|\n",
      "|      114|       NextSong|\n",
      "|      114|       NextSong|\n",
      "|      114|       NextSong|\n",
      "|      114|       NextSong|\n",
      "|      114|       NextSong|\n",
      "|      114|       NextSong|\n",
      "|      114|       NextSong|\n",
      "|      114|       NextSong|\n",
      "|      114|       NextSong|\n",
      "|      114|      Thumbs Up|\n",
      "|      114|       NextSong|\n",
      "|      114|       NextSong|\n",
      "|      114|    Roll Advert|\n",
      "|      163|          About|\n",
      "|      163|       Settings|\n",
      "|      163|           Home|\n",
      "|      163|       NextSong|\n",
      "|      163|           Home|\n",
      "|      163|       NextSong|\n",
      "|      163|       NextSong|\n",
      "|      163|      Thumbs Up|\n",
      "|      163|       NextSong|\n",
      "|      163|       NextSong|\n",
      "|      163|       NextSong|\n",
      "|      163|       NextSong|\n",
      "|      163|       NextSong|\n",
      "|      163|       NextSong|\n",
      "|      163|    Thumbs Down|\n",
      "|      163|       NextSong|\n",
      "|      163|       NextSong|\n",
      "|      163|       NextSong|\n",
      "|      163|       NextSong|\n",
      "|      163|      Thumbs Up|\n",
      "|      163|       NextSong|\n",
      "|      163|       NextSong|\n",
      "|      163|       NextSong|\n",
      "|      163|    Roll Advert|\n",
      "|      163|       NextSong|\n",
      "|      163|       NextSong|\n",
      "|      163|       NextSong|\n",
      "|      163|    Roll Advert|\n",
      "|      163|       NextSong|\n",
      "|      163|Add to Playlist|\n",
      "|      163|       NextSong|\n",
      "|      163|       NextSong|\n",
      "|      163|       NextSong|\n",
      "|      163|       NextSong|\n",
      "|      163|       NextSong|\n",
      "|      163|       NextSong|\n",
      "|      163|       NextSong|\n",
      "|      163|       NextSong|\n",
      "|      163|       NextSong|\n",
      "|      163|        Upgrade|\n",
      "|      163| Submit Upgrade|\n",
      "|      163|           Home|\n",
      "|      163|         Logout|\n",
      "|      163|           Home|\n",
      "|      163|       NextSong|\n",
      "|      163|       NextSong|\n",
      "|      163|       NextSong|\n",
      "|      163|       NextSong|\n",
      "|      163|       NextSong|\n",
      "|      163|       NextSong|\n",
      "|      163|       NextSong|\n",
      "|      163|      Downgrade|\n",
      "|      163|      Downgrade|\n",
      "|      163|           Help|\n",
      "|      163|       NextSong|\n",
      "|      163|       NextSong|\n",
      "|      163|       NextSong|\n",
      "|      163|       NextSong|\n",
      "|      163|       NextSong|\n",
      "|      163|       NextSong|\n",
      "|      163|       NextSong|\n",
      "|      163|       NextSong|\n",
      "|      163|       NextSong|\n",
      "|      163|       NextSong|\n",
      "|      163|       NextSong|\n",
      "|      163|     Add Friend|\n",
      "|      163|       NextSong|\n",
      "|      163|       NextSong|\n",
      "|      163|       NextSong|\n",
      "|      163|       NextSong|\n",
      "|      163|       NextSong|\n",
      "|      163|       NextSong|\n",
      "|      163|       NextSong|\n",
      "|      163|       NextSong|\n",
      "|      163|       NextSong|\n",
      "|      163|       NextSong|\n",
      "|      163|       NextSong|\n",
      "|      163|       NextSong|\n",
      "|      163|      Thumbs Up|\n",
      "|      163|       NextSong|\n",
      "|      163|       NextSong|\n",
      "|      163|       NextSong|\n",
      "|      163|       NextSong|\n",
      "|      163|           Home|\n",
      "|      163|       NextSong|\n",
      "|      163|      Thumbs Up|\n",
      "|      163|       NextSong|\n",
      "|      163|       NextSong|\n",
      "|      163|       NextSong|\n",
      "|      163|       NextSong|\n",
      "|      163|         Logout|\n",
      "|      163|           Home|\n",
      "|      163|       NextSong|\n",
      "|      163|       NextSong|\n",
      "|      163|       NextSong|\n",
      "|      163|       NextSong|\n",
      "|      163|Add to Playlist|\n",
      "|      163|       NextSong|\n",
      "|      163|       NextSong|\n",
      "|      163|       NextSong|\n",
      "|      163|       NextSong|\n",
      "|      163|       NextSong|\n",
      "|      163|       NextSong|\n",
      "|      163|       NextSong|\n",
      "|      163|       NextSong|\n",
      "|      163|       NextSong|\n",
      "|      163|       NextSong|\n",
      "|      163|       NextSong|\n",
      "|      163|    Thumbs Down|\n",
      "|      163|       NextSong|\n",
      "|      163|       NextSong|\n",
      "|      163|      Downgrade|\n",
      "|      163|       NextSong|\n",
      "|      163|       NextSong|\n",
      "|      163|       Settings|\n",
      "|      163|       NextSong|\n",
      "|      163|Add to Playlist|\n",
      "|      163|       NextSong|\n",
      "|      163|      Thumbs Up|\n",
      "|      163|       NextSong|\n",
      "|      163|       NextSong|\n",
      "|      163|       NextSong|\n",
      "|      163|       NextSong|\n",
      "|      163|       NextSong|\n",
      "|      163|       NextSong|\n",
      "|      163|       NextSong|\n",
      "|      163|       NextSong|\n",
      "|      163|       NextSong|\n",
      "|      163|       NextSong|\n",
      "|      163|       NextSong|\n",
      "|      163|    Thumbs Down|\n",
      "|      163|       NextSong|\n",
      "|      163|       NextSong|\n",
      "|      163|       NextSong|\n",
      "|      163|       NextSong|\n",
      "|      163|       NextSong|\n",
      "|      163|       NextSong|\n",
      "|      163|       NextSong|\n",
      "|      163|       NextSong|\n",
      "|      163|    Thumbs Down|\n",
      "|      163|       NextSong|\n",
      "|      163|       NextSong|\n",
      "|      163|       NextSong|\n",
      "|      163|       NextSong|\n",
      "|      163|       NextSong|\n",
      "|      163|       NextSong|\n",
      "|      163|      Thumbs Up|\n",
      "|      163|       NextSong|\n",
      "|      163|       NextSong|\n",
      "|      163|      Thumbs Up|\n",
      "|      163|       NextSong|\n",
      "|      163|     Add Friend|\n",
      "|      174|           Home|\n",
      "|      174|       NextSong|\n",
      "|      174|           Home|\n",
      "|      174|       NextSong|\n",
      "|      174|       NextSong|\n",
      "|      174|       NextSong|\n",
      "|      174|      Thumbs Up|\n",
      "|      174|       NextSong|\n",
      "|      174|       NextSong|\n",
      "|      174|       NextSong|\n",
      "|      174|       NextSong|\n",
      "|      174|       NextSong|\n",
      "|      174|       NextSong|\n",
      "|      174|       NextSong|\n",
      "|      174|       NextSong|\n",
      "|      174|       NextSong|\n",
      "|      174|      Thumbs Up|\n",
      "|      174|       NextSong|\n",
      "|      174|       NextSong|\n",
      "|      174|       NextSong|\n",
      "|      174|       NextSong|\n",
      "|      174|       NextSong|\n",
      "|      174|    Thumbs Down|\n",
      "|      174|       NextSong|\n",
      "|      174|    Thumbs Down|\n",
      "|      174|       NextSong|\n",
      "|      174|       NextSong|\n",
      "|      174|       NextSong|\n",
      "|      174|Add to Playlist|\n",
      "|      174|       NextSong|\n",
      "|      174|       NextSong|\n",
      "|      174|       NextSong|\n",
      "|      174|       NextSong|\n",
      "|      174|       NextSong|\n",
      "|      174|       NextSong|\n",
      "|      174|       NextSong|\n",
      "|      174|       NextSong|\n",
      "|      174|       NextSong|\n",
      "|      174|       NextSong|\n",
      "|      174|       NextSong|\n",
      "|      174|       NextSong|\n",
      "|      174|       NextSong|\n",
      "|      174|       NextSong|\n",
      "|      174|       NextSong|\n",
      "|      174|       NextSong|\n",
      "|      174|       NextSong|\n",
      "|      174|       NextSong|\n",
      "|      174|       NextSong|\n",
      "|      174|       NextSong|\n",
      "|      174|       NextSong|\n",
      "|      174|       NextSong|\n",
      "|      174|       NextSong|\n",
      "|      174|       NextSong|\n",
      "|      174|       NextSong|\n",
      "|      174|       NextSong|\n",
      "|      174|       NextSong|\n",
      "|      174|       NextSong|\n",
      "|      174|       NextSong|\n",
      "|      174|       NextSong|\n",
      "|      174|       NextSong|\n",
      "|      174|       NextSong|\n",
      "|      174|       NextSong|\n",
      "|      174|       NextSong|\n",
      "|      174|       NextSong|\n",
      "|      174|       NextSong|\n",
      "|      174|       NextSong|\n",
      "|      174|       NextSong|\n",
      "|      174|       NextSong|\n",
      "|      174|       NextSong|\n",
      "|      174|       NextSong|\n",
      "|      174|       NextSong|\n",
      "|      174|       NextSong|\n",
      "|      174|       NextSong|\n",
      "|      174|       NextSong|\n",
      "|      174|      Thumbs Up|\n",
      "|      174|       NextSong|\n",
      "|      174|       NextSong|\n",
      "|      174|       NextSong|\n",
      "|      174|       NextSong|\n",
      "|      174|       NextSong|\n",
      "|      174|           Home|\n",
      "|      174|       NextSong|\n",
      "|      174|       NextSong|\n",
      "|      174|       NextSong|\n",
      "|      174|       NextSong|\n",
      "|      174|       NextSong|\n",
      "|      174|       NextSong|\n",
      "|      174|       NextSong|\n",
      "|      174|      Thumbs Up|\n",
      "|      174|       NextSong|\n",
      "|      174|       NextSong|\n",
      "|      174|       NextSong|\n",
      "|      174|       NextSong|\n",
      "|      174|       NextSong|\n",
      "|      174|       NextSong|\n",
      "|      174|       NextSong|\n",
      "|      174|       NextSong|\n",
      "|      174|       NextSong|\n",
      "|      174|       NextSong|\n",
      "|      174|       NextSong|\n",
      "|      174|           Home|\n",
      "|      174|       NextSong|\n",
      "|      174|       NextSong|\n",
      "|      205|       NextSong|\n",
      "|      205|       NextSong|\n",
      "|      205|       NextSong|\n",
      "|      205|       NextSong|\n",
      "|      205|       NextSong|\n",
      "|      205|       NextSong|\n",
      "|      205|       NextSong|\n",
      "|      205|       NextSong|\n",
      "|      205|       NextSong|\n",
      "|      205|       NextSong|\n",
      "|      205|       NextSong|\n",
      "|      205|       NextSong|\n",
      "|      205|       NextSong|\n",
      "|      205|       NextSong|\n",
      "|      205|       NextSong|\n",
      "|      205|       NextSong|\n",
      "|      205|       NextSong|\n",
      "|      205|       NextSong|\n",
      "|      205|       NextSong|\n",
      "|      205|       NextSong|\n",
      "|      205|      Thumbs Up|\n",
      "|      205|       NextSong|\n",
      "|      205|       NextSong|\n",
      "|      205|       NextSong|\n",
      "|      205|           Help|\n",
      "|      205|       NextSong|\n",
      "|      205|      Thumbs Up|\n",
      "|      205|       NextSong|\n",
      "|      205|       NextSong|\n",
      "|      205|       NextSong|\n",
      "|      205|       NextSong|\n",
      "|      205|Add to Playlist|\n",
      "|      205|       NextSong|\n",
      "|      205|       NextSong|\n",
      "|      205|       NextSong|\n",
      "|      205|       NextSong|\n",
      "|      205|       NextSong|\n",
      "|      205|       NextSong|\n",
      "|      205|       NextSong|\n",
      "|      205|       NextSong|\n",
      "|      205|       NextSong|\n",
      "|      205|           Home|\n",
      "|      205|       NextSong|\n",
      "|      205|       NextSong|\n",
      "|      205|         Logout|\n",
      "|      205|           Home|\n",
      "|      205|       NextSong|\n",
      "|      205|       NextSong|\n",
      "|      205|       NextSong|\n",
      "|      205|       NextSong|\n",
      "|      205|       NextSong|\n",
      "|      205|       NextSong|\n",
      "|      205|       NextSong|\n",
      "|      205|       NextSong|\n",
      "|      205|Add to Playlist|\n",
      "|      205|       NextSong|\n",
      "|      205|       NextSong|\n",
      "|      205|       NextSong|\n",
      "|      205|       NextSong|\n",
      "|      205|       NextSong|\n",
      "|      205|       NextSong|\n",
      "|      205|       NextSong|\n",
      "|      205|       NextSong|\n",
      "|      205|       NextSong|\n",
      "|      205|       NextSong|\n",
      "|      205|       NextSong|\n",
      "|      205|      Thumbs Up|\n",
      "|      205|       NextSong|\n",
      "|      205|       NextSong|\n",
      "|      205|       NextSong|\n",
      "|      205|       NextSong|\n",
      "|      205|       NextSong|\n",
      "|      205|       NextSong|\n",
      "|      205|       NextSong|\n",
      "|      205|       NextSong|\n",
      "|      205|       NextSong|\n",
      "|      205|           Home|\n",
      "|      205|       NextSong|\n",
      "|      205|       NextSong|\n",
      "|      205|       NextSong|\n",
      "|      205|       NextSong|\n",
      "|      205|       NextSong|\n",
      "|      205|       NextSong|\n",
      "|      205|       NextSong|\n",
      "|      205|       NextSong|\n",
      "|      205|       NextSong|\n",
      "|      205|         Logout|\n",
      "|      205|           Home|\n",
      "|      205|       NextSong|\n",
      "|      205|       NextSong|\n",
      "|      205|       NextSong|\n",
      "|      205|       NextSong|\n",
      "|      205|       NextSong|\n",
      "|      205|       NextSong|\n",
      "|      205|       NextSong|\n",
      "|      205|       NextSong|\n",
      "|      205|       NextSong|\n",
      "|      205|           Home|\n",
      "|      205|       NextSong|\n",
      "|      205|           Home|\n",
      "|      205|       NextSong|\n",
      "|      205|       NextSong|\n",
      "|      205|      Downgrade|\n",
      "|      205|      Downgrade|\n",
      "|      205|       NextSong|\n",
      "|      205|       NextSong|\n",
      "|      205|       NextSong|\n",
      "|      205|       NextSong|\n",
      "|      205|       NextSong|\n",
      "|      205|       NextSong|\n",
      "|      205|       NextSong|\n",
      "|      205|       NextSong|\n",
      "|      205|       NextSong|\n",
      "|      205|       NextSong|\n",
      "|      205|       NextSong|\n",
      "|      205|      Thumbs Up|\n",
      "|      205|       NextSong|\n",
      "|      205|       NextSong|\n",
      "|      205|       NextSong|\n",
      "|      205|       NextSong|\n",
      "|      205|       NextSong|\n",
      "|      205|       NextSong|\n",
      "|      205|       NextSong|\n",
      "|      205|       NextSong|\n",
      "|      205|      Thumbs Up|\n",
      "|      205|       NextSong|\n",
      "|      205|       NextSong|\n",
      "|      205|       NextSong|\n",
      "|      205|       NextSong|\n",
      "|      205|          About|\n",
      "|      205|       NextSong|\n",
      "|      205|       NextSong|\n",
      "|      205|       NextSong|\n",
      "|      205|       NextSong|\n",
      "|      205|       NextSong|\n",
      "|      205|       NextSong|\n",
      "|      205|       NextSong|\n",
      "|      205|       NextSong|\n",
      "|      205|       NextSong|\n",
      "|      205|      Thumbs Up|\n",
      "+---------+---------------+\n",
      "\n"
     ]
    }
   ],
   "source": [
    "print(\"Illustrates the points mentioned in the markdown above.\")\n",
    "df.where(df.userId == 200002).select(\"sessionId\", \"page\").orderBy(\"ts\").show(1000)"
   ]
  },
  {
   "cell_type": "code",
   "execution_count": 26,
   "metadata": {},
   "outputs": [],
   "source": [
    "# Calculate number of sessions per user\n",
    "df_sessions_per_user = df.select([\"userId\", \"sessionId\"]).groupBy(\"userId\").agg(countDistinct(\"sessionId\"))\n",
    "df_sessions_per_user = df_sessions_per_user.withColumnRenamed(\"count(sessionId)\", \"session_count\")"
   ]
  },
  {
   "cell_type": "code",
   "execution_count": 27,
   "metadata": {},
   "outputs": [
    {
     "name": "stdout",
     "output_type": "stream",
     "text": [
      "+------+---------+-------------+-------------+--------------+------------------------+-----------------------+\n",
      "|userId|sessionId|session_start|  session_end|session_length|session_end_last_session|time_since_last_session|\n",
      "+------+---------+-------------+-------------+--------------+------------------------+-----------------------+\n",
      "|100010|       31|1539003534000|1539010247000|       6713000|                    null|                   null|\n",
      "|100010|       78|1539603322000|1539604675000|       1353000|           1539010247000|              593075000|\n",
      "|100010|      113|1539699018000|1539707924000|       8906000|           1539604675000|               94343000|\n",
      "|100010|      118|1540045112000|1540055028000|       9916000|           1539707924000|              337188000|\n",
      "|100010|      133|1541411290000|1541424085000|      12795000|           1540055028000|             1356262000|\n",
      "|100010|      174|1541731560000|1541750940000|      19380000|           1541424085000|              307475000|\n",
      "|100010|      187|1542818132000|1542823952000|       5820000|           1541750940000|             1067192000|\n",
      "|200002|        2|1538393430000|1538394156000|        726000|                    null|                   null|\n",
      "|200002|       44|1538501988000|1538506697000|       4709000|           1538394156000|              107832000|\n",
      "|200002|      114|1539708704000|1539716923000|       8219000|           1538506697000|             1202007000|\n",
      "|200002|      163|1539847677000|1539877482000|      29805000|           1539716923000|              130754000|\n",
      "|200002|      174|1540235331000|1540257929000|      22598000|           1539877482000|              357849000|\n",
      "|200002|      205|1542294507000|1542324354000|      29847000|           1540257929000|             2036578000|\n",
      "|   125|      174|1539317144000|1539318918000|       1774000|                    null|                   null|\n",
      "|   124|      123|1538407030000|1538472728000|      65698000|                    null|                   null|\n",
      "|   124|      333|1538566433000|1538603467000|      37034000|           1538472728000|               93705000|\n",
      "|   124|      420|1538657269000|1538750836000|      93567000|           1538603467000|               53802000|\n",
      "|   124|      511|1538765854000|1538767104000|       1250000|           1538750836000|               15018000|\n",
      "|   124|      517|1539014481000|1539043022000|      28541000|           1538767104000|              247377000|\n",
      "|   124|      628|1539132481000|1539133066000|        585000|           1539043022000|               89459000|\n",
      "+------+---------+-------------+-------------+--------------+------------------------+-----------------------+\n",
      "only showing top 20 rows\n",
      "\n"
     ]
    }
   ],
   "source": [
    "# Calculate session start and session end and session length\n",
    "df_session_info_per_user = df.groupBy(\"userId\", \"sessionId\").agg(f.min('ts').alias(\"session_start\"), \\\n",
    "    f.max('ts').alias(\"session_end\"))\n",
    "\n",
    "df_session_info_per_user = df_session_info_per_user.withColumn(\"session_length\", \\\n",
    "    df_session_info_per_user.session_end - df_session_info_per_user.session_start)\n",
    "\n",
    "\n",
    "# Calculate average session length and average time between sessions\n",
    "df_session_info_per_user = df_session_info_per_user.withColumn('session_end_last_session',\n",
    "                        f.lag(df_session_info_per_user['session_end'], 1)\n",
    "                                 .over(Window.partitionBy(\"userId\").orderBy(\"userId\")))\n",
    "\n",
    "df_session_info_per_user = df_session_info_per_user.withColumn(\"time_since_last_session\", \\\n",
    "    df_session_info_per_user.session_start - df_session_info_per_user.session_end_last_session)\n",
    "\n",
    "df_session_info_per_user.show()"
   ]
  },
  {
   "cell_type": "code",
   "execution_count": 28,
   "metadata": {},
   "outputs": [
    {
     "name": "stdout",
     "output_type": "stream",
     "text": [
      "+------+--------------------+-------------------------+\n",
      "|userId|  avg_session_length|avg_time_between_sessions|\n",
      "+------+--------------------+-------------------------+\n",
      "|100010|           9269000.0|               6.259225E8|\n",
      "|200002|            1.5984E7|                7.67004E8|\n",
      "|   125|           1774000.0|                     null|\n",
      "|   124|3.4739655172413796E7|     1.4915307142857143E8|\n",
      "|    51|           5.23414E7|       9.33251111111111E7|\n",
      "|     7|   5258428.571428572|               7.251555E8|\n",
      "|    15|            3.1697E7|     3.0406771428571427E8|\n",
      "|    54| 1.933737837837838E7|               8.283875E7|\n",
      "|   155|3.2914333333333332E7|               4.068078E8|\n",
      "|100014|1.1088833333333334E7|                6.99396E8|\n",
      "|   132|        2.99370625E7|               2.589322E8|\n",
      "|   154|           6641000.0|              1.0694535E9|\n",
      "|   101|           4.90548E7|       9.77648888888889E7|\n",
      "|    11|           9682625.0|               2.963434E8|\n",
      "|   138|           3.38536E7|      3.098019285714286E8|\n",
      "|300017|1.3999444444444444E7|      6.815283870967741E7|\n",
      "|100021|           1.29136E7|              9.6573475E8|\n",
      "|    29| 2.194541176470588E7|      9.081163636363636E7|\n",
      "|    69|3.1601111111111112E7|              5.1510275E8|\n",
      "|   112|           5067100.0|      5.404053333333334E8|\n",
      "+------+--------------------+-------------------------+\n",
      "only showing top 20 rows\n",
      "\n"
     ]
    }
   ],
   "source": [
    "df_session_info_per_user = df_session_info_per_user.groupBy(\"userId\").agg(f.mean('session_length'), f.mean('time_since_last_session'))\n",
    "df_session_info_per_user = df_session_info_per_user.withColumnRenamed(\"avg(session_length)\", \"avg_session_length\")\n",
    "df_session_info_per_user = df_session_info_per_user.withColumnRenamed(\"avg(time_since_last_session)\", \"avg_time_between_sessions\")\n",
    "\n",
    "df_session_info_per_user.show()"
   ]
  },
  {
   "cell_type": "code",
   "execution_count": 29,
   "metadata": {},
   "outputs": [
    {
     "name": "stdout",
     "output_type": "stream",
     "text": [
      "How often is average time between sessions NULL due to user having only one session?\n",
      "+------+------------------+-------------------------+\n",
      "|userId|avg_session_length|avg_time_between_sessions|\n",
      "+------+------------------+-------------------------+\n",
      "|     0|                 0|                       15|\n",
      "+------+------------------+-------------------------+\n",
      "\n"
     ]
    }
   ],
   "source": [
    "print(\"How often is average time between sessions NULL due to user having only one session?\")\n",
    "df_session_info_per_user.select([count(when(isnull(c), c)).alias(c) for c in df_session_info_per_user.columns]).show()"
   ]
  },
  {
   "cell_type": "markdown",
   "metadata": {},
   "source": [
    "After the join the NULL values will become 0."
   ]
  },
  {
   "cell_type": "code",
   "execution_count": 30,
   "metadata": {},
   "outputs": [],
   "source": [
    "# Join aggregates together to one table\n",
    "df_user_agg = df_user_agg.join(df_songs_per_user, on=['userId'], how='left')\n",
    "df_user_agg = df_user_agg.join(df_ads_per_user, on=['userId'], how='left')\n",
    "df_user_agg = df_user_agg.join(df_friends_added_per_user, on=['userId'], how='left')\n",
    "df_user_agg = df_user_agg.join(df_playlist_adds_per_user, on=['userId'], how='left')\n",
    "df_user_agg = df_user_agg.join(df_errors_per_user, on=['userId'], how='left')\n",
    "df_user_agg = df_user_agg.join(df_help_per_user, on=['userId'], how='left')\n",
    "df_user_agg = df_user_agg.join(df_logouts_per_user, on=['userId'], how='left')\n",
    "df_user_agg = df_user_agg.join(df_thumbs_up_per_user, on=['userId'], how='left')\n",
    "df_user_agg = df_user_agg.join(df_thumbs_down_per_user, on=['userId'], how='left')\n",
    "df_user_agg = df_user_agg.join(df_upgrades_per_user, on=['userId'], how='left')\n",
    "df_user_agg = df_user_agg.join(df_downgrades_per_user, on=['userId'], how='left')\n",
    "df_user_agg = df_user_agg.join(df_age_per_user, on=['userId'], how='left')\n",
    "df_user_agg = df_user_agg.join(df_sessions_per_user, on=['userId'], how='left')\n",
    "df_user_agg = df_user_agg.join(df_session_info_per_user, on=['userId'], how='left')\n",
    "\n",
    "# Fill null values created after join with 0, as they represent missing counts\n",
    "df_user_agg = df_user_agg.na.fill(0)"
   ]
  },
  {
   "cell_type": "code",
   "execution_count": 31,
   "metadata": {
    "scrolled": true
   },
   "outputs": [
    {
     "name": "stdout",
     "output_type": "stream",
     "text": [
      "-RECORD 0----------------------------------\n",
      " userId                    | 125           \n",
      " gender                    | M             \n",
      " churned                   | 1             \n",
      " songs_listened            | 8             \n",
      " adverts_rolled            | 1             \n",
      " friends_added             | 0             \n",
      " playlist_additions        | 0             \n",
      " errors                    | 0             \n",
      " help_access_count         | 0             \n",
      " logouts                   | 0             \n",
      " thumbs_up_given           | 0             \n",
      " thumbs_down_given         | 0             \n",
      " times_upgraded            | 0             \n",
      " times_downgraded          | 0             \n",
      " last_login                | 1539318918000 \n",
      " registration              | 1533157139000 \n",
      " user_age                  | 6161779000    \n",
      " session_count             | 1             \n",
      " avg_session_length        | 1774000.0     \n",
      " avg_time_between_sessions | 0.0           \n",
      "\n"
     ]
    }
   ],
   "source": [
    "df_user_agg.where(df_user_agg.userId == 125).show(1, vertical=True)"
   ]
  },
  {
   "cell_type": "markdown",
   "metadata": {},
   "source": [
    "## 3. Explore Data\n"
   ]
  },
  {
   "cell_type": "code",
   "execution_count": 32,
   "metadata": {},
   "outputs": [
    {
     "name": "stdout",
     "output_type": "stream",
     "text": [
      "Number of distinct users:\n",
      "225\n",
      "\n",
      "Number of churned users:\n",
      "52\n"
     ]
    }
   ],
   "source": [
    "print('Number of distinct users:')\n",
    "print(len(df.dropDuplicates(['userId']).collect()))\n",
    "print(\"\\nNumber of churned users:\")\n",
    "print(len(churned_users.collect()))"
   ]
  },
  {
   "cell_type": "markdown",
   "metadata": {},
   "source": [
    "#### Observe different aggregates"
   ]
  },
  {
   "cell_type": "code",
   "execution_count": 33,
   "metadata": {},
   "outputs": [
    {
     "name": "stdout",
     "output_type": "stream",
     "text": [
      "+-------+-------------------+-------------------+------------------+-----------------------+------------------+\n",
      "|churned|avg(songs_listened)|avg(adverts_rolled)|avg(friends_added)|avg(playlist_additions)|       avg(errors)|\n",
      "+-------+-------------------+-------------------+------------------+-----------------------+------------------+\n",
      "|      1|  699.8846153846154| 18.596153846153847| 12.23076923076923|      19.96153846153846|0.6153846153846154|\n",
      "|      0| 1108.1734104046243|  17.14450867052023|21.046242774566473|     31.722543352601157|1.2716763005780347|\n",
      "+-------+-------------------+-------------------+------------------+-----------------------+------------------+\n",
      "\n"
     ]
    }
   ],
   "source": [
    "df_user_agg.groupBy(\"churned\").agg(f.mean('songs_listened'), \\\n",
    "    f.mean('adverts_rolled'), \\\n",
    "    f.mean('friends_added'), \\\n",
    "    f.mean('playlist_additions'), \\\n",
    "    f.mean('errors')).show()"
   ]
  },
  {
   "cell_type": "code",
   "execution_count": 34,
   "metadata": {},
   "outputs": [
    {
     "name": "stdout",
     "output_type": "stream",
     "text": [
      "+-------+--------------------+----------------------+-------------------+---------------------+------------------+----------------------+\n",
      "|churned|avg(thumbs_up_given)|avg(thumbs_down_given)|avg(times_upgraded)|avg(times_downgraded)|      avg(logouts)|avg(help_access_count)|\n",
      "+-------+--------------------+----------------------+-------------------+---------------------+------------------+----------------------+\n",
      "|      1|               35.75|     9.538461538461538| 0.6153846153846154|  0.17307692307692307|10.634615384615385|     4.596153846153846|\n",
      "|      0|   61.80346820809248|     11.84971098265896| 0.7341040462427746|  0.31213872832369943| 15.45086705202312|     7.023121387283237|\n",
      "+-------+--------------------+----------------------+-------------------+---------------------+------------------+----------------------+\n",
      "\n"
     ]
    }
   ],
   "source": [
    "df_user_agg.groupBy(\"churned\").agg(f.mean('thumbs_up_given'), \\\n",
    "    f.mean('thumbs_down_given'), \\\n",
    "    f.mean('times_upgraded'), \\\n",
    "    f.mean('times_downgraded'), \\\n",
    "    f.mean('logouts'), \\\n",
    "    f.mean('help_access_count')).show()"
   ]
  },
  {
   "cell_type": "code",
   "execution_count": 35,
   "metadata": {},
   "outputs": [
    {
     "name": "stdout",
     "output_type": "stream",
     "text": [
      "+-------+-----------------------+------------------+------------------------------+\n",
      "|churned|avg(avg_session_length)|avg(session_count)|avg(avg_time_between_sessions)|\n",
      "+-------+-----------------------+------------------+------------------------------+\n",
      "|      1|    1.557447181734887E7|10.326923076923077|          2.2533990694536653E8|\n",
      "|      0|   1.7805596823630523E7|15.254335260115607|          5.0146069952643836E8|\n",
      "+-------+-----------------------+------------------+------------------------------+\n",
      "\n"
     ]
    }
   ],
   "source": [
    "df_user_agg.groupBy(\"churned\").agg(f.mean('avg_session_length'), \\\n",
    "    f.mean('session_count'), \\\n",
    "    f.mean('avg_time_between_sessions')).show()"
   ]
  },
  {
   "cell_type": "code",
   "execution_count": 36,
   "metadata": {},
   "outputs": [
    {
     "name": "stdout",
     "output_type": "stream",
     "text": [
      "+-------+--------------------+--------------------+------------------+\n",
      "|churned|      avg_last_login|    avg_registration| avg_user_age_days|\n",
      "+-------+--------------------+--------------------+------------------+\n",
      "|      1|2018-10-27 14:03:...|2018-08-31 06:42:...|57.305992922008535|\n",
      "|      0|2018-11-24 12:26:...|2018-08-29 22:32:...| 86.62061938021837|\n",
      "+-------+--------------------+--------------------+------------------+\n",
      "\n"
     ]
    }
   ],
   "source": [
    "# Convert from unix time to normal time to see results in human readable way\n",
    "df_user_agg.groupBy(\"churned\").agg(\\\n",
    "    from_unixtime(f.mean('last_login') / 1000 ,\"yyyy-MM-dd HH:mm:ss:SSS\").alias(\"avg_last_login\"),\n",
    "    from_unixtime(f.mean('registration') / 1000 ,\"yyyy-MM-dd HH:mm:ss:SSS\").alias(\"avg_registration\"), \\\n",
    "    (f.mean('user_age') / 1000/3600/24).alias(\"avg_user_age_days\")).show()"
   ]
  },
  {
   "cell_type": "markdown",
   "metadata": {},
   "source": [
    "# Feature Engineering\n",
    "One Hot Encoding categorical columns (gender) and assembling required subset of features into a feature vector.\n",
    "The output feature column is not scaled yet and therefore called \"features_raw\"."
   ]
  },
  {
   "cell_type": "markdown",
   "metadata": {},
   "source": [
    "#### Select required features"
   ]
  },
  {
   "cell_type": "code",
   "execution_count": 37,
   "metadata": {},
   "outputs": [],
   "source": [
    "# Select required features\n",
    "feature_list = [\"genderIndex\", \"songs_listened\", \"adverts_rolled\", \"friends_added\", \"playlist_additions\",\\\n",
    "               \"errors\", \"help_access_count\", \"logouts\", \"thumbs_up_given\", \"thumbs_down_given\",\\\n",
    "              \"times_upgraded\", \"times_downgraded\", \"user_age\", \"session_count\", \"avg_session_length\", \"avg_time_between_sessions\"]"
   ]
  },
  {
   "cell_type": "markdown",
   "metadata": {},
   "source": [
    "#### One Hot Encoding the Gender Column"
   ]
  },
  {
   "cell_type": "code",
   "execution_count": 38,
   "metadata": {},
   "outputs": [],
   "source": [
    "# Use OneHotEncoding to transform gender into one hot vector \n",
    "stringIndexer = StringIndexer(inputCol=\"gender\", outputCol=\"genderIndex\")\n",
    "model = stringIndexer.fit(df_user_agg)\n",
    "indexed = model.transform(df_user_agg)\n",
    "\n",
    "# In Cloud\n",
    "#encoder = OneHotEncoder(inputCol=\"genderIndex\", outputCol=\"genderIndexVec\")\n",
    "#df_features = encoder.transform(indexed)\n",
    "\n",
    "# Local\n",
    "encoder = OneHotEncoder(inputCol=\"genderIndex\", outputCol=\"genderIndexVec\")\n",
    "encoder.setDropLast(False)\n",
    "ohe = encoder.fit(indexed)\n",
    "df_features = ohe.transform(indexed)"
   ]
  },
  {
   "cell_type": "code",
   "execution_count": 39,
   "metadata": {},
   "outputs": [
    {
     "name": "stdout",
     "output_type": "stream",
     "text": [
      "+------+-----------+--------------+\n",
      "|gender|genderIndex|genderIndexVec|\n",
      "+------+-----------+--------------+\n",
      "|     F|        1.0| (2,[1],[1.0])|\n",
      "|     M|        0.0| (2,[0],[1.0])|\n",
      "|     M|        0.0| (2,[0],[1.0])|\n",
      "|     F|        1.0| (2,[1],[1.0])|\n",
      "|     M|        0.0| (2,[0],[1.0])|\n",
      "+------+-----------+--------------+\n",
      "only showing top 5 rows\n",
      "\n"
     ]
    }
   ],
   "source": [
    "# https://stackoverflow.com/questions/49632830/pyspark-output-of-onehotencoder-looks-odd\n",
    "df_features.select(\"gender\", \"genderIndex\", \"genderIndexVec\").show(5)"
   ]
  },
  {
   "cell_type": "markdown",
   "metadata": {},
   "source": [
    "#### Feature Vector Assembler"
   ]
  },
  {
   "cell_type": "code",
   "execution_count": 40,
   "metadata": {},
   "outputs": [
    {
     "name": "stdout",
     "output_type": "stream",
     "text": [
      "Assembled columns genderIndex, songs_listened, adverts_rolled, friends_added, playlist_additions, errors, help_access_count, logouts, thumbs_up_given, thumbs_down_given, times_upgraded, times_downgraded, user_age, session_count, avg_session_length, avg_time_between_sessions,  to vector column 'features'\n",
      "+------------------------------------------------------------------------------------------------------------------------+-----+\n",
      "|features_raw                                                                                                            |label|\n",
      "+------------------------------------------------------------------------------------------------------------------------+-----+\n",
      "|[1.0,275.0,52.0,4.0,7.0,0.0,2.0,5.0,17.0,5.0,0.0,0.0,4.807612E9,7.0,9269000.0,6.259225E8]                               |0    |\n",
      "|[0.0,387.0,7.0,4.0,8.0,0.0,2.0,5.0,21.0,6.0,1.0,0.0,6.054448E9,6.0,1.5984E7,7.67004E8]                                  |0    |\n",
      "|(16,[1,2,12,13,14],[8.0,1.0,6.161779E9,1.0,1774000.0])                                                                  |1    |\n",
      "|[1.0,4079.0,4.0,74.0,118.0,6.0,23.0,59.0,171.0,41.0,0.0,0.0,1.1366431E10,29.0,3.4739655172413796E7,1.4915307142857143E8]|0    |\n",
      "|[0.0,2111.0,0.0,28.0,52.0,1.0,12.0,24.0,100.0,21.0,0.0,0.0,1.680985E9,10.0,5.23414E7,9.33251111111111E7]                |1    |\n",
      "|[0.0,150.0,16.0,1.0,5.0,1.0,1.0,3.0,7.0,1.0,0.0,0.0,6.288035E9,7.0,5258428.571428572,7.251555E8]                        |0    |\n",
      "|[0.0,1914.0,1.0,31.0,59.0,2.0,8.0,27.0,81.0,14.0,0.0,0.0,4.882773E9,15.0,3.1697E7,3.0406771428571427E8]                 |0    |\n",
      "|[1.0,2841.0,47.0,33.0,72.0,1.0,17.0,36.0,163.0,29.0,1.0,1.0,9.568946E9,37.0,1.933737837837838E7,8.283875E7]             |1    |\n",
      "|[1.0,820.0,8.0,11.0,24.0,3.0,9.0,14.0,58.0,3.0,1.0,0.0,2.03524E9,6.0,3.2914333333333332E7,4.068078E8]                   |0    |\n",
      "|[0.0,257.0,2.0,6.0,7.0,0.0,2.0,3.0,17.0,3.0,0.0,0.0,7.351206E9,6.0,1.1088833333333334E7,6.99396E8]                      |1    |\n",
      "|[1.0,1928.0,2.0,41.0,38.0,3.0,16.0,34.0,96.0,17.0,1.0,0.0,5.779219E9,16.0,2.99370625E7,2.589322E8]                      |0    |\n",
      "|[1.0,84.0,10.0,3.0,1.0,0.0,1.0,2.0,11.0,0.0,0.0,0.0,2.062544E9,3.0,6641000.0,1.0694535E9]                               |0    |\n",
      "|[0.0,1797.0,8.0,29.0,61.0,3.0,12.0,24.0,86.0,16.0,1.0,0.0,4.662657E9,10.0,4.90548E7,9.77648888888889E7]                 |1    |\n",
      "|[1.0,647.0,39.0,6.0,20.0,1.0,3.0,14.0,40.0,9.0,2.0,1.0,1.0754921E10,16.0,9682625.0,2.963434E8]                          |0    |\n",
      "|[0.0,2070.0,17.0,41.0,67.0,1.0,13.0,18.0,95.0,24.0,1.0,0.0,5.756546E9,15.0,3.38536E7,3.098019285714286E8]               |0    |\n",
      "|[1.0,3632.0,11.0,63.0,113.0,5.0,27.0,41.0,303.0,28.0,0.0,0.0,6.424576E9,63.0,1.3999444444444444E7,6.815283870967741E7]  |0    |\n",
      "|[0.0,230.0,30.0,7.0,7.0,2.0,0.0,7.0,11.0,5.0,0.0,0.0,5.593438E9,5.0,1.29136E7,9.6573475E8]                              |1    |\n",
      "|[0.0,3028.0,22.0,47.0,89.0,0.0,28.0,41.0,154.0,22.0,1.0,0.0,5.19299E9,34.0,2.194541176470588E7,9.081163636363636E7]     |1    |\n",
      "|[1.0,1125.0,3.0,12.0,33.0,4.0,7.0,10.0,72.0,9.0,1.0,0.0,6.171072E9,9.0,3.1601111111111112E7,5.1510275E8]                |0    |\n",
      "|[0.0,215.0,21.0,7.0,7.0,0.0,1.0,3.0,9.0,3.0,0.0,0.0,7.556771E9,10.0,5067100.0,5.404053333333334E8]                      |0    |\n",
      "+------------------------------------------------------------------------------------------------------------------------+-----+\n",
      "only showing top 20 rows\n",
      "\n"
     ]
    }
   ],
   "source": [
    "# Assemble columns into feature vector\n",
    "assembler = VectorAssembler(\n",
    "    inputCols=feature_list,\n",
    "    outputCol=\"features_raw\")\n",
    "\n",
    "output = assembler.transform(df_features)\n",
    "\n",
    "feature_str = \"\"\n",
    "for feature in feature_list:\n",
    "    feature_str = feature_str + feature + \", \"\n",
    "    \n",
    "print(\"Assembled columns \" + feature_str + \" to vector column 'features'\")\n",
    "\n",
    "# Rename churned column to label\n",
    "output = output.withColumnRenamed(\"churned\", \"label\")\n",
    "df_features = output.select(\"features_raw\", \"label\")\n",
    "df_features.show(truncate=False)"
   ]
  },
  {
   "cell_type": "markdown",
   "metadata": {},
   "source": [
    "## Modeling\n",
    "Split the full dataset into train, test, and validation sets. \n",
    "Test out two ML models:\n",
    "- Random Forest Classifier\n",
    "- Logistic Regression\n",
    "\n",
    "Evaluating the accuracy of the various models, tuning parameters as necessary."
   ]
  },
  {
   "cell_type": "code",
   "execution_count": 41,
   "metadata": {},
   "outputs": [],
   "source": [
    "train, test = df_features.select([\"features_raw\", \"label\"]).randomSplit([0.7, 0.3], seed=42)"
   ]
  },
  {
   "cell_type": "markdown",
   "metadata": {},
   "source": [
    "#### Apply Standard Scaler to Feature Vector (only use training data for fittting)"
   ]
  },
  {
   "cell_type": "code",
   "execution_count": 42,
   "metadata": {},
   "outputs": [
    {
     "name": "stdout",
     "output_type": "stream",
     "text": [
      "-RECORD 0-----------------------------------------------------------------------------------------------------------------------------------------------------------------------------------------------------------------------------------------------------------------------------------------------------------------------------------------\n",
      " features | [-0.9325754498682505,-0.5526600809578356,-0.49231754797110855,-0.6964433322333075,-0.6235203295676267,-0.7915676095445291,-0.6022091483855642,-0.5884711680395417,-0.5244620323432457,-0.39256089653906656,0.34799816664863403,-0.48950888391319386,-0.26698516950941126,-0.5467538734320886,-0.09850232780451082,0.8377400629808378] \n",
      " label    | 0                                                                                                                                                                                                                                                                                                                                     \n",
      "only showing top 1 row\n",
      "\n",
      "-RECORD 0---------------------------------------------------------------------------------------------------------------------------------------------------------------------------------------------------------------------------------------------------------------------------------------------------------------------------------------\n",
      " features | [-0.9325754498682505,-0.8771849284891816,-0.7543575331815374,-0.8783398891284332,-0.8546483371579853,-0.7915676095445291,-0.8689595094154113,-0.8971098925358045,-0.8285552288073266,-0.8455157771610664,-0.9279951110630247,-0.48950888391319386,-0.23362759468698768,-0.8668901016659233,-1.4514421726621853,-1.0124951875523585] \n",
      " label    | 1                                                                                                                                                                                                                                                                                                                                   \n",
      "only showing top 1 row\n",
      "\n"
     ]
    }
   ],
   "source": [
    "scaler = StandardScaler(inputCol=\"features_raw\", outputCol=\"features\",\n",
    "                        withStd=True, withMean=True)\n",
    "\n",
    "# Compute summary statistics by fitting the StandardScaler\n",
    "scalerModel = scaler.fit(train)\n",
    "\n",
    "# Normalize each feature to have unit standard deviation.\n",
    "train = scalerModel.transform(train)\n",
    "test = scalerModel.transform(test)\n",
    "\n",
    "# Select only relevant columns\n",
    "train = train.select(\"features\", \"label\")\n",
    "test = test.select(\"features\", \"label\")\n",
    "\n",
    "# Show example train and test data\n",
    "train.show(1, vertical=True, truncate=False)\n",
    "test.show(1, vertical=True, truncate=False)"
   ]
  },
  {
   "cell_type": "markdown",
   "metadata": {},
   "source": [
    "## Model 1 - Random Forest"
   ]
  },
  {
   "cell_type": "code",
   "execution_count": 43,
   "metadata": {},
   "outputs": [],
   "source": [
    "# Configure Random Forest classifier\n",
    "rf = RandomForestClassifier(labelCol=\"label\", featuresCol=\"features\", numTrees=10)\n",
    "\n",
    "# Chain indexers and forest in a Pipeline\n",
    "pipeline = Pipeline(stages=[rf])"
   ]
  },
  {
   "cell_type": "code",
   "execution_count": 44,
   "metadata": {},
   "outputs": [],
   "source": [
    "model_name = \"Random Forest\""
   ]
  },
  {
   "cell_type": "markdown",
   "metadata": {},
   "source": [
    "### Tune Model"
   ]
  },
  {
   "cell_type": "code",
   "execution_count": 45,
   "metadata": {},
   "outputs": [],
   "source": [
    "paramGrid = ParamGridBuilder() \\\n",
    "    .addGrid(rf.numTrees,[4, 8, 12]) \\\n",
    "    .addGrid(rf.maxDepth,[5, 10, 20, 30]) \\\n",
    "    .addGrid(rf.maxBins,[100, 200]) \\\n",
    "    .build()\n",
    "\n",
    "\n",
    "\n",
    "crossval = CrossValidator(estimator=pipeline,\n",
    "                          estimatorParamMaps=paramGrid,\n",
    "                          evaluator=BinaryClassificationEvaluator(),\n",
    "                          numFolds=2)"
   ]
  },
  {
   "cell_type": "code",
   "execution_count": 46,
   "metadata": {},
   "outputs": [],
   "source": [
    "cvModel_q1 = crossval.fit(train)"
   ]
  },
  {
   "cell_type": "code",
   "execution_count": 47,
   "metadata": {},
   "outputs": [
    {
     "data": {
      "text/plain": [
       "[0.6465045188729399,\n",
       " 0.6465045188729399,\n",
       " 0.649380648591175,\n",
       " 0.649380648591175,\n",
       " 0.649380648591175,\n",
       " 0.649380648591175,\n",
       " 0.649380648591175,\n",
       " 0.649380648591175,\n",
       " 0.7633187134502923,\n",
       " 0.7633187134502923,\n",
       " 0.7512858851674641,\n",
       " 0.7512858851674641,\n",
       " 0.7512858851674641,\n",
       " 0.7512858851674641,\n",
       " 0.7512858851674641,\n",
       " 0.7512858851674641,\n",
       " 0.694493620414673,\n",
       " 0.694493620414673,\n",
       " 0.6832329877724614,\n",
       " 0.6832329877724614,\n",
       " 0.6832329877724614,\n",
       " 0.6832329877724614,\n",
       " 0.6832329877724614,\n",
       " 0.6832329877724614]"
      ]
     },
     "execution_count": 47,
     "metadata": {},
     "output_type": "execute_result"
    }
   ],
   "source": [
    "cvModel_q1.avgMetrics"
   ]
  },
  {
   "cell_type": "code",
   "execution_count": 48,
   "metadata": {},
   "outputs": [],
   "source": [
    "results = cvModel_q1.transform(test)"
   ]
  },
  {
   "cell_type": "code",
   "execution_count": 49,
   "metadata": {},
   "outputs": [
    {
     "name": "stdout",
     "output_type": "stream",
     "text": [
      "+--------------------+-----+--------------------+--------------------+----------+\n",
      "|            features|label|       rawPrediction|         probability|prediction|\n",
      "+--------------------+-----+--------------------+--------------------+----------+\n",
      "|[-0.9325754498682...|    1|           [5.0,3.0]|       [0.625,0.375]|       0.0|\n",
      "|[-0.9325754498682...|    0|[7.52851390755823...|[0.94106423844477...|       0.0|\n",
      "+--------------------+-----+--------------------+--------------------+----------+\n",
      "only showing top 2 rows\n",
      "\n"
     ]
    }
   ],
   "source": [
    "results.show(2)"
   ]
  },
  {
   "cell_type": "code",
   "execution_count": 50,
   "metadata": {},
   "outputs": [
    {
     "name": "stdout",
     "output_type": "stream",
     "text": [
      "The best performing params: \n",
      "numTrees: 8\n",
      "maxDepth: 5\n",
      "maxBins: 100.\n"
     ]
    }
   ],
   "source": [
    "# Get best pipeline and params\n",
    "bestPipeline = cvModel_q1.bestModel\n",
    "bestRFModel = bestPipeline.stages[-1]\n",
    "\n",
    "maxBins_best = bestRFModel._java_obj.getMaxBins()\n",
    "maxDepth_best = bestRFModel._java_obj.getMaxDepth()\n",
    "numTrees_best = bestRFModel._java_obj.getNumTrees()\n",
    "\n",
    "print(\"The best performing params: \\n\" + \\\n",
    "     \"numTrees: \" + str(numTrees_best) + \"\\n\" + \\\n",
    "     \"maxDepth: \" + str(maxDepth_best) + \"\\n\" + \\\n",
    "     \"maxBins: \" + str(maxBins_best) + \".\"\n",
    ")"
   ]
  },
  {
   "cell_type": "markdown",
   "metadata": {},
   "source": [
    "#### Get most influential features"
   ]
  },
  {
   "cell_type": "code",
   "execution_count": 51,
   "metadata": {},
   "outputs": [
    {
     "data": {
      "text/html": [
       "<div>\n",
       "<style scoped>\n",
       "    .dataframe tbody tr th:only-of-type {\n",
       "        vertical-align: middle;\n",
       "    }\n",
       "\n",
       "    .dataframe tbody tr th {\n",
       "        vertical-align: top;\n",
       "    }\n",
       "\n",
       "    .dataframe thead th {\n",
       "        text-align: right;\n",
       "    }\n",
       "</style>\n",
       "<table border=\"1\" class=\"dataframe\">\n",
       "  <thead>\n",
       "    <tr style=\"text-align: right;\">\n",
       "      <th></th>\n",
       "      <th>coefficient</th>\n",
       "    </tr>\n",
       "  </thead>\n",
       "  <tbody>\n",
       "    <tr>\n",
       "      <th>user_age</th>\n",
       "      <td>0.30</td>\n",
       "    </tr>\n",
       "    <tr>\n",
       "      <th>avg_time_between_sessions</th>\n",
       "      <td>0.14</td>\n",
       "    </tr>\n",
       "    <tr>\n",
       "      <th>session_count</th>\n",
       "      <td>0.09</td>\n",
       "    </tr>\n",
       "    <tr>\n",
       "      <th>thumbs_up_given</th>\n",
       "      <td>0.08</td>\n",
       "    </tr>\n",
       "    <tr>\n",
       "      <th>songs_listened</th>\n",
       "      <td>0.07</td>\n",
       "    </tr>\n",
       "    <tr>\n",
       "      <th>logouts</th>\n",
       "      <td>0.06</td>\n",
       "    </tr>\n",
       "    <tr>\n",
       "      <th>thumbs_down_given</th>\n",
       "      <td>0.06</td>\n",
       "    </tr>\n",
       "    <tr>\n",
       "      <th>adverts_rolled</th>\n",
       "      <td>0.05</td>\n",
       "    </tr>\n",
       "    <tr>\n",
       "      <th>playlist_additions</th>\n",
       "      <td>0.05</td>\n",
       "    </tr>\n",
       "    <tr>\n",
       "      <th>avg_session_length</th>\n",
       "      <td>0.04</td>\n",
       "    </tr>\n",
       "    <tr>\n",
       "      <th>help_access_count</th>\n",
       "      <td>0.03</td>\n",
       "    </tr>\n",
       "    <tr>\n",
       "      <th>times_upgraded</th>\n",
       "      <td>0.01</td>\n",
       "    </tr>\n",
       "    <tr>\n",
       "      <th>errors</th>\n",
       "      <td>0.01</td>\n",
       "    </tr>\n",
       "    <tr>\n",
       "      <th>friends_added</th>\n",
       "      <td>0.00</td>\n",
       "    </tr>\n",
       "    <tr>\n",
       "      <th>genderIndex</th>\n",
       "      <td>0.00</td>\n",
       "    </tr>\n",
       "    <tr>\n",
       "      <th>times_downgraded</th>\n",
       "      <td>0.00</td>\n",
       "    </tr>\n",
       "  </tbody>\n",
       "</table>\n",
       "</div>"
      ],
      "text/plain": [
       "                           coefficient\n",
       "user_age                          0.30\n",
       "avg_time_between_sessions         0.14\n",
       "session_count                     0.09\n",
       "thumbs_up_given                   0.08\n",
       "songs_listened                    0.07\n",
       "logouts                           0.06\n",
       "thumbs_down_given                 0.06\n",
       "adverts_rolled                    0.05\n",
       "playlist_additions                0.05\n",
       "avg_session_length                0.04\n",
       "help_access_count                 0.03\n",
       "times_upgraded                    0.01\n",
       "errors                            0.01\n",
       "friends_added                     0.00\n",
       "genderIndex                       0.00\n",
       "times_downgraded                  0.00"
      ]
     },
     "execution_count": 51,
     "metadata": {},
     "output_type": "execute_result"
    }
   ],
   "source": [
    "# Get coefficients\n",
    "coefficients = bestRFModel.featureImportances.toArray()\n",
    "coefficients = pd.DataFrame(data=[coefficients])\n",
    "coefficients.columns = feature_list\n",
    "coefficients = coefficients.sort_values(by=0 , ascending=False, axis=1).round(2)\n",
    "\n",
    "# Transpose for better visualization\n",
    "coefficients_transposed = coefficients.transpose()\n",
    "coefficients_transposed.columns = ['coefficient']\n",
    "coefficients_transposed"
   ]
  },
  {
   "cell_type": "code",
   "execution_count": 52,
   "metadata": {},
   "outputs": [
    {
     "data": {
      "image/png": "[encoded data removed]",
      "text/plain": [
       "<Figure size 720x720 with 1 Axes>"
      ]
     },
     "metadata": {
      "needs_background": "light"
     },
     "output_type": "display_data"
    }
   ],
   "source": [
    "# Visualize\n",
    "ax = coefficients_transposed.plot.bar(figsize=(10,10))\n",
    "for p in ax.patches:\n",
    "    ax.annotate(str(p.get_height()), (p.get_x() * 0.995, p.get_height() * 1.05))"
   ]
  },
  {
   "cell_type": "markdown",
   "metadata": {},
   "source": [
    "### Compute F1 Score"
   ]
  },
  {
   "cell_type": "markdown",
   "metadata": {},
   "source": [
    "#### Model Evaluation Metrics\n",
    "How well was churn predicted among churned users?\n",
    "\n",
    "- **Precision** = True Positive / (True Positive + False Positive)\n",
    "- **Recall** = True Positive / Total Actual Positive \n",
    "- **F1 Score** = 2 * ((Precision * Recall) / (Precision + Recall))\n",
    "\n",
    "Source: https://towardsdatascience.com/accuracy-precision-recall-or-f1-331fb37c5cb9"
   ]
  },
  {
   "cell_type": "code",
   "execution_count": 53,
   "metadata": {
    "scrolled": true
   },
   "outputs": [],
   "source": [
    "# Calculate TP, FP, TN, FN\n",
    "tp = results.filter((results.label == 1) & (results.prediction == 1)).count()\n",
    "fp = results.filter((results.label == 0) & (results.prediction == 1)).count()\n",
    "tn = results.filter((results.label == 0) & (results.prediction == 0)).count()\n",
    "fn = results.filter((results.label == 1) & (results.prediction == 0)).count()\n",
    "overall_users = results.count()"
   ]
  },
  {
   "cell_type": "code",
   "execution_count": 54,
   "metadata": {},
   "outputs": [
    {
     "name": "stdout",
     "output_type": "stream",
     "text": [
      "Overall users in test: 60\n",
      "True Positives: 7\n",
      "False Positives: 2\n",
      "True Negatives: 42\n",
      "False Negatives: 9\n"
     ]
    }
   ],
   "source": [
    "print(\"Overall users in test: \" + str(overall_users))\n",
    "print(\"True Positives: \" + str(tp))\n",
    "print(\"False Positives: \" + str(fp))\n",
    "print(\"True Negatives: \" + str(tn))\n",
    "print(\"False Negatives: \" + str(fn))"
   ]
  },
  {
   "cell_type": "code",
   "execution_count": 55,
   "metadata": {},
   "outputs": [
    {
     "name": "stdout",
     "output_type": "stream",
     "text": [
      "Precision Random Forest: 0.78\n",
      "Recall Random Forest: 0.44\n",
      "F1 Score Random Forest: 0.56\n"
     ]
    }
   ],
   "source": [
    "precision = tp / (tp+fp)\n",
    "recall = tp / (tp + fn)\n",
    "f1_score = 2 * ((precision * recall) / (precision + recall))\n",
    "\n",
    "print(\"Precision \" + model_name + \": \" + str(round(precision, 2)))\n",
    "print(\"Recall \" + model_name + \": \" + str(round(recall, 2)))\n",
    "print(\"F1 Score \" + model_name + \": \" + str(round(f1_score, 2)))"
   ]
  },
  {
   "cell_type": "markdown",
   "metadata": {},
   "source": [
    "## Model 2 - Logistic Regression"
   ]
  },
  {
   "cell_type": "markdown",
   "metadata": {},
   "source": [
    "### Build Pipeline"
   ]
  },
  {
   "cell_type": "code",
   "execution_count": 56,
   "metadata": {},
   "outputs": [],
   "source": [
    "lr =  LogisticRegression(maxIter=10, regParam=0.0, elasticNetParam=0)\n",
    "pipeline = Pipeline(stages=[lr])"
   ]
  },
  {
   "cell_type": "code",
   "execution_count": 57,
   "metadata": {},
   "outputs": [],
   "source": [
    "model_name = \"Logistic Regression\""
   ]
  },
  {
   "cell_type": "markdown",
   "metadata": {},
   "source": [
    "### Tune Model"
   ]
  },
  {
   "cell_type": "code",
   "execution_count": 58,
   "metadata": {},
   "outputs": [],
   "source": [
    "paramGrid = ParamGridBuilder() \\\n",
    "    .addGrid(lr.regParam,[0.0, 0.1]) \\\n",
    "    .addGrid(lr.maxIter,[5, 10, 50, 100]) \\\n",
    "    .build()\n",
    "\n",
    "\n",
    "crossval = CrossValidator(estimator=pipeline,\n",
    "                          estimatorParamMaps=paramGrid,\n",
    "                          evaluator=BinaryClassificationEvaluator(),\n",
    "                          numFolds=2)"
   ]
  },
  {
   "cell_type": "code",
   "execution_count": 59,
   "metadata": {},
   "outputs": [],
   "source": [
    "cvModel_q2 = crossval.fit(train)"
   ]
  },
  {
   "cell_type": "code",
   "execution_count": 60,
   "metadata": {},
   "outputs": [
    {
     "data": {
      "text/plain": [
       "[0.8332296650717709,\n",
       " 0.7573112706007443,\n",
       " 0.6127671451355661,\n",
       " 0.6075039872408292,\n",
       " 0.8068527379053698,\n",
       " 0.805239234449761,\n",
       " 0.805239234449761,\n",
       " 0.805239234449761]"
      ]
     },
     "execution_count": 60,
     "metadata": {},
     "output_type": "execute_result"
    }
   ],
   "source": [
    "cvModel_q2.avgMetrics"
   ]
  },
  {
   "cell_type": "code",
   "execution_count": 61,
   "metadata": {},
   "outputs": [],
   "source": [
    "results = cvModel_q2.transform(test)"
   ]
  },
  {
   "cell_type": "code",
   "execution_count": 62,
   "metadata": {},
   "outputs": [
    {
     "name": "stdout",
     "output_type": "stream",
     "text": [
      "+--------------------+-----+--------------------+--------------------+----------+\n",
      "|            features|label|       rawPrediction|         probability|prediction|\n",
      "+--------------------+-----+--------------------+--------------------+----------+\n",
      "|[-0.9325754498682...|    1|[-0.4938029729807...|[0.37899809450487...|       1.0|\n",
      "|[-0.9325754498682...|    0|[2.14990827487367...|[0.89566020520367...|       0.0|\n",
      "+--------------------+-----+--------------------+--------------------+----------+\n",
      "only showing top 2 rows\n",
      "\n"
     ]
    }
   ],
   "source": [
    "results.show(2)"
   ]
  },
  {
   "cell_type": "code",
   "execution_count": 63,
   "metadata": {},
   "outputs": [
    {
     "name": "stdout",
     "output_type": "stream",
     "text": [
      "The best performing params: \n",
      "regParam: 0.0\n",
      "maxIter: 5\n"
     ]
    }
   ],
   "source": [
    "# Get best pipeline and params\n",
    "bestPipeline = cvModel_q2.bestModel\n",
    "bestLRModel = bestPipeline.stages[-1]\n",
    "\n",
    "regParam_best = bestLRModel._java_obj.getRegParam()\n",
    "maxIter_best = bestLRModel._java_obj.getMaxIter()\n",
    "\n",
    "print(\"The best performing params: \\n\" + \\\n",
    "     \"regParam: \" + str(regParam_best) + \"\\n\" + \\\n",
    "     \"maxIter: \" + str(maxIter_best)\n",
    ")"
   ]
  },
  {
   "cell_type": "markdown",
   "metadata": {},
   "source": [
    "#### Get most influential features"
   ]
  },
  {
   "cell_type": "code",
   "execution_count": 64,
   "metadata": {},
   "outputs": [
    {
     "data": {
      "text/html": [
       "<div>\n",
       "<style scoped>\n",
       "    .dataframe tbody tr th:only-of-type {\n",
       "        vertical-align: middle;\n",
       "    }\n",
       "\n",
       "    .dataframe tbody tr th {\n",
       "        vertical-align: top;\n",
       "    }\n",
       "\n",
       "    .dataframe thead th {\n",
       "        text-align: right;\n",
       "    }\n",
       "</style>\n",
       "<table border=\"1\" class=\"dataframe\">\n",
       "  <thead>\n",
       "    <tr style=\"text-align: right;\">\n",
       "      <th></th>\n",
       "      <th>coefficient</th>\n",
       "    </tr>\n",
       "  </thead>\n",
       "  <tbody>\n",
       "    <tr>\n",
       "      <th>thumbs_down_given</th>\n",
       "      <td>0.43</td>\n",
       "    </tr>\n",
       "    <tr>\n",
       "      <th>adverts_rolled</th>\n",
       "      <td>0.36</td>\n",
       "    </tr>\n",
       "    <tr>\n",
       "      <th>help_access_count</th>\n",
       "      <td>0.14</td>\n",
       "    </tr>\n",
       "    <tr>\n",
       "      <th>times_upgraded</th>\n",
       "      <td>0.12</td>\n",
       "    </tr>\n",
       "    <tr>\n",
       "      <th>songs_listened</th>\n",
       "      <td>-0.05</td>\n",
       "    </tr>\n",
       "    <tr>\n",
       "      <th>playlist_additions</th>\n",
       "      <td>-0.07</td>\n",
       "    </tr>\n",
       "    <tr>\n",
       "      <th>logouts</th>\n",
       "      <td>-0.08</td>\n",
       "    </tr>\n",
       "    <tr>\n",
       "      <th>times_downgraded</th>\n",
       "      <td>-0.13</td>\n",
       "    </tr>\n",
       "    <tr>\n",
       "      <th>genderIndex</th>\n",
       "      <td>-0.15</td>\n",
       "    </tr>\n",
       "    <tr>\n",
       "      <th>thumbs_up_given</th>\n",
       "      <td>-0.15</td>\n",
       "    </tr>\n",
       "    <tr>\n",
       "      <th>avg_session_length</th>\n",
       "      <td>-0.17</td>\n",
       "    </tr>\n",
       "    <tr>\n",
       "      <th>session_count</th>\n",
       "      <td>-0.27</td>\n",
       "    </tr>\n",
       "    <tr>\n",
       "      <th>friends_added</th>\n",
       "      <td>-0.40</td>\n",
       "    </tr>\n",
       "    <tr>\n",
       "      <th>errors</th>\n",
       "      <td>-0.45</td>\n",
       "    </tr>\n",
       "    <tr>\n",
       "      <th>user_age</th>\n",
       "      <td>-0.92</td>\n",
       "    </tr>\n",
       "    <tr>\n",
       "      <th>avg_time_between_sessions</th>\n",
       "      <td>-1.35</td>\n",
       "    </tr>\n",
       "  </tbody>\n",
       "</table>\n",
       "</div>"
      ],
      "text/plain": [
       "                           coefficient\n",
       "thumbs_down_given                 0.43\n",
       "adverts_rolled                    0.36\n",
       "help_access_count                 0.14\n",
       "times_upgraded                    0.12\n",
       "songs_listened                   -0.05\n",
       "playlist_additions               -0.07\n",
       "logouts                          -0.08\n",
       "times_downgraded                 -0.13\n",
       "genderIndex                      -0.15\n",
       "thumbs_up_given                  -0.15\n",
       "avg_session_length               -0.17\n",
       "session_count                    -0.27\n",
       "friends_added                    -0.40\n",
       "errors                           -0.45\n",
       "user_age                         -0.92\n",
       "avg_time_between_sessions        -1.35"
      ]
     },
     "execution_count": 64,
     "metadata": {},
     "output_type": "execute_result"
    }
   ],
   "source": [
    "# Get coefficients\n",
    "coefficients = bestLRModel.coefficientMatrix.values\n",
    "coefficients = pd.DataFrame(data=[coefficients])\n",
    "coefficients.columns = feature_list\n",
    "coefficients = coefficients.sort_values(by=0 , ascending=False, axis=1).round(2)\n",
    "\n",
    "# Transpose for better visualization\n",
    "coefficients_transposed = coefficients.transpose()\n",
    "coefficients_transposed.columns = ['coefficient']\n",
    "coefficients_transposed"
   ]
  },
  {
   "cell_type": "code",
   "execution_count": 65,
   "metadata": {},
   "outputs": [
    {
     "data": {
      "image/png": "[encoded data removed]",
      "text/plain": [
       "<Figure size 720x720 with 1 Axes>"
      ]
     },
     "metadata": {
      "needs_background": "light"
     },
     "output_type": "display_data"
    }
   ],
   "source": [
    "# Visualize\n",
    "ax = coefficients_transposed.plot.bar(figsize=(10,10))\n",
    "for p in ax.patches:\n",
    "    ax.annotate(str(p.get_height()), (p.get_x() * 0.995, p.get_height() * 1.05))"
   ]
  },
  {
   "cell_type": "markdown",
   "metadata": {},
   "source": [
    "### Compute F1 Score"
   ]
  },
  {
   "cell_type": "markdown",
   "metadata": {},
   "source": [
    "#### Model Evaluation Metrics\n",
    "How well was churn predicted among churned users?\n",
    "\n",
    "- **Precision** = True Positive / (True Positive + False Positive)\n",
    "- **Recall** = True Positive / Total Actual Positive \n",
    "- **F1 Score** = 2 * ((Precision * Recall) / (Precision + Recall))\n",
    "\n",
    "Source: https://towardsdatascience.com/accuracy-precision-recall-or-f1-331fb37c5cb9"
   ]
  },
  {
   "cell_type": "code",
   "execution_count": 66,
   "metadata": {
    "scrolled": true
   },
   "outputs": [],
   "source": [
    "# Calculate TP, FP, TN, FN\n",
    "tp = results.filter((results.label == 1) & (results.prediction == 1)).count()\n",
    "fp = results.filter((results.label == 0) & (results.prediction == 1)).count()\n",
    "tn = results.filter((results.label == 0) & (results.prediction == 0)).count()\n",
    "fn = results.filter((results.label == 1) & (results.prediction == 0)).count()\n",
    "overall_users = results.count()"
   ]
  },
  {
   "cell_type": "code",
   "execution_count": 67,
   "metadata": {},
   "outputs": [
    {
     "name": "stdout",
     "output_type": "stream",
     "text": [
      "Overall users in test: 60\n",
      "True Positives: 5\n",
      "False Positives: 5\n",
      "True Negatives: 39\n",
      "False Negatives: 11\n"
     ]
    }
   ],
   "source": [
    "print(\"Overall users in test: \" + str(overall_users))\n",
    "print(\"True Positives: \" + str(tp))\n",
    "print(\"False Positives: \" + str(fp))\n",
    "print(\"True Negatives: \" + str(tn))\n",
    "print(\"False Negatives: \" + str(fn))"
   ]
  },
  {
   "cell_type": "code",
   "execution_count": 68,
   "metadata": {},
   "outputs": [
    {
     "name": "stdout",
     "output_type": "stream",
     "text": [
      "Precision Logistic Regression: 0.5\n",
      "Recall Logistic Regression: 0.31\n",
      "F1 Score Logistic Regression: 0.38\n"
     ]
    }
   ],
   "source": [
    "precision = tp / (tp+fp)\n",
    "recall = tp / (tp + fn)\n",
    "f1_score = 2 * ((precision * recall) / (precision + recall))\n",
    "\n",
    "print(\"Precision \" + model_name + \": \" + str(round(precision, 2)))\n",
    "print(\"Recall \" + model_name + \": \" + str(round(recall, 2)))\n",
    "print(\"F1 Score \" + model_name + \": \" + str(round(f1_score, 2)))"
   ]
  },
  {
   "cell_type": "markdown",
   "metadata": {},
   "source": [
    "# Final Steps\n",
    "Clean up your code, adding comments and renaming variables to make the code easier to read and maintain. Refer to the Spark Project Overview page and Data Scientist Capstone Project Rubric to make sure you are including all components of the capstone project and meet all expectations. Remember, this includes thorough documentation in a README file in a Github repository, as well as a web app or blog post."
   ]
  },
  {
   "cell_type": "code",
   "execution_count": 69,
   "metadata": {},
   "outputs": [
    {
     "ename": "SyntaxError",
     "evalue": "cannot assign to literal (<ipython-input-69-5bf4bc446928>, line 1)",
     "output_type": "error",
     "traceback": [
      "\u001b[1;36m  File \u001b[1;32m\"<ipython-input-69-5bf4bc446928>\"\u001b[1;36m, line \u001b[1;32m1\u001b[0m\n\u001b[1;33m    ['female','user_age','paid_user',\\\u001b[0m\n\u001b[1;37m     ^\u001b[0m\n\u001b[1;31mSyntaxError\u001b[0m\u001b[1;31m:\u001b[0m cannot assign to literal\n"
     ]
    }
   ],
   "source": [
    "['female','user_age','paid_user',\\\n",
    "                                       'downgraded','total_session','interactions',\\\n",
    "                                      'thumbs_down','length','session_gap'],\\\n",
    "                            outputCol='NumFeatures',handleInvalid = 'skip')"
   ]
  }
 ],
 "metadata": {
  "kernelspec": {
   "display_name": "Python 3",
   "language": "python",
   "name": "python3"
  },
  "language_info": {
   "codemirror_mode": {
    "name": "ipython",
    "version": 3
   },
   "file_extension": ".py",
   "mimetype": "text/x-python",
   "name": "python",
   "nbconvert_exporter": "python",
   "pygments_lexer": "ipython3",
   "version": "3.9.2"
  }
 },
 "nbformat": 4,
 "nbformat_minor": 4
}
