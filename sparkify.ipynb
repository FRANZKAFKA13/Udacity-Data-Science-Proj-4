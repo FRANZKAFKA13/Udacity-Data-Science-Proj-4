{
 "cells": [
  {
   "cell_type": "markdown",
   "metadata": {},
   "source": [
    "# Sparkify Project\n",
    "\n",
    "In this project user churn rate is predicted for a music streaming software called Sparkify.\n",
    "\n",
    "### Notebook Content\n",
    "**1. Get started**\n",
    "- Import packages\n",
    "- Build spark session\n",
    "\n",
    "**2. Extract data**\n",
    "- Extract data from local .json or a s3 storage\n",
    "\n",
    "**3. Clean data**\n",
    "- Drop null values\n",
    "- Add column indicating churn (label)\n",
    "- Aggregate data on user level\n",
    "- Calculate several aggregates per user, such as session count or user age\n",
    "- Ensure numeric value\n",
    "\n",
    "**4. Exploratory Data Analysis**\n",
    "- Show aggregates of each column\n",
    "\n",
    "**5. Feature Engineering**\n",
    "- One Hot Encoding for categorical features\n",
    "- Assembling feature vector\n",
    "\n",
    "**6. Modeling**\n",
    "- Build pipeline (random forest + logistic regression)\n",
    "- Find best model with grid search\n",
    "- Evaluate accuracy and F2"
   ]
  },
  {
   "cell_type": "markdown",
   "metadata": {},
   "source": [
    "## 1. Get Started\n",
    "Import required packages for [pyspark sql](https://spark.apache.org/docs/2.2.0/api/python/pyspark.sql.html) and [mlib](https://spark.apache.org/docs/2.2.0/api/python/pyspark.ml.html)."
   ]
  },
  {
   "cell_type": "code",
   "execution_count": 76,
   "metadata": {},
   "outputs": [],
   "source": [
    "# SQL\n",
    "from pyspark.sql import SparkSession\n",
    "from pyspark.sql.window import Window\n",
    "from pyspark.sql.functions import udf, from_unixtime, trunc, isnan, when, count, col, lit, countDistinct, lag, isnull, mean\n",
    "from pyspark.sql.types import IntegerType, StringType\n",
    "from pyspark.sql.functions import to_timestamp\n",
    "from pyspark.sql.functions import col\n",
    "from pyspark.sql import functions as f\n",
    "from pyspark.sql import types as t\n",
    "\n",
    "# MLib\n",
    "from pyspark.ml import Pipeline\n",
    "from pyspark.ml.classification import LogisticRegression, RandomForestClassifier\n",
    "from pyspark.ml.evaluation import MulticlassClassificationEvaluator, BinaryClassificationEvaluator\n",
    "from pyspark.ml.feature import CountVectorizer, IDF, Normalizer, PCA, RegexTokenizer, StandardScaler, StopWordsRemover, StringIndexer, VectorAssembler, OneHotEncoder\n",
    "from pyspark.ml.regression import LinearRegression\n",
    "from pyspark.ml.tuning import CrossValidator, ParamGridBuilder\n",
    "from pyspark.ml.feature import RegexTokenizer, VectorAssembler, Normalizer, StandardScaler\n",
    "\n",
    "# Other\n",
    "import numpy as np\n",
    "import pandas as pd\n",
    "import matplotlib\n",
    "import matplotlib.pyplot as plt"
   ]
  },
  {
   "cell_type": "code",
   "execution_count": 77,
   "metadata": {},
   "outputs": [],
   "source": [
    "spark = SparkSession \\\n",
    "    .builder \\\n",
    "    .appName(\"Sparkify\") \\\n",
    "    .getOrCreate()\n",
    "\n",
    "sparkContext = spark.sparkContext"
   ]
  },
  {
   "cell_type": "markdown",
   "metadata": {},
   "source": [
    "## 2. Extract Data\n",
    "Extract data from a local file or access Amazon S3."
   ]
  },
  {
   "cell_type": "code",
   "execution_count": 152,
   "metadata": {},
   "outputs": [
    {
     "data": {
      "text/plain": [
       "[Row(artist='Martha Tilston', auth='Logged In', firstName='Colin', gender='M', itemInSession=50, lastName='Freeman', length=277.89016, level='paid', location='Bakersfield, CA', method='PUT', page='NextSong', registration=1538173362000, sessionId=29, song='Rockpools', status=200, ts=1538352117000, userAgent='Mozilla/5.0 (Windows NT 6.1; WOW64; rv:31.0) Gecko/20100101 Firefox/31.0', userId='30'),\n",
       " Row(artist='Five Iron Frenzy', auth='Logged In', firstName='Micah', gender='M', itemInSession=79, lastName='Long', length=236.09424, level='free', location='Boston-Cambridge-Newton, MA-NH', method='PUT', page='NextSong', registration=1538331630000, sessionId=8, song='Canada', status=200, ts=1538352180000, userAgent='\"Mozilla/5.0 (Windows NT 6.1; WOW64) AppleWebKit/537.36 (KHTML, like Gecko) Chrome/37.0.2062.103 Safari/537.36\"', userId='9')]"
      ]
     },
     "execution_count": 152,
     "metadata": {},
     "output_type": "execute_result"
    }
   ],
   "source": [
    "# For running on a EC2 cluster \n",
    "event_data_s3n_small = \"s3n://udacity-dsnd/sparkify/mini_sparkify_event_data.json\"\n",
    "event_data_s3n_full = \"s3n://udacity-dsnd/sparkify/sparkify_event_data.json\"\n",
    "\n",
    "# For local use\n",
    "event_data_local = \"data/mini_sparkify_event_data.json\"\n",
    "\n",
    "df = spark.read.json(event_data_local)\n",
    "df.head(2)\n",
    "\n",
    "# User very small subset of data for trying out functions\n",
    "#df = df.limit(1000)"
   ]
  },
  {
   "cell_type": "code",
   "execution_count": 154,
   "metadata": {},
   "outputs": [
    {
     "name": "stdout",
     "output_type": "stream",
     "text": [
      "-RECORD 0-----------------------------\n",
      " artist        | Martha Tilston       \n",
      " auth          | Logged In            \n",
      " firstName     | Colin                \n",
      " gender        | M                    \n",
      " itemInSession | 50                   \n",
      " lastName      | Freeman              \n",
      " length        | 277.89016            \n",
      " level         | paid                 \n",
      " location      | Bakersfield, CA      \n",
      " method        | PUT                  \n",
      " page          | NextSong             \n",
      " registration  | 1538173362000        \n",
      " sessionId     | 29                   \n",
      " song          | Rockpools            \n",
      " status        | 200                  \n",
      " ts            | 1538352117000        \n",
      " userAgent     | Mozilla/5.0 (Wind... \n",
      " userId        | 30                   \n",
      "only showing top 1 row\n",
      "\n"
     ]
    }
   ],
   "source": [
    "df.show(1, vertical=True)"
   ]
  },
  {
   "cell_type": "markdown",
   "metadata": {},
   "source": [
    "## 3. Clean Data\n",
    "Check for empty values and null values. \n",
    "Create dataframe that aggregates data on a user level."
   ]
  },
  {
   "cell_type": "markdown",
   "metadata": {},
   "source": [
    "### Checking for null, empty and other faulty values"
   ]
  },
  {
   "cell_type": "code",
   "execution_count": 79,
   "metadata": {},
   "outputs": [
    {
     "name": "stdout",
     "output_type": "stream",
     "text": [
      "Column artist has 0 empty values.\n",
      "Column auth has 0 empty values.\n",
      "Column firstName has 0 empty values.\n",
      "Column gender has 0 empty values.\n",
      "Column itemInSession has 0 empty values.\n",
      "Column lastName has 0 empty values.\n",
      "Column length has 0 empty values.\n",
      "Column level has 0 empty values.\n",
      "Column location has 0 empty values.\n",
      "Column method has 0 empty values.\n",
      "Column page has 0 empty values.\n",
      "Column registration has 0 empty values.\n",
      "Column sessionId has 0 empty values.\n",
      "Column song has 0 empty values.\n",
      "Column status has 0 empty values.\n",
      "Column ts has 0 empty values.\n",
      "Column userAgent has 0 empty values.\n",
      "Column userId has 8346 empty values.\n"
     ]
    }
   ],
   "source": [
    "# Show how many null values each column has\n",
    "for column in df.columns:\n",
    "    print(\"Column \" + column + \" has \" + str(len(df.where(df[column] == \"\").collect())) + \" empty values.\")"
   ]
  },
  {
   "cell_type": "code",
   "execution_count": 80,
   "metadata": {},
   "outputs": [
    {
     "name": "stdout",
     "output_type": "stream",
     "text": [
      "Remove rows with empty userIds.\n",
      "Check how many empty userIds are left: 0\n"
     ]
    }
   ],
   "source": [
    "print(\"Remove rows with empty userIds.\")\n",
    "df = df.where(df.userId != \"\")\n",
    "print(\"Check how many empty userIds are left: \" + \\\n",
    "      str(len(df.where(df.userId == \"\").collect())))"
   ]
  },
  {
   "cell_type": "code",
   "execution_count": 81,
   "metadata": {},
   "outputs": [
    {
     "name": "stdout",
     "output_type": "stream",
     "text": [
      "Null values per column:\n",
      "-RECORD 0------------\n",
      " artist        | 0   \n",
      " auth          | 0   \n",
      " firstName     | 0   \n",
      " gender        | 0   \n",
      " itemInSession | 0   \n",
      " lastName      | 0   \n",
      " length        | 0   \n",
      " level         | 0   \n",
      " location      | 0   \n",
      " method        | 0   \n",
      " page          | 0   \n",
      " registration  | 0   \n",
      " sessionId     | 0   \n",
      " song          | 0   \n",
      " status        | 0   \n",
      " ts            | 0   \n",
      " userAgent     | 0   \n",
      " userId        | 0   \n",
      "\n"
     ]
    }
   ],
   "source": [
    "print(\"Null values per column:\")\n",
    "df.select([count(when(isnan(c), c)).alias(c) for c in df.columns]).show(vertical=True)"
   ]
  },
  {
   "cell_type": "code",
   "execution_count": 82,
   "metadata": {},
   "outputs": [
    {
     "name": "stdout",
     "output_type": "stream",
     "text": [
      "Example event flow for one particular user:\n",
      "+--------------------+-------------+\n",
      "|                page|           ts|\n",
      "+--------------------+-------------+\n",
      "|                Home|1538376504000|\n",
      "|            NextSong|1538376509000|\n",
      "|         Roll Advert|1538376542000|\n",
      "|            NextSong|1538376747000|\n",
      "|         Roll Advert|1538376783000|\n",
      "|            NextSong|1538377349000|\n",
      "|            NextSong|1538377748000|\n",
      "|            NextSong|1538377932000|\n",
      "|            NextSong|1538378245000|\n",
      "|            NextSong|1538378483000|\n",
      "|            NextSong|1538378687000|\n",
      "|            NextSong|1538378877000|\n",
      "|            NextSong|1538379041000|\n",
      "|            NextSong|1538379207000|\n",
      "|         Roll Advert|1538379230000|\n",
      "|            NextSong|1538379420000|\n",
      "|            NextSong|1538379668000|\n",
      "|            NextSong|1538380000000|\n",
      "|            NextSong|1538380179000|\n",
      "|              Logout|1538380180000|\n",
      "|                Home|1538380429000|\n",
      "|            NextSong|1538380481000|\n",
      "|            NextSong|1538380829000|\n",
      "|            NextSong|1538381273000|\n",
      "|         Thumbs Down|1538381274000|\n",
      "|            NextSong|1538381449000|\n",
      "|            NextSong|1538381708000|\n",
      "|            NextSong|1538381978000|\n",
      "|            NextSong|1538382217000|\n",
      "|            NextSong|1538382476000|\n",
      "|         Roll Advert|1538382550000|\n",
      "|            NextSong|1538382674000|\n",
      "|         Roll Advert|1538382775000|\n",
      "|            NextSong|1538382964000|\n",
      "|            NextSong|1538383234000|\n",
      "|            NextSong|1538383532000|\n",
      "|            NextSong|1538383757000|\n",
      "|              Logout|1538383758000|\n",
      "|                Home|1538383846000|\n",
      "|            NextSong|1538384003000|\n",
      "|          Add Friend|1538384004000|\n",
      "|            NextSong|1538384240000|\n",
      "|            NextSong|1538384895000|\n",
      "|            NextSong|1538385105000|\n",
      "|            NextSong|1538385353000|\n",
      "|           Thumbs Up|1538385354000|\n",
      "|            NextSong|1538385682000|\n",
      "|            NextSong|1538385917000|\n",
      "|     Add to Playlist|1538386066000|\n",
      "|            NextSong|1538386082000|\n",
      "|              Logout|1538386083000|\n",
      "|                Home|1538451696000|\n",
      "|            NextSong|1538451700000|\n",
      "|            NextSong|1538452219000|\n",
      "|           Thumbs Up|1538452220000|\n",
      "|            NextSong|1538452394000|\n",
      "|            NextSong|1538452617000|\n",
      "|            NextSong|1538452881000|\n",
      "|            NextSong|1538453120000|\n",
      "|            NextSong|1538453404000|\n",
      "|         Roll Advert|1538453436000|\n",
      "|            NextSong|1538453655000|\n",
      "|            NextSong|1538453950000|\n",
      "|            NextSong|1538454144000|\n",
      "|            NextSong|1538454463000|\n",
      "|            NextSong|1538454682000|\n",
      "|            NextSong|1538455031000|\n",
      "|            NextSong|1538455387000|\n",
      "|            NextSong|1538455735000|\n",
      "|            Settings|1538455871000|\n",
      "|            NextSong|1538455885000|\n",
      "|            NextSong|1538456099000|\n",
      "|            NextSong|1538456361000|\n",
      "|            NextSong|1538456593000|\n",
      "|                Home|1538456624000|\n",
      "|            NextSong|1538456826000|\n",
      "|            NextSong|1538456957000|\n",
      "|         Roll Advert|1538457061000|\n",
      "|            NextSong|1538457191000|\n",
      "|            NextSong|1538457526000|\n",
      "|            NextSong|1538457701000|\n",
      "|            NextSong|1538458075000|\n",
      "|            NextSong|1538458310000|\n",
      "|                Home|1538458321000|\n",
      "|            NextSong|1538458851000|\n",
      "|         Thumbs Down|1538458852000|\n",
      "|            NextSong|1538459123000|\n",
      "|            NextSong|1538459171000|\n",
      "|            NextSong|1538459282000|\n",
      "|            NextSong|1538459508000|\n",
      "|             Upgrade|1538459613000|\n",
      "|            NextSong|1538459639000|\n",
      "|            NextSong|1538459825000|\n",
      "|            NextSong|1538460138000|\n",
      "|         Roll Advert|1538460173000|\n",
      "|            NextSong|1538460405000|\n",
      "|            NextSong|1538460683000|\n",
      "|            NextSong|1538460857000|\n",
      "|            NextSong|1538461017000|\n",
      "|           Thumbs Up|1538461018000|\n",
      "|            NextSong|1538461256000|\n",
      "|            NextSong|1538461451000|\n",
      "|            NextSong|1538461759000|\n",
      "|            NextSong|1538461992000|\n",
      "|            NextSong|1538462330000|\n",
      "|           Thumbs Up|1538462331000|\n",
      "|            NextSong|1538462591000|\n",
      "|            NextSong|1538462786000|\n",
      "|            NextSong|1538463081000|\n",
      "|             Upgrade|1538463098000|\n",
      "|            NextSong|1538463447000|\n",
      "|         Roll Advert|1538463489000|\n",
      "|         Roll Advert|1538463534000|\n",
      "|            NextSong|1538463606000|\n",
      "|            NextSong|1538463835000|\n",
      "|            NextSong|1538464098000|\n",
      "|            NextSong|1538464235000|\n",
      "|            NextSong|1538464342000|\n",
      "|            NextSong|1538464495000|\n",
      "|     Add to Playlist|1538464613000|\n",
      "|            NextSong|1538482755000|\n",
      "|              Logout|1538482756000|\n",
      "|                Home|1538483069000|\n",
      "|            NextSong|1538483141000|\n",
      "|         Roll Advert|1538483164000|\n",
      "|            NextSong|1538483424000|\n",
      "|         Roll Advert|1538483727000|\n",
      "|            NextSong|1538483738000|\n",
      "|            NextSong|1538483941000|\n",
      "|              Logout|1538483942000|\n",
      "|                Home|1538484662000|\n",
      "|            NextSong|1538484997000|\n",
      "|            NextSong|1538485105000|\n",
      "|           Thumbs Up|1538485106000|\n",
      "|            NextSong|1538485340000|\n",
      "|            NextSong|1538485623000|\n",
      "|          Add Friend|1538485624000|\n",
      "|            NextSong|1538485920000|\n",
      "|                Home|1538486429000|\n",
      "|            NextSong|1538486486000|\n",
      "|            NextSong|1538486692000|\n",
      "|           Thumbs Up|1538486693000|\n",
      "|            NextSong|1538486935000|\n",
      "|           Thumbs Up|1538486936000|\n",
      "|            NextSong|1538487296000|\n",
      "|            NextSong|1538487551000|\n",
      "|            NextSong|1538487846000|\n",
      "|     Add to Playlist|1538487847000|\n",
      "|           Thumbs Up|1538487848000|\n",
      "|            NextSong|1538488106000|\n",
      "|            NextSong|1538488358000|\n",
      "|            NextSong|1538488580000|\n",
      "|            NextSong|1538488860000|\n",
      "|            NextSong|1538488996000|\n",
      "|            NextSong|1538489401000|\n",
      "|            NextSong|1538489681000|\n",
      "|            NextSong|1538489881000|\n",
      "|               Error|1538489901000|\n",
      "|            NextSong|1538490278000|\n",
      "|            NextSong|1538490541000|\n",
      "|            NextSong|1538490859000|\n",
      "|            NextSong|1538491037000|\n",
      "|            NextSong|1538491293000|\n",
      "|            NextSong|1538491561000|\n",
      "|            NextSong|1538491800000|\n",
      "|            NextSong|1538492036000|\n",
      "|              Logout|1538492037000|\n",
      "|                Home|1538494425000|\n",
      "|            NextSong|1538494783000|\n",
      "|            NextSong|1538494956000|\n",
      "|            NextSong|1538495427000|\n",
      "|            NextSong|1538496021000|\n",
      "|            NextSong|1538496198000|\n",
      "|            NextSong|1538496420000|\n",
      "|            NextSong|1538496753000|\n",
      "|         Roll Advert|1538496839000|\n",
      "|            NextSong|1538496984000|\n",
      "|                Help|1538497010000|\n",
      "|            NextSong|1538497194000|\n",
      "|            NextSong|1538497474000|\n",
      "|            NextSong|1538497758000|\n",
      "|              Logout|1538497759000|\n",
      "|                Home|1538497786000|\n",
      "|            NextSong|1538498032000|\n",
      "|         Roll Advert|1538498073000|\n",
      "|              Cancel|1538498074000|\n",
      "|Cancellation Conf...|1538498205000|\n",
      "+--------------------+-------------+\n",
      "\n"
     ]
    }
   ],
   "source": [
    "print(\"Example event flow for one particular user:\")\n",
    "df.where(df.userId == 100001).select(\"page\", \"ts\").orderBy(\"ts\").show(1000)"
   ]
  },
  {
   "cell_type": "markdown",
   "metadata": {},
   "source": [
    "#### Get users that churned\n",
    "Creating a column `Churn` to use as the label for your model. I am using the `Cancellation Confirmation` events to define churn, which happen for both paid and free users."
   ]
  },
  {
   "cell_type": "code",
   "execution_count": 83,
   "metadata": {},
   "outputs": [],
   "source": [
    "# Get users that churned\n",
    "churned_users = df.where(df.page == \"Cancellation Confirmation\").select(\"userId\").dropDuplicates()"
   ]
  },
  {
   "cell_type": "markdown",
   "metadata": {},
   "source": [
    "#### Add a boolean column to df indicating user churn"
   ]
  },
  {
   "cell_type": "code",
   "execution_count": 84,
   "metadata": {},
   "outputs": [
    {
     "name": "stdout",
     "output_type": "stream",
     "text": [
      "+------+-------+\n",
      "|userId|churned|\n",
      "+------+-------+\n",
      "|   125|      1|\n",
      "|    51|      1|\n",
      "|    54|      1|\n",
      "|100014|      1|\n",
      "|   101|      1|\n",
      "+------+-------+\n",
      "only showing top 5 rows\n",
      "\n"
     ]
    }
   ],
   "source": [
    "churn = udf(lambda x: 1, IntegerType())\n",
    "churned_users = churned_users.withColumn(\"churned\", lit(1))\n",
    "churned_users.show(5)\n",
    "\n",
    "# Join new column to df\n",
    "df = df.join(churned_users, on=['userId'], how='left')"
   ]
  },
  {
   "cell_type": "markdown",
   "metadata": {},
   "source": [
    "### Calculate aggregates per user that are interesting"
   ]
  },
  {
   "cell_type": "markdown",
   "metadata": {},
   "source": [
    "#### Create dataframe that is aggregated on user level"
   ]
  },
  {
   "cell_type": "code",
   "execution_count": 85,
   "metadata": {},
   "outputs": [],
   "source": [
    "# Create user aggregation and add churn information\n",
    "df_user_agg = df.select([\"userId\", \"gender\", \"churned\"]).groupBy([\"userId\", \"gender\"]).max()\n",
    "df_user_agg = df_user_agg.na.fill(0)\n",
    "df_user_agg = df_user_agg.withColumnRenamed(\"max(churned)\", \"churned\")"
   ]
  },
  {
   "cell_type": "code",
   "execution_count": 86,
   "metadata": {
    "scrolled": true
   },
   "outputs": [
    {
     "name": "stdout",
     "output_type": "stream",
     "text": [
      "+------+------+-------+\n",
      "|userId|gender|churned|\n",
      "+------+------+-------+\n",
      "|100010|     F|      0|\n",
      "|200002|     M|      0|\n",
      "|   125|     M|      1|\n",
      "|   124|     F|      0|\n",
      "|    51|     M|      1|\n",
      "+------+------+-------+\n",
      "only showing top 5 rows\n",
      "\n"
     ]
    }
   ],
   "source": [
    "df_user_agg.show(5)"
   ]
  },
  {
   "cell_type": "code",
   "execution_count": 87,
   "metadata": {},
   "outputs": [
    {
     "name": "stdout",
     "output_type": "stream",
     "text": [
      "Columns in df:\n",
      "['userId', 'artist', 'auth', 'firstName', 'gender', 'itemInSession', 'lastName', 'length', 'level', 'location', 'method', 'page', 'registration', 'sessionId', 'song', 'status', 'ts', 'userAgent', 'churned']\n",
      "\n",
      "Event types:\n",
      "+--------------------+\n",
      "|                page|\n",
      "+--------------------+\n",
      "|               About|\n",
      "|          Add Friend|\n",
      "|     Add to Playlist|\n",
      "|              Cancel|\n",
      "|Cancellation Conf...|\n",
      "|           Downgrade|\n",
      "|               Error|\n",
      "|                Help|\n",
      "|                Home|\n",
      "|              Logout|\n",
      "|            NextSong|\n",
      "|         Roll Advert|\n",
      "|       Save Settings|\n",
      "|            Settings|\n",
      "|    Submit Downgrade|\n",
      "|      Submit Upgrade|\n",
      "|         Thumbs Down|\n",
      "|           Thumbs Up|\n",
      "|             Upgrade|\n",
      "+--------------------+\n",
      "\n"
     ]
    }
   ],
   "source": [
    "print(\"Columns in df:\")\n",
    "print(df.columns)\n",
    "print(\"\\nEvent types:\")\n",
    "df.select(\"page\").dropDuplicates().orderBy(df.page.asc()).show()"
   ]
  },
  {
   "cell_type": "code",
   "execution_count": 88,
   "metadata": {
    "scrolled": true
   },
   "outputs": [],
   "source": [
    "# Calculate songs per user\n",
    "df_songs_per_user = df.where(df.page == \"NextSong\").select([\"userId\", \"page\"]).groupBy([\"userId\"]).count()\n",
    "df_songs_per_user = df_songs_per_user.withColumnRenamed(\"count\", \"songs_listened\")"
   ]
  },
  {
   "cell_type": "code",
   "execution_count": 89,
   "metadata": {},
   "outputs": [],
   "source": [
    "# Calculate ads per user\n",
    "df_ads_per_user = df.where(df.page == \"Roll Advert\").select([\"userId\", \"page\"]).groupBy([\"userId\"]).count()\n",
    "df_ads_per_user = df_ads_per_user.withColumnRenamed(\"count\", \"adverts_rolled\")"
   ]
  },
  {
   "cell_type": "code",
   "execution_count": 90,
   "metadata": {},
   "outputs": [],
   "source": [
    "# Calculate friends added per user\n",
    "df_friends_added_per_user = df.where(df.page == \"Add Friend\").select([\"userId\", \"page\"]).groupBy([\"userId\"]).count()\n",
    "df_friends_added_per_user = df_friends_added_per_user.withColumnRenamed(\"count\", \"friends_added\")"
   ]
  },
  {
   "cell_type": "code",
   "execution_count": 91,
   "metadata": {},
   "outputs": [],
   "source": [
    "# Calculate upgrades to premium per user\n",
    "df_upgrades_per_user = df.where(df.page == \"Submit Upgrade\").select([\"userId\", \"page\"]).groupBy([\"userId\"]).count()\n",
    "df_upgrades_per_user = df_upgrades_per_user.withColumnRenamed(\"count\", \"times_upgraded\")"
   ]
  },
  {
   "cell_type": "code",
   "execution_count": 92,
   "metadata": {},
   "outputs": [],
   "source": [
    "# Calculate downgrades for free per user\n",
    "df_downgrades_per_user = df.where(df.page == \"Submit Downgrade\").select([\"userId\", \"page\"]).groupBy([\"userId\"]).count()\n",
    "df_downgrades_per_user = df_downgrades_per_user.withColumnRenamed(\"count\", \"times_downgraded\")"
   ]
  },
  {
   "cell_type": "code",
   "execution_count": 93,
   "metadata": {},
   "outputs": [],
   "source": [
    "# Calculate playlist additions per user\n",
    "df_playlist_adds_per_user = df.where(df.page == \"Add to Playlist\").select([\"userId\", \"page\"]).groupBy([\"userId\"]).count()\n",
    "df_playlist_adds_per_user = df_playlist_adds_per_user.withColumnRenamed(\"count\", \"playlist_additions\")"
   ]
  },
  {
   "cell_type": "code",
   "execution_count": 94,
   "metadata": {},
   "outputs": [],
   "source": [
    "# Calculate errors per user\n",
    "df_errors_per_user = df.where(df.page == \"Error\").select([\"userId\", \"page\"]).groupBy([\"userId\"]).count()\n",
    "df_errors_per_user = df_errors_per_user.withColumnRenamed(\"count\", \"errors\")"
   ]
  },
  {
   "cell_type": "code",
   "execution_count": 95,
   "metadata": {},
   "outputs": [],
   "source": [
    "# Calculate help access per user\n",
    "df_help_per_user = df.where(df.page == \"Help\").select([\"userId\", \"page\"]).groupBy([\"userId\"]).count()\n",
    "df_help_per_user = df_help_per_user.withColumnRenamed(\"count\", \"help_access_count\")"
   ]
  },
  {
   "cell_type": "code",
   "execution_count": 96,
   "metadata": {},
   "outputs": [],
   "source": [
    "# Calculate logouts per user\n",
    "df_logouts_per_user = df.where(df.page == \"Logout\").select([\"userId\", \"page\"]).groupBy([\"userId\"]).count()\n",
    "df_logouts_per_user = df_logouts_per_user.withColumnRenamed(\"count\", \"logouts\")"
   ]
  },
  {
   "cell_type": "code",
   "execution_count": 97,
   "metadata": {},
   "outputs": [],
   "source": [
    "# Calculate thumbs up per user\n",
    "df_thumbs_up_per_user = df.where(df.page == \"Thumbs Up\").select([\"userId\", \"page\"]).groupBy([\"userId\"]).count()\n",
    "df_thumbs_up_per_user = df_thumbs_up_per_user.withColumnRenamed(\"count\", \"thumbs_up_given\")"
   ]
  },
  {
   "cell_type": "code",
   "execution_count": 98,
   "metadata": {},
   "outputs": [],
   "source": [
    "# Calculate thumbs down per user\n",
    "df_thumbs_down_per_user = df.where(df.page == \"Thumbs Down\").select([\"userId\", \"page\"]).groupBy([\"userId\"]).count()\n",
    "df_thumbs_down_per_user = df_thumbs_down_per_user.withColumnRenamed(\"count\", \"thumbs_down_given\")"
   ]
  },
  {
   "cell_type": "code",
   "execution_count": 99,
   "metadata": {},
   "outputs": [
    {
     "name": "stdout",
     "output_type": "stream",
     "text": [
      "+------+-------------+-------------+----------+\n",
      "|userId|   last_login| registration|  user_age|\n",
      "+------+-------------+-------------+----------+\n",
      "|100010|1542823952000|1538016340000|4807612000|\n",
      "+------+-------------+-------------+----------+\n",
      "only showing top 1 row\n",
      "\n"
     ]
    }
   ],
   "source": [
    "# Calculate time registered (\"user age\")\n",
    "df_age_per_user = df.groupBy(\"userId\").agg(f.max('ts').alias(\"last_login\"), \\\n",
    "    f.min('registration').alias(\"registration\"))\n",
    "\n",
    "df_age_per_user = df_age_per_user.withColumn(\"user_age\", df_age_per_user.last_login - df_age_per_user.registration)\n",
    "\n",
    "df_age_per_user.show(1)"
   ]
  },
  {
   "cell_type": "markdown",
   "metadata": {},
   "source": [
    "#### Number of sessions\n",
    "The number of sessions is calculated by calculating the **distinct count of session IDs per user**. \n",
    "- It appears the session ID itself does not represent the number of sesssion of that user, as they usually don't follow the numerical series 1..n but are fragmentary. Therefore I can not use the **max sessionId per user** as session count. \n",
    "- The last event of each session is not necessarily a \"logout\" and the first event is not always the \"Home\" page, but they can happen within one session Id. This means I also can't use the **number of \"Home\" pages per user** as session count."
   ]
  },
  {
   "cell_type": "code",
   "execution_count": 100,
   "metadata": {},
   "outputs": [
    {
     "name": "stdout",
     "output_type": "stream",
     "text": [
      "Illustrates the points mentioned in the markdown above.\n",
      "+---------+---------------+\n",
      "|sessionId|           page|\n",
      "+---------+---------------+\n",
      "|        2|       NextSong|\n",
      "|        2|    Roll Advert|\n",
      "|        2|       NextSong|\n",
      "|        2|       NextSong|\n",
      "|        2|      Thumbs Up|\n",
      "|        2|       NextSong|\n",
      "|        2|Add to Playlist|\n",
      "|       44|       NextSong|\n",
      "|       44|       NextSong|\n",
      "|       44|       NextSong|\n",
      "|       44|       NextSong|\n",
      "|       44|    Roll Advert|\n",
      "|       44|       NextSong|\n",
      "|       44|       NextSong|\n",
      "|       44|          About|\n",
      "|       44|     Add Friend|\n",
      "|       44|           Home|\n",
      "|       44|       Settings|\n",
      "|       44|       NextSong|\n",
      "|       44|           Home|\n",
      "|       44|     Add Friend|\n",
      "|       44|       NextSong|\n",
      "|       44|       NextSong|\n",
      "|       44|       NextSong|\n",
      "|       44|       NextSong|\n",
      "|       44|       NextSong|\n",
      "|       44|      Thumbs Up|\n",
      "|       44|       NextSong|\n",
      "|       44|       NextSong|\n",
      "|       44|       NextSong|\n",
      "|       44|       NextSong|\n",
      "|       44|       NextSong|\n",
      "|       44|       NextSong|\n",
      "|       44|    Roll Advert|\n",
      "|       44|       NextSong|\n",
      "|       44|       NextSong|\n",
      "|       44|         Logout|\n",
      "|      114|           Home|\n",
      "|      114|       NextSong|\n",
      "|      114|       NextSong|\n",
      "|      114|    Roll Advert|\n",
      "|      114|       NextSong|\n",
      "|      114|       NextSong|\n",
      "|      114|       NextSong|\n",
      "|      114|       NextSong|\n",
      "|      114|       NextSong|\n",
      "|      114|       NextSong|\n",
      "|      114|Add to Playlist|\n",
      "|      114|       NextSong|\n",
      "|      114|        Upgrade|\n",
      "|      114|       NextSong|\n",
      "|      114|       NextSong|\n",
      "|      114|       NextSong|\n",
      "|      114|       NextSong|\n",
      "|      114|      Thumbs Up|\n",
      "|      114|       NextSong|\n",
      "|      114|       NextSong|\n",
      "|      114|       NextSong|\n",
      "|      114|       NextSong|\n",
      "|      114|       NextSong|\n",
      "|      114|       NextSong|\n",
      "|      114|       NextSong|\n",
      "|      114|       NextSong|\n",
      "|      114|       NextSong|\n",
      "|      114|           Home|\n",
      "|      114|       NextSong|\n",
      "|      114|       NextSong|\n",
      "|      114|       NextSong|\n",
      "|      114|       NextSong|\n",
      "|      114|       NextSong|\n",
      "|      114|       NextSong|\n",
      "|      114|       NextSong|\n",
      "|      114|       NextSong|\n",
      "|      114|       NextSong|\n",
      "|      114|       NextSong|\n",
      "|      114|      Thumbs Up|\n",
      "|      114|       NextSong|\n",
      "|      114|       NextSong|\n",
      "|      114|    Roll Advert|\n",
      "|      163|          About|\n",
      "|      163|       Settings|\n",
      "|      163|           Home|\n",
      "|      163|       NextSong|\n",
      "|      163|           Home|\n",
      "|      163|       NextSong|\n",
      "|      163|       NextSong|\n",
      "|      163|      Thumbs Up|\n",
      "|      163|       NextSong|\n",
      "|      163|       NextSong|\n",
      "|      163|       NextSong|\n",
      "|      163|       NextSong|\n",
      "|      163|       NextSong|\n",
      "|      163|       NextSong|\n",
      "|      163|    Thumbs Down|\n",
      "|      163|       NextSong|\n",
      "|      163|       NextSong|\n",
      "|      163|       NextSong|\n",
      "|      163|       NextSong|\n",
      "|      163|      Thumbs Up|\n",
      "|      163|       NextSong|\n",
      "|      163|       NextSong|\n",
      "|      163|       NextSong|\n",
      "|      163|    Roll Advert|\n",
      "|      163|       NextSong|\n",
      "|      163|       NextSong|\n",
      "|      163|       NextSong|\n",
      "|      163|    Roll Advert|\n",
      "|      163|       NextSong|\n",
      "|      163|Add to Playlist|\n",
      "|      163|       NextSong|\n",
      "|      163|       NextSong|\n",
      "|      163|       NextSong|\n",
      "|      163|       NextSong|\n",
      "|      163|       NextSong|\n",
      "|      163|       NextSong|\n",
      "|      163|       NextSong|\n",
      "|      163|       NextSong|\n",
      "|      163|       NextSong|\n",
      "|      163|        Upgrade|\n",
      "|      163| Submit Upgrade|\n",
      "|      163|           Home|\n",
      "|      163|         Logout|\n",
      "|      163|           Home|\n",
      "|      163|       NextSong|\n",
      "|      163|       NextSong|\n",
      "|      163|       NextSong|\n",
      "|      163|       NextSong|\n",
      "|      163|       NextSong|\n",
      "|      163|       NextSong|\n",
      "|      163|       NextSong|\n",
      "|      163|      Downgrade|\n",
      "|      163|      Downgrade|\n",
      "|      163|           Help|\n",
      "|      163|       NextSong|\n",
      "|      163|       NextSong|\n",
      "|      163|       NextSong|\n",
      "|      163|       NextSong|\n",
      "|      163|       NextSong|\n",
      "|      163|       NextSong|\n",
      "|      163|       NextSong|\n",
      "|      163|       NextSong|\n",
      "|      163|       NextSong|\n",
      "|      163|       NextSong|\n",
      "|      163|       NextSong|\n",
      "|      163|     Add Friend|\n",
      "|      163|       NextSong|\n",
      "|      163|       NextSong|\n",
      "|      163|       NextSong|\n",
      "|      163|       NextSong|\n",
      "|      163|       NextSong|\n",
      "|      163|       NextSong|\n",
      "|      163|       NextSong|\n",
      "|      163|       NextSong|\n",
      "|      163|       NextSong|\n",
      "|      163|       NextSong|\n",
      "|      163|       NextSong|\n",
      "|      163|       NextSong|\n",
      "|      163|      Thumbs Up|\n",
      "|      163|       NextSong|\n",
      "|      163|       NextSong|\n",
      "|      163|       NextSong|\n",
      "|      163|       NextSong|\n",
      "|      163|           Home|\n",
      "|      163|       NextSong|\n",
      "|      163|      Thumbs Up|\n",
      "|      163|       NextSong|\n",
      "|      163|       NextSong|\n",
      "|      163|       NextSong|\n",
      "|      163|       NextSong|\n",
      "|      163|         Logout|\n",
      "|      163|           Home|\n",
      "|      163|       NextSong|\n",
      "|      163|       NextSong|\n",
      "|      163|       NextSong|\n",
      "|      163|       NextSong|\n",
      "|      163|Add to Playlist|\n",
      "|      163|       NextSong|\n",
      "|      163|       NextSong|\n",
      "|      163|       NextSong|\n",
      "|      163|       NextSong|\n",
      "|      163|       NextSong|\n",
      "|      163|       NextSong|\n",
      "|      163|       NextSong|\n",
      "|      163|       NextSong|\n",
      "|      163|       NextSong|\n",
      "|      163|       NextSong|\n",
      "|      163|       NextSong|\n",
      "|      163|    Thumbs Down|\n",
      "|      163|       NextSong|\n",
      "|      163|       NextSong|\n",
      "|      163|      Downgrade|\n",
      "|      163|       NextSong|\n",
      "|      163|       NextSong|\n",
      "|      163|       Settings|\n",
      "|      163|       NextSong|\n",
      "|      163|Add to Playlist|\n",
      "|      163|       NextSong|\n",
      "|      163|      Thumbs Up|\n",
      "|      163|       NextSong|\n",
      "|      163|       NextSong|\n",
      "|      163|       NextSong|\n",
      "|      163|       NextSong|\n",
      "|      163|       NextSong|\n",
      "|      163|       NextSong|\n",
      "|      163|       NextSong|\n",
      "|      163|       NextSong|\n",
      "|      163|       NextSong|\n",
      "|      163|       NextSong|\n",
      "|      163|       NextSong|\n",
      "|      163|    Thumbs Down|\n",
      "|      163|       NextSong|\n",
      "|      163|       NextSong|\n",
      "|      163|       NextSong|\n",
      "|      163|       NextSong|\n",
      "|      163|       NextSong|\n",
      "|      163|       NextSong|\n",
      "|      163|       NextSong|\n",
      "|      163|       NextSong|\n",
      "|      163|    Thumbs Down|\n",
      "|      163|       NextSong|\n",
      "|      163|       NextSong|\n",
      "|      163|       NextSong|\n",
      "|      163|       NextSong|\n",
      "|      163|       NextSong|\n",
      "|      163|       NextSong|\n",
      "|      163|      Thumbs Up|\n",
      "|      163|       NextSong|\n",
      "|      163|       NextSong|\n",
      "|      163|      Thumbs Up|\n",
      "|      163|       NextSong|\n",
      "|      163|     Add Friend|\n",
      "|      174|           Home|\n",
      "|      174|       NextSong|\n",
      "|      174|           Home|\n",
      "|      174|       NextSong|\n",
      "|      174|       NextSong|\n",
      "|      174|       NextSong|\n",
      "|      174|      Thumbs Up|\n",
      "|      174|       NextSong|\n",
      "|      174|       NextSong|\n",
      "|      174|       NextSong|\n",
      "|      174|       NextSong|\n",
      "|      174|       NextSong|\n",
      "|      174|       NextSong|\n",
      "|      174|       NextSong|\n",
      "|      174|       NextSong|\n",
      "|      174|       NextSong|\n",
      "|      174|      Thumbs Up|\n",
      "|      174|       NextSong|\n",
      "|      174|       NextSong|\n",
      "|      174|       NextSong|\n",
      "|      174|       NextSong|\n",
      "|      174|       NextSong|\n",
      "|      174|    Thumbs Down|\n",
      "|      174|       NextSong|\n",
      "|      174|    Thumbs Down|\n",
      "|      174|       NextSong|\n",
      "|      174|       NextSong|\n",
      "|      174|       NextSong|\n",
      "|      174|Add to Playlist|\n",
      "|      174|       NextSong|\n",
      "|      174|       NextSong|\n",
      "|      174|       NextSong|\n",
      "|      174|       NextSong|\n",
      "|      174|       NextSong|\n",
      "|      174|       NextSong|\n",
      "|      174|       NextSong|\n",
      "|      174|       NextSong|\n",
      "|      174|       NextSong|\n",
      "|      174|       NextSong|\n",
      "|      174|       NextSong|\n",
      "|      174|       NextSong|\n",
      "|      174|       NextSong|\n",
      "|      174|       NextSong|\n",
      "|      174|       NextSong|\n",
      "|      174|       NextSong|\n",
      "|      174|       NextSong|\n",
      "|      174|       NextSong|\n",
      "|      174|       NextSong|\n",
      "|      174|       NextSong|\n",
      "|      174|       NextSong|\n",
      "|      174|       NextSong|\n",
      "|      174|       NextSong|\n",
      "|      174|       NextSong|\n",
      "|      174|       NextSong|\n",
      "|      174|       NextSong|\n",
      "|      174|       NextSong|\n",
      "|      174|       NextSong|\n",
      "|      174|       NextSong|\n",
      "|      174|       NextSong|\n",
      "|      174|       NextSong|\n",
      "|      174|       NextSong|\n",
      "|      174|       NextSong|\n",
      "|      174|       NextSong|\n",
      "|      174|       NextSong|\n",
      "|      174|       NextSong|\n",
      "|      174|       NextSong|\n",
      "|      174|       NextSong|\n",
      "|      174|       NextSong|\n",
      "|      174|       NextSong|\n",
      "|      174|       NextSong|\n",
      "|      174|       NextSong|\n",
      "|      174|       NextSong|\n",
      "|      174|       NextSong|\n",
      "|      174|       NextSong|\n",
      "|      174|      Thumbs Up|\n",
      "|      174|       NextSong|\n",
      "|      174|       NextSong|\n",
      "|      174|       NextSong|\n",
      "|      174|       NextSong|\n",
      "|      174|       NextSong|\n",
      "|      174|           Home|\n",
      "|      174|       NextSong|\n",
      "|      174|       NextSong|\n",
      "|      174|       NextSong|\n",
      "|      174|       NextSong|\n",
      "|      174|       NextSong|\n",
      "|      174|       NextSong|\n",
      "|      174|       NextSong|\n",
      "|      174|      Thumbs Up|\n",
      "|      174|       NextSong|\n",
      "|      174|       NextSong|\n",
      "|      174|       NextSong|\n",
      "|      174|       NextSong|\n",
      "|      174|       NextSong|\n",
      "|      174|       NextSong|\n",
      "|      174|       NextSong|\n",
      "|      174|       NextSong|\n",
      "|      174|       NextSong|\n",
      "|      174|       NextSong|\n",
      "|      174|       NextSong|\n",
      "|      174|           Home|\n",
      "|      174|       NextSong|\n",
      "|      174|       NextSong|\n",
      "|      205|       NextSong|\n",
      "|      205|       NextSong|\n",
      "|      205|       NextSong|\n",
      "|      205|       NextSong|\n",
      "|      205|       NextSong|\n",
      "|      205|       NextSong|\n",
      "|      205|       NextSong|\n",
      "|      205|       NextSong|\n",
      "|      205|       NextSong|\n",
      "|      205|       NextSong|\n",
      "|      205|       NextSong|\n",
      "|      205|       NextSong|\n",
      "|      205|       NextSong|\n",
      "|      205|       NextSong|\n",
      "|      205|       NextSong|\n",
      "|      205|       NextSong|\n",
      "|      205|       NextSong|\n",
      "|      205|       NextSong|\n",
      "|      205|       NextSong|\n",
      "|      205|       NextSong|\n",
      "|      205|      Thumbs Up|\n",
      "|      205|       NextSong|\n",
      "|      205|       NextSong|\n",
      "|      205|       NextSong|\n",
      "|      205|           Help|\n",
      "|      205|       NextSong|\n",
      "|      205|      Thumbs Up|\n",
      "|      205|       NextSong|\n",
      "|      205|       NextSong|\n",
      "|      205|       NextSong|\n",
      "|      205|       NextSong|\n",
      "|      205|Add to Playlist|\n",
      "|      205|       NextSong|\n",
      "|      205|       NextSong|\n",
      "|      205|       NextSong|\n",
      "|      205|       NextSong|\n",
      "|      205|       NextSong|\n",
      "|      205|       NextSong|\n",
      "|      205|       NextSong|\n",
      "|      205|       NextSong|\n",
      "|      205|       NextSong|\n",
      "|      205|           Home|\n",
      "|      205|       NextSong|\n",
      "|      205|       NextSong|\n",
      "|      205|         Logout|\n",
      "|      205|           Home|\n",
      "|      205|       NextSong|\n",
      "|      205|       NextSong|\n",
      "|      205|       NextSong|\n",
      "|      205|       NextSong|\n",
      "|      205|       NextSong|\n",
      "|      205|       NextSong|\n",
      "|      205|       NextSong|\n",
      "|      205|       NextSong|\n",
      "|      205|Add to Playlist|\n",
      "|      205|       NextSong|\n",
      "|      205|       NextSong|\n",
      "|      205|       NextSong|\n",
      "|      205|       NextSong|\n",
      "|      205|       NextSong|\n",
      "|      205|       NextSong|\n",
      "|      205|       NextSong|\n",
      "|      205|       NextSong|\n",
      "|      205|       NextSong|\n",
      "|      205|       NextSong|\n",
      "|      205|       NextSong|\n",
      "|      205|      Thumbs Up|\n",
      "|      205|       NextSong|\n",
      "|      205|       NextSong|\n",
      "|      205|       NextSong|\n",
      "|      205|       NextSong|\n",
      "|      205|       NextSong|\n",
      "|      205|       NextSong|\n",
      "|      205|       NextSong|\n",
      "|      205|       NextSong|\n",
      "|      205|       NextSong|\n",
      "|      205|           Home|\n",
      "|      205|       NextSong|\n",
      "|      205|       NextSong|\n",
      "|      205|       NextSong|\n",
      "|      205|       NextSong|\n",
      "|      205|       NextSong|\n",
      "|      205|       NextSong|\n",
      "|      205|       NextSong|\n",
      "|      205|       NextSong|\n",
      "|      205|       NextSong|\n",
      "|      205|         Logout|\n",
      "|      205|           Home|\n",
      "|      205|       NextSong|\n",
      "|      205|       NextSong|\n",
      "|      205|       NextSong|\n",
      "|      205|       NextSong|\n",
      "|      205|       NextSong|\n",
      "|      205|       NextSong|\n",
      "|      205|       NextSong|\n",
      "|      205|       NextSong|\n",
      "|      205|       NextSong|\n",
      "|      205|           Home|\n",
      "|      205|       NextSong|\n",
      "|      205|           Home|\n",
      "|      205|       NextSong|\n",
      "|      205|       NextSong|\n",
      "|      205|      Downgrade|\n",
      "|      205|      Downgrade|\n",
      "|      205|       NextSong|\n",
      "|      205|       NextSong|\n",
      "|      205|       NextSong|\n",
      "|      205|       NextSong|\n",
      "|      205|       NextSong|\n",
      "|      205|       NextSong|\n",
      "|      205|       NextSong|\n",
      "|      205|       NextSong|\n",
      "|      205|       NextSong|\n",
      "|      205|       NextSong|\n",
      "|      205|       NextSong|\n",
      "|      205|      Thumbs Up|\n",
      "|      205|       NextSong|\n",
      "|      205|       NextSong|\n",
      "|      205|       NextSong|\n",
      "|      205|       NextSong|\n",
      "|      205|       NextSong|\n",
      "|      205|       NextSong|\n",
      "|      205|       NextSong|\n",
      "|      205|       NextSong|\n",
      "|      205|      Thumbs Up|\n",
      "|      205|       NextSong|\n",
      "|      205|       NextSong|\n",
      "|      205|       NextSong|\n",
      "|      205|       NextSong|\n",
      "|      205|          About|\n",
      "|      205|       NextSong|\n",
      "|      205|       NextSong|\n",
      "|      205|       NextSong|\n",
      "|      205|       NextSong|\n",
      "|      205|       NextSong|\n",
      "|      205|       NextSong|\n",
      "|      205|       NextSong|\n",
      "|      205|       NextSong|\n",
      "|      205|       NextSong|\n",
      "|      205|      Thumbs Up|\n",
      "+---------+---------------+\n",
      "\n"
     ]
    }
   ],
   "source": [
    "print(\"Illustrates the points mentioned in the markdown above.\")\n",
    "df.where(df.userId == 200002).select(\"sessionId\", \"page\").orderBy(\"ts\").show(1000)"
   ]
  },
  {
   "cell_type": "code",
   "execution_count": 101,
   "metadata": {},
   "outputs": [],
   "source": [
    "# Calculate number of sessions per user\n",
    "df_sessions_per_user = df.select([\"userId\", \"sessionId\"]).groupBy(\"userId\").agg(countDistinct(\"sessionId\"))\n",
    "df_sessions_per_user = df_sessions_per_user.withColumnRenamed(\"count(sessionId)\", \"session_count\")"
   ]
  },
  {
   "cell_type": "code",
   "execution_count": 102,
   "metadata": {},
   "outputs": [],
   "source": [
    "# Calculate session start and session end and session length\n",
    "df_session_info_per_user = df.groupBy(\"userId\", \"sessionId\").agg(f.min('ts').alias(\"session_start\"), \\\n",
    "    f.max('ts').alias(\"session_end\"))\n",
    "\n",
    "df_session_info_per_user = df_session_info_per_user.withColumn(\"session_length\", \\\n",
    "    df_session_info_per_user.session_end - df_session_info_per_user.session_start)\n",
    "\n",
    "\n",
    "# Calculate average session length and average time between sessions\n",
    "df_session_info_per_user = df_session_info_per_user.withColumn('session_end_last_session',\n",
    "                        f.lag(df_session_info_per_user['session_end'], 1)\n",
    "                                 .over(Window.partitionBy(\"userId\").orderBy(\"userId\")))\n",
    "\n",
    "df_session_info_per_user = df_session_info_per_user.withColumn(\"time_since_last_session\", \\\n",
    "    df_session_info_per_user.session_start - df_session_info_per_user.session_end_last_session)"
   ]
  },
  {
   "cell_type": "code",
   "execution_count": 103,
   "metadata": {},
   "outputs": [
    {
     "name": "stdout",
     "output_type": "stream",
     "text": [
      "+------+--------------------+-------------------------+\n",
      "|userId|  avg_session_length|avg_time_between_sessions|\n",
      "+------+--------------------+-------------------------+\n",
      "|100010|           9269000.0|               6.259225E8|\n",
      "|200002|            1.5984E7|                7.67004E8|\n",
      "|   125|           1774000.0|                     null|\n",
      "|   124|3.4739655172413796E7|     1.4915307142857143E8|\n",
      "|    51|           5.23414E7|       9.33251111111111E7|\n",
      "|     7|   5258428.571428572|               7.251555E8|\n",
      "|    15|            3.1697E7|     3.0406771428571427E8|\n",
      "|    54| 1.933737837837838E7|               8.283875E7|\n",
      "|   155|3.2914333333333332E7|               4.068078E8|\n",
      "|100014|1.1088833333333334E7|                6.99396E8|\n",
      "|   132|        2.99370625E7|               2.589322E8|\n",
      "|   154|           6641000.0|              1.0694535E9|\n",
      "|   101|           4.90548E7|       9.77648888888889E7|\n",
      "|    11|           9682625.0|               2.963434E8|\n",
      "|   138|           3.38536E7|      3.098019285714286E8|\n",
      "|300017|1.3999444444444444E7|      6.815283870967741E7|\n",
      "|100021|           1.29136E7|              9.6573475E8|\n",
      "|    29| 2.194541176470588E7|      9.081163636363636E7|\n",
      "|    69|3.1601111111111112E7|              5.1510275E8|\n",
      "|   112|           5067100.0|      5.404053333333334E8|\n",
      "+------+--------------------+-------------------------+\n",
      "only showing top 20 rows\n",
      "\n"
     ]
    }
   ],
   "source": [
    "df_session_info_per_user = df_session_info_per_user.groupBy(\"userId\").agg(f.mean('session_length'), f.mean('time_since_last_session'))\n",
    "df_session_info_per_user = df_session_info_per_user.withColumnRenamed(\"avg(session_length)\", \"avg_session_length\")\n",
    "df_session_info_per_user = df_session_info_per_user.withColumnRenamed(\"avg(time_since_last_session)\", \"avg_time_between_sessions\")\n",
    "\n",
    "df_session_info_per_user.show()"
   ]
  },
  {
   "cell_type": "code",
   "execution_count": 104,
   "metadata": {},
   "outputs": [
    {
     "name": "stdout",
     "output_type": "stream",
     "text": [
      "How often is average time between sessions NULL due to user having only one session?\n",
      "+------+------------------+-------------------------+\n",
      "|userId|avg_session_length|avg_time_between_sessions|\n",
      "+------+------------------+-------------------------+\n",
      "|     0|                 0|                       15|\n",
      "+------+------------------+-------------------------+\n",
      "\n"
     ]
    }
   ],
   "source": [
    "print(\"How often is average time between sessions NULL due to user having only one session?\")\n",
    "df_session_info_per_user.select([count(when(isnull(c), c)).alias(c) for c in df_session_info_per_user.columns]).show()"
   ]
  },
  {
   "cell_type": "markdown",
   "metadata": {},
   "source": [
    "#### Impute null values of avg_time_between_sessions with the mean"
   ]
  },
  {
   "cell_type": "code",
   "execution_count": 105,
   "metadata": {},
   "outputs": [],
   "source": [
    "# Calculate mean\n",
    "avg_time_between_sessions_mean = df_session_info_per_user.select(mean(col('avg_time_between_sessions'))).collect()[0][\"avg(avg_time_between_sessions)\"]"
   ]
  },
  {
   "cell_type": "code",
   "execution_count": 106,
   "metadata": {},
   "outputs": [],
   "source": [
    "# Impute\n",
    "imputed_time_between_sessions = df_session_info_per_user.select(\"userId\", \"avg_time_between_sessions\").na.fill(avg_time_between_sessions_mean)"
   ]
  },
  {
   "cell_type": "code",
   "execution_count": 107,
   "metadata": {},
   "outputs": [],
   "source": [
    "# Drop old column\n",
    "df_session_info_per_user = df_session_info_per_user.drop(\"avg_time_between_sessions\")"
   ]
  },
  {
   "cell_type": "code",
   "execution_count": 108,
   "metadata": {},
   "outputs": [],
   "source": [
    "# Join imputed column\n",
    "df_session_info_per_user = df_session_info_per_user.join(imputed_time_between_sessions, on=['userId'], how='left')"
   ]
  },
  {
   "cell_type": "code",
   "execution_count": 109,
   "metadata": {},
   "outputs": [
    {
     "name": "stdout",
     "output_type": "stream",
     "text": [
      "+------+--------------------+-------------------------+\n",
      "|userId|  avg_session_length|avg_time_between_sessions|\n",
      "+------+--------------------+-------------------------+\n",
      "|100010|           9269000.0|               6.259225E8|\n",
      "|200002|            1.5984E7|                7.67004E8|\n",
      "|   125|           1774000.0|     4.6890655323444223E8|\n",
      "|   124|3.4739655172413796E7|     1.4915307142857143E8|\n",
      "|    51|           5.23414E7|       9.33251111111111E7|\n",
      "+------+--------------------+-------------------------+\n",
      "only showing top 5 rows\n",
      "\n"
     ]
    }
   ],
   "source": [
    "df_session_info_per_user.show(5)"
   ]
  },
  {
   "cell_type": "code",
   "execution_count": 110,
   "metadata": {},
   "outputs": [],
   "source": [
    "# Join aggregates together to one table\n",
    "df_user_agg = df_user_agg.join(df_songs_per_user, on=['userId'], how='left')\n",
    "df_user_agg = df_user_agg.join(df_ads_per_user, on=['userId'], how='left')\n",
    "df_user_agg = df_user_agg.join(df_friends_added_per_user, on=['userId'], how='left')\n",
    "df_user_agg = df_user_agg.join(df_playlist_adds_per_user, on=['userId'], how='left')\n",
    "df_user_agg = df_user_agg.join(df_errors_per_user, on=['userId'], how='left')\n",
    "df_user_agg = df_user_agg.join(df_help_per_user, on=['userId'], how='left')\n",
    "df_user_agg = df_user_agg.join(df_logouts_per_user, on=['userId'], how='left')\n",
    "df_user_agg = df_user_agg.join(df_thumbs_up_per_user, on=['userId'], how='left')\n",
    "df_user_agg = df_user_agg.join(df_thumbs_down_per_user, on=['userId'], how='left')\n",
    "df_user_agg = df_user_agg.join(df_upgrades_per_user, on=['userId'], how='left')\n",
    "df_user_agg = df_user_agg.join(df_downgrades_per_user, on=['userId'], how='left')\n",
    "df_user_agg = df_user_agg.join(df_age_per_user, on=['userId'], how='left')\n",
    "df_user_agg = df_user_agg.join(df_sessions_per_user, on=['userId'], how='left')\n",
    "df_user_agg = df_user_agg.join(df_session_info_per_user, on=['userId'], how='left')\n",
    "\n",
    "# Fill null values created after join with 0, as they represent missing counts\n",
    "df_user_agg = df_user_agg.na.fill(0)"
   ]
  },
  {
   "cell_type": "markdown",
   "metadata": {},
   "source": [
    "#### Show example record for 1 user"
   ]
  },
  {
   "cell_type": "code",
   "execution_count": 111,
   "metadata": {
    "scrolled": true
   },
   "outputs": [
    {
     "name": "stdout",
     "output_type": "stream",
     "text": [
      "-RECORD 0-----------------------------------------\n",
      " userId                    | 125                  \n",
      " gender                    | M                    \n",
      " churned                   | 1                    \n",
      " songs_listened            | 8                    \n",
      " adverts_rolled            | 1                    \n",
      " friends_added             | 0                    \n",
      " playlist_additions        | 0                    \n",
      " errors                    | 0                    \n",
      " help_access_count         | 0                    \n",
      " logouts                   | 0                    \n",
      " thumbs_up_given           | 0                    \n",
      " thumbs_down_given         | 0                    \n",
      " times_upgraded            | 0                    \n",
      " times_downgraded          | 0                    \n",
      " last_login                | 1539318918000        \n",
      " registration              | 1533157139000        \n",
      " user_age                  | 6161779000           \n",
      " session_count             | 1                    \n",
      " avg_session_length        | 1774000.0            \n",
      " avg_time_between_sessions | 4.6890655323444223E8 \n",
      "\n"
     ]
    }
   ],
   "source": [
    "df_user_agg.where(df_user_agg.userId == 125).show(1, vertical=True)"
   ]
  },
  {
   "cell_type": "markdown",
   "metadata": {},
   "source": [
    "## 4. Explore Data\n"
   ]
  },
  {
   "cell_type": "code",
   "execution_count": 112,
   "metadata": {},
   "outputs": [
    {
     "name": "stdout",
     "output_type": "stream",
     "text": [
      "Number of distinct users:\n",
      "225\n",
      "\n",
      "Number of churned users:\n",
      "52\n"
     ]
    }
   ],
   "source": [
    "print('Number of distinct users:')\n",
    "print(len(df.dropDuplicates(['userId']).collect()))\n",
    "print(\"\\nNumber of churned users:\")\n",
    "print(len(churned_users.collect()))"
   ]
  },
  {
   "cell_type": "markdown",
   "metadata": {},
   "source": [
    "#### Show user activity"
   ]
  },
  {
   "cell_type": "code",
   "execution_count": 113,
   "metadata": {},
   "outputs": [],
   "source": [
    "user_activity = df.select(\"page\").groupBy(\"page\").count().toPandas()"
   ]
  },
  {
   "cell_type": "code",
   "execution_count": 114,
   "metadata": {},
   "outputs": [],
   "source": [
    "user_activity_no_songs = user_activity.drop(axis=1, index=13)"
   ]
  },
  {
   "cell_type": "code",
   "execution_count": 115,
   "metadata": {},
   "outputs": [
    {
     "data": {
      "image/png": "[encoded data removed]",
      "text/plain": [
       "<Figure size 432x288 with 1 Axes>"
      ]
     },
     "metadata": {
      "needs_background": "light"
     },
     "output_type": "display_data"
    }
   ],
   "source": [
    "fig = plt.figure()\n",
    "ax = fig.add_axes([0,0,1,1])\n",
    "page = user_activity_no_songs[\"page\"].to_list()\n",
    "interactions = user_activity_no_songs[\"count\"].to_list()\n",
    "ax.bar(page,interactions)\n",
    "plt.xticks(page, rotation='vertical')\n",
    "plt.show()"
   ]
  },
  {
   "cell_type": "markdown",
   "metadata": {},
   "source": [
    "#### Calculate different aggregates between churned and non-churned users"
   ]
  },
  {
   "cell_type": "code",
   "execution_count": 116,
   "metadata": {},
   "outputs": [],
   "source": [
    "averages_by_churn = df_user_agg.groupBy(\"churned\").agg(f.mean('songs_listened').alias(\"Average Songs Listened\"), \\\n",
    "    f.mean('adverts_rolled').alias(\"Average Ads Watched\"), \\\n",
    "    f.mean('friends_added').alias(\"Average Friends Added\"), \\\n",
    "    f.mean('playlist_additions').alias(\"Average Songs Added to Playlist\"), \\\n",
    "    f.mean('errors').alias(\"Average Number of Errors\"), \\\n",
    "    f.mean('thumbs_up_given').alias(\"Average Thumbs Up Given\"), \\\n",
    "    f.mean('thumbs_down_given').alias(\"Average Thumbs Down Given\"), \\\n",
    "    f.mean('times_upgraded').alias(\"Average Times Upgraded to Premium\"), \\\n",
    "    f.mean('times_downgraded').alias(\"Average Times Downgraded to Free\"), \\\n",
    "    f.mean('logouts').alias(\"Average Number of Logouts\"), \\\n",
    "    f.mean('help_access_count').alias(\"Average Help Requests\"), \\\n",
    "    f.mean('session_count').alias(\"Average Session Count\"), \\\n",
    "    (f.mean('avg_session_length') / 1000/60).alias(\"Average Session Length (mins)\"), \\\n",
    "    (f.mean('avg_time_between_sessions') / 1000/3600).alias(\"Average Time Between Sessions (hours)\"), \\\n",
    "    (f.mean('user_age') / 1000/3600/24).alias(\"Average User Age (days)\"))"
   ]
  },
  {
   "cell_type": "code",
   "execution_count": 117,
   "metadata": {},
   "outputs": [
    {
     "data": {
      "text/html": [
       "<div>\n",
       "<style scoped>\n",
       "    .dataframe tbody tr th:only-of-type {\n",
       "        vertical-align: middle;\n",
       "    }\n",
       "\n",
       "    .dataframe tbody tr th {\n",
       "        vertical-align: top;\n",
       "    }\n",
       "\n",
       "    .dataframe thead th {\n",
       "        text-align: right;\n",
       "    }\n",
       "</style>\n",
       "<table border=\"1\" class=\"dataframe\">\n",
       "  <thead>\n",
       "    <tr style=\"text-align: right;\">\n",
       "      <th></th>\n",
       "      <th>churned</th>\n",
       "      <th>not churned</th>\n",
       "    </tr>\n",
       "  </thead>\n",
       "  <tbody>\n",
       "    <tr>\n",
       "      <th>Average Songs Listened</th>\n",
       "      <td>699.884615</td>\n",
       "      <td>1108.173410</td>\n",
       "    </tr>\n",
       "    <tr>\n",
       "      <th>Average Ads Watched</th>\n",
       "      <td>18.596154</td>\n",
       "      <td>17.144509</td>\n",
       "    </tr>\n",
       "    <tr>\n",
       "      <th>Average Friends Added</th>\n",
       "      <td>12.230769</td>\n",
       "      <td>21.046243</td>\n",
       "    </tr>\n",
       "    <tr>\n",
       "      <th>Average Songs Added to Playlist</th>\n",
       "      <td>19.961538</td>\n",
       "      <td>31.722543</td>\n",
       "    </tr>\n",
       "    <tr>\n",
       "      <th>Average Number of Errors</th>\n",
       "      <td>0.615385</td>\n",
       "      <td>1.271676</td>\n",
       "    </tr>\n",
       "    <tr>\n",
       "      <th>Average Thumbs Up Given</th>\n",
       "      <td>35.750000</td>\n",
       "      <td>61.803468</td>\n",
       "    </tr>\n",
       "    <tr>\n",
       "      <th>Average Thumbs Down Given</th>\n",
       "      <td>9.538462</td>\n",
       "      <td>11.849711</td>\n",
       "    </tr>\n",
       "    <tr>\n",
       "      <th>Average Times Upgraded to Premium</th>\n",
       "      <td>0.615385</td>\n",
       "      <td>0.734104</td>\n",
       "    </tr>\n",
       "    <tr>\n",
       "      <th>Average Times Downgraded to Free</th>\n",
       "      <td>0.173077</td>\n",
       "      <td>0.312139</td>\n",
       "    </tr>\n",
       "    <tr>\n",
       "      <th>Average Number of Logouts</th>\n",
       "      <td>10.634615</td>\n",
       "      <td>15.450867</td>\n",
       "    </tr>\n",
       "    <tr>\n",
       "      <th>Average Help Requests</th>\n",
       "      <td>4.596154</td>\n",
       "      <td>7.023121</td>\n",
       "    </tr>\n",
       "    <tr>\n",
       "      <th>Average Session Count</th>\n",
       "      <td>10.326923</td>\n",
       "      <td>15.254335</td>\n",
       "    </tr>\n",
       "    <tr>\n",
       "      <th>Average Session Length (mins)</th>\n",
       "      <td>259.574530</td>\n",
       "      <td>296.759947</td>\n",
       "    </tr>\n",
       "    <tr>\n",
       "      <th>Average Time Between Sessions (hours)</th>\n",
       "      <td>77.623475</td>\n",
       "      <td>146.070745</td>\n",
       "    </tr>\n",
       "    <tr>\n",
       "      <th>Average User Age (days)</th>\n",
       "      <td>57.305993</td>\n",
       "      <td>86.620619</td>\n",
       "    </tr>\n",
       "  </tbody>\n",
       "</table>\n",
       "</div>"
      ],
      "text/plain": [
       "                                          churned  not churned\n",
       "Average Songs Listened                 699.884615  1108.173410\n",
       "Average Ads Watched                     18.596154    17.144509\n",
       "Average Friends Added                   12.230769    21.046243\n",
       "Average Songs Added to Playlist         19.961538    31.722543\n",
       "Average Number of Errors                 0.615385     1.271676\n",
       "Average Thumbs Up Given                 35.750000    61.803468\n",
       "Average Thumbs Down Given                9.538462    11.849711\n",
       "Average Times Upgraded to Premium        0.615385     0.734104\n",
       "Average Times Downgraded to Free         0.173077     0.312139\n",
       "Average Number of Logouts               10.634615    15.450867\n",
       "Average Help Requests                    4.596154     7.023121\n",
       "Average Session Count                   10.326923    15.254335\n",
       "Average Session Length (mins)          259.574530   296.759947\n",
       "Average Time Between Sessions (hours)   77.623475   146.070745\n",
       "Average User Age (days)                 57.305993    86.620619"
      ]
     },
     "execution_count": 117,
     "metadata": {},
     "output_type": "execute_result"
    }
   ],
   "source": [
    "averages_by_churn = averages_by_churn.toPandas()\n",
    "averages_by_churn_t = averages_by_churn.transpose()\n",
    "averages_by_churn_t.columns = [\"churned\", \"not churned\"]\n",
    "averages_by_churn_t = averages_by_churn_t.drop(axis=1, index=\"churned\")\n",
    "averages_by_churn_t"
   ]
  },
  {
   "cell_type": "markdown",
   "metadata": {},
   "source": [
    "#### Plot the aggregates for each group (churned vs. non-churned)"
   ]
  },
  {
   "cell_type": "code",
   "execution_count": 118,
   "metadata": {},
   "outputs": [
    {
     "data": {
      "image/png": "[encoded data removed]",
      "text/plain": [
       "<Figure size 432x288 with 1 Axes>"
      ]
     },
     "metadata": {
      "needs_background": "light"
     },
     "output_type": "display_data"
    },
    {
     "data": {
      "image/png": "[encoded data removed]",
      "text/plain": [
       "<Figure size 432x288 with 1 Axes>"
      ]
     },
     "metadata": {
      "needs_background": "light"
     },
     "output_type": "display_data"
    },
    {
     "data": {
      "image/png": "[encoded data removed]",
      "text/plain": [
       "<Figure size 432x288 with 1 Axes>"
      ]
     },
     "metadata": {
      "needs_background": "light"
     },
     "output_type": "display_data"
    },
    {
     "data": {
      "image/png": "[encoded data removed]",
      "text/plain": [
       "<Figure size 432x288 with 1 Axes>"
      ]
     },
     "metadata": {
      "needs_background": "light"
     },
     "output_type": "display_data"
    },
    {
     "data": {
      "image/png": "[encoded data removed]",
      "text/plain": [
       "<Figure size 432x288 with 1 Axes>"
      ]
     },
     "metadata": {
      "needs_background": "light"
     },
     "output_type": "display_data"
    },
    {
     "data": {
      "image/png": "[encoded data removed]",
      "text/plain": [
       "<Figure size 432x288 with 1 Axes>"
      ]
     },
     "metadata": {
      "needs_background": "light"
     },
     "output_type": "display_data"
    },
    {
     "data": {
      "image/png": "[encoded data removed]",
      "text/plain": [
       "<Figure size 432x288 with 1 Axes>"
      ]
     },
     "metadata": {
      "needs_background": "light"
     },
     "output_type": "display_data"
    },
    {
     "data": {
      "image/png": "[encoded data removed]",
      "text/plain": [
       "<Figure size 432x288 with 1 Axes>"
      ]
     },
     "metadata": {
      "needs_background": "light"
     },
     "output_type": "display_data"
    },
    {
     "data": {
      "image/png": "[encoded data removed]",
      "text/plain": [
       "<Figure size 432x288 with 1 Axes>"
      ]
     },
     "metadata": {
      "needs_background": "light"
     },
     "output_type": "display_data"
    },
    {
     "data": {
      "image/png": "[encoded data removed]",
      "text/plain": [
       "<Figure size 432x288 with 1 Axes>"
      ]
     },
     "metadata": {
      "needs_background": "light"
     },
     "output_type": "display_data"
    },
    {
     "data": {
      "image/png": "[encoded data removed]",
      "text/plain": [
       "<Figure size 432x288 with 1 Axes>"
      ]
     },
     "metadata": {
      "needs_background": "light"
     },
     "output_type": "display_data"
    },
    {
     "data": {
      "image/png": "[encoded data removed]",
      "text/plain": [
       "<Figure size 432x288 with 1 Axes>"
      ]
     },
     "metadata": {
      "needs_background": "light"
     },
     "output_type": "display_data"
    },
    {
     "data": {
      "image/png": "[encoded data removed]",
      "text/plain": [
       "<Figure size 432x288 with 1 Axes>"
      ]
     },
     "metadata": {
      "needs_background": "light"
     },
     "output_type": "display_data"
    },
    {
     "data": {
      "image/png": "[encoded data removed]",
      "text/plain": [
       "<Figure size 432x288 with 1 Axes>"
      ]
     },
     "metadata": {
      "needs_background": "light"
     },
     "output_type": "display_data"
    },
    {
     "data": {
      "image/png": "[encoded data removed]",
      "text/plain": [
       "<Figure size 432x288 with 1 Axes>"
      ]
     },
     "metadata": {
      "needs_background": "light"
     },
     "output_type": "display_data"
    }
   ],
   "source": [
    "for column in averages_by_churn.columns[1:]:\n",
    "    fig = plt.figure()\n",
    "    ax = fig.add_axes([0,0,1,1])\n",
    "    ax.set_title(column)\n",
    "    ax.set_ylabel(column)\n",
    "    churned = averages_by_churn_t.columns.to_list()\n",
    "    interactions = averages_by_churn[column]\n",
    "    ax.bar(churned,interactions)\n",
    "    plt.xticks(churned, rotation='horizontal')\n",
    "    \n",
    "        \n",
    "    plt.show()"
   ]
  },
  {
   "cell_type": "markdown",
   "metadata": {},
   "source": [
    "## 5. Feature Engineering\n",
    "One Hot Encoding categorical columns (gender) and assembling required subset of features into a feature vector.\n",
    "The output feature column is not scaled yet and therefore called \"features_raw\"."
   ]
  },
  {
   "cell_type": "markdown",
   "metadata": {},
   "source": [
    "#### Select required features"
   ]
  },
  {
   "cell_type": "code",
   "execution_count": 119,
   "metadata": {},
   "outputs": [],
   "source": [
    "# Select required features\n",
    "feature_list = [\"genderIndex\", \"songs_listened\", \"adverts_rolled\", \"friends_added\", \"playlist_additions\",\\\n",
    "               \"errors\", \"help_access_count\", \"logouts\", \"thumbs_up_given\", \"thumbs_down_given\",\\\n",
    "              \"times_upgraded\", \"times_downgraded\", \"user_age\", \"session_count\", \"avg_session_length\", \"avg_time_between_sessions\"]"
   ]
  },
  {
   "cell_type": "markdown",
   "metadata": {},
   "source": [
    "#### One Hot Encoding the Gender Column"
   ]
  },
  {
   "cell_type": "code",
   "execution_count": 120,
   "metadata": {},
   "outputs": [],
   "source": [
    "# Use OneHotEncoding to transform gender into one hot vector \n",
    "stringIndexer = StringIndexer(inputCol=\"gender\", outputCol=\"genderIndex\")\n",
    "model = stringIndexer.fit(df_user_agg)\n",
    "indexed = model.transform(df_user_agg)\n",
    "\n",
    "# In Cloud\n",
    "#encoder = OneHotEncoder(inputCol=\"genderIndex\", outputCol=\"genderIndexVec\")\n",
    "#df_features = encoder.transform(indexed)\n",
    "\n",
    "# Local\n",
    "encoder = OneHotEncoder(inputCol=\"genderIndex\", outputCol=\"genderIndexVec\")\n",
    "encoder.setDropLast(False)\n",
    "ohe = encoder.fit(indexed)\n",
    "df_features = ohe.transform(indexed)"
   ]
  },
  {
   "cell_type": "code",
   "execution_count": 121,
   "metadata": {},
   "outputs": [
    {
     "name": "stdout",
     "output_type": "stream",
     "text": [
      "+------+-----------+--------------+\n",
      "|gender|genderIndex|genderIndexVec|\n",
      "+------+-----------+--------------+\n",
      "|     F|        1.0| (2,[1],[1.0])|\n",
      "|     M|        0.0| (2,[0],[1.0])|\n",
      "|     M|        0.0| (2,[0],[1.0])|\n",
      "|     F|        1.0| (2,[1],[1.0])|\n",
      "|     M|        0.0| (2,[0],[1.0])|\n",
      "+------+-----------+--------------+\n",
      "only showing top 5 rows\n",
      "\n"
     ]
    }
   ],
   "source": [
    "# https://stackoverflow.com/questions/49632830/pyspark-output-of-onehotencoder-looks-odd\n",
    "df_features.select(\"gender\", \"genderIndex\", \"genderIndexVec\").show(5)"
   ]
  },
  {
   "cell_type": "markdown",
   "metadata": {},
   "source": [
    "#### Feature Vector Assembler"
   ]
  },
  {
   "cell_type": "code",
   "execution_count": 122,
   "metadata": {},
   "outputs": [
    {
     "name": "stdout",
     "output_type": "stream",
     "text": [
      "Assembled columns genderIndex, songs_listened, adverts_rolled, friends_added, playlist_additions, errors, help_access_count, logouts, thumbs_up_given, thumbs_down_given, times_upgraded, times_downgraded, user_age, session_count, avg_session_length, avg_time_between_sessions,  to vector column 'features'\n",
      "+------------------------------------------------------------------------------------------------------------------------+-----+\n",
      "|features_raw                                                                                                            |label|\n",
      "+------------------------------------------------------------------------------------------------------------------------+-----+\n",
      "|[1.0,275.0,52.0,4.0,7.0,0.0,2.0,5.0,17.0,5.0,0.0,0.0,4.807612E9,7.0,9269000.0,6.259225E8]                               |0    |\n",
      "|[0.0,387.0,7.0,4.0,8.0,0.0,2.0,5.0,21.0,6.0,1.0,0.0,6.054448E9,6.0,1.5984E7,7.67004E8]                                  |0    |\n",
      "|(16,[1,2,12,13,14,15],[8.0,1.0,6.161779E9,1.0,1774000.0,4.6890655323444223E8])                                          |1    |\n",
      "|[1.0,4079.0,4.0,74.0,118.0,6.0,23.0,59.0,171.0,41.0,0.0,0.0,1.1366431E10,29.0,3.4739655172413796E7,1.4915307142857143E8]|0    |\n",
      "|[0.0,2111.0,0.0,28.0,52.0,1.0,12.0,24.0,100.0,21.0,0.0,0.0,1.680985E9,10.0,5.23414E7,9.33251111111111E7]                |1    |\n",
      "|[0.0,150.0,16.0,1.0,5.0,1.0,1.0,3.0,7.0,1.0,0.0,0.0,6.288035E9,7.0,5258428.571428572,7.251555E8]                        |0    |\n",
      "|[0.0,1914.0,1.0,31.0,59.0,2.0,8.0,27.0,81.0,14.0,0.0,0.0,4.882773E9,15.0,3.1697E7,3.0406771428571427E8]                 |0    |\n",
      "|[1.0,2841.0,47.0,33.0,72.0,1.0,17.0,36.0,163.0,29.0,1.0,1.0,9.568946E9,37.0,1.933737837837838E7,8.283875E7]             |1    |\n",
      "|[1.0,820.0,8.0,11.0,24.0,3.0,9.0,14.0,58.0,3.0,1.0,0.0,2.03524E9,6.0,3.2914333333333332E7,4.068078E8]                   |0    |\n",
      "|[0.0,257.0,2.0,6.0,7.0,0.0,2.0,3.0,17.0,3.0,0.0,0.0,7.351206E9,6.0,1.1088833333333334E7,6.99396E8]                      |1    |\n",
      "|[1.0,1928.0,2.0,41.0,38.0,3.0,16.0,34.0,96.0,17.0,1.0,0.0,5.779219E9,16.0,2.99370625E7,2.589322E8]                      |0    |\n",
      "|[1.0,84.0,10.0,3.0,1.0,0.0,1.0,2.0,11.0,0.0,0.0,0.0,2.062544E9,3.0,6641000.0,1.0694535E9]                               |0    |\n",
      "|[0.0,1797.0,8.0,29.0,61.0,3.0,12.0,24.0,86.0,16.0,1.0,0.0,4.662657E9,10.0,4.90548E7,9.77648888888889E7]                 |1    |\n",
      "|[1.0,647.0,39.0,6.0,20.0,1.0,3.0,14.0,40.0,9.0,2.0,1.0,1.0754921E10,16.0,9682625.0,2.963434E8]                          |0    |\n",
      "|[0.0,2070.0,17.0,41.0,67.0,1.0,13.0,18.0,95.0,24.0,1.0,0.0,5.756546E9,15.0,3.38536E7,3.098019285714286E8]               |0    |\n",
      "|[1.0,3632.0,11.0,63.0,113.0,5.0,27.0,41.0,303.0,28.0,0.0,0.0,6.424576E9,63.0,1.3999444444444444E7,6.815283870967741E7]  |0    |\n",
      "|[0.0,230.0,30.0,7.0,7.0,2.0,0.0,7.0,11.0,5.0,0.0,0.0,5.593438E9,5.0,1.29136E7,9.6573475E8]                              |1    |\n",
      "|[0.0,3028.0,22.0,47.0,89.0,0.0,28.0,41.0,154.0,22.0,1.0,0.0,5.19299E9,34.0,2.194541176470588E7,9.081163636363636E7]     |1    |\n",
      "|[1.0,1125.0,3.0,12.0,33.0,4.0,7.0,10.0,72.0,9.0,1.0,0.0,6.171072E9,9.0,3.1601111111111112E7,5.1510275E8]                |0    |\n",
      "|[0.0,215.0,21.0,7.0,7.0,0.0,1.0,3.0,9.0,3.0,0.0,0.0,7.556771E9,10.0,5067100.0,5.404053333333334E8]                      |0    |\n",
      "+------------------------------------------------------------------------------------------------------------------------+-----+\n",
      "only showing top 20 rows\n",
      "\n"
     ]
    }
   ],
   "source": [
    "# Assemble columns into feature vector\n",
    "assembler = VectorAssembler(\n",
    "    inputCols=feature_list,\n",
    "    outputCol=\"features_raw\")\n",
    "\n",
    "output = assembler.transform(df_features)\n",
    "\n",
    "feature_str = \"\"\n",
    "for feature in feature_list:\n",
    "    feature_str = feature_str + feature + \", \"\n",
    "    \n",
    "print(\"Assembled columns \" + feature_str + \" to vector column 'features'\")\n",
    "\n",
    "# Rename churned column to label\n",
    "output = output.withColumnRenamed(\"churned\", \"label\")\n",
    "df_features = output.select(\"features_raw\", \"label\")\n",
    "df_features.show(truncate=False)"
   ]
  },
  {
   "cell_type": "markdown",
   "metadata": {},
   "source": [
    "## 6. Modeling\n",
    "Split the full dataset into train, test, and validation sets. \n",
    "Test out two ML models:\n",
    "- Random Forest Classifier\n",
    "- Logistic Regression\n",
    "\n",
    "Evaluating the accuracy of the various models, tuning parameters as necessary."
   ]
  },
  {
   "cell_type": "code",
   "execution_count": 123,
   "metadata": {},
   "outputs": [],
   "source": [
    "train, test = df_features.select([\"features_raw\", \"label\"]).randomSplit([0.7, 0.3], seed=42)"
   ]
  },
  {
   "cell_type": "markdown",
   "metadata": {},
   "source": [
    "#### Apply Standard Scaler to Feature Vector (only use training data for fittting)"
   ]
  },
  {
   "cell_type": "code",
   "execution_count": 124,
   "metadata": {},
   "outputs": [
    {
     "name": "stdout",
     "output_type": "stream",
     "text": [
      "-RECORD 0-----------------------------------------------------------------------------------------------------------------------------------------------------------------------------------------------------------------------------------------------------------------------------------------------------------------------------------------\n",
      " features | [-0.9325754498682505,-0.5526600809578356,-0.49231754797110855,-0.6964433322333075,-0.6235203295676267,-0.7915676095445291,-0.6022091483855642,-0.5884711680395417,-0.5244620323432457,-0.39256089653906656,0.34799816664863403,-0.48950888391319386,-0.26698516950941126,-0.5467538734320886,-0.09850232780451082,0.7920077664385595] \n",
      " label    | 0                                                                                                                                                                                                                                                                                                                                     \n",
      "only showing top 1 row\n",
      "\n",
      "-RECORD 0---------------------------------------------------------------------------------------------------------------------------------------------------------------------------------------------------------------------------------------------------------------------------------------------------------------------------------------\n",
      " features | [-0.9325754498682505,-0.8771849284891816,-0.7543575331815374,-0.8783398891284332,-0.8546483371579853,-0.7915676095445291,-0.8689595094154113,-0.8971098925358045,-0.8285552288073266,-0.8455157771610664,-0.9279951110630247,-0.48950888391319386,-0.23362759468698768,-0.8668901016659233,-1.4514421726621853,0.04491674139036976] \n",
      " label    | 1                                                                                                                                                                                                                                                                                                                                   \n",
      "only showing top 1 row\n",
      "\n"
     ]
    }
   ],
   "source": [
    "scaler = StandardScaler(inputCol=\"features_raw\", outputCol=\"features\",\n",
    "                        withStd=True, withMean=True)\n",
    "\n",
    "# Compute summary statistics by fitting the StandardScaler\n",
    "scalerModel = scaler.fit(train)\n",
    "\n",
    "# Normalize each feature to have unit standard deviation.\n",
    "train = scalerModel.transform(train)\n",
    "test = scalerModel.transform(test)\n",
    "\n",
    "# Select only relevant columns\n",
    "train = train.select(\"features\", \"label\")\n",
    "test = test.select(\"features\", \"label\")\n",
    "\n",
    "# Show example train and test data\n",
    "train.show(1, vertical=True, truncate=False)\n",
    "test.show(1, vertical=True, truncate=False)"
   ]
  },
  {
   "cell_type": "markdown",
   "metadata": {},
   "source": [
    "## Model 1 - Random Forest"
   ]
  },
  {
   "cell_type": "code",
   "execution_count": 125,
   "metadata": {},
   "outputs": [],
   "source": [
    "# Configure Random Forest classifier\n",
    "rf = RandomForestClassifier(labelCol=\"label\", featuresCol=\"features\", numTrees=10)\n",
    "\n",
    "# Chain indexers and forest in a Pipeline\n",
    "pipeline = Pipeline(stages=[rf])"
   ]
  },
  {
   "cell_type": "code",
   "execution_count": 126,
   "metadata": {},
   "outputs": [],
   "source": [
    "model_name = \"Random Forest\""
   ]
  },
  {
   "cell_type": "markdown",
   "metadata": {},
   "source": [
    "### Tune Model"
   ]
  },
  {
   "cell_type": "code",
   "execution_count": 127,
   "metadata": {},
   "outputs": [],
   "source": [
    "paramGrid = ParamGridBuilder() \\\n",
    "    .addGrid(rf.numTrees,[4, 8, 12]) \\\n",
    "    .addGrid(rf.maxDepth,[5, 10, 20, 30]) \\\n",
    "    .addGrid(rf.maxBins,[100, 200]) \\\n",
    "    .build()\n",
    "\n",
    "\n",
    "\n",
    "crossval = CrossValidator(estimator=pipeline,\n",
    "                          estimatorParamMaps=paramGrid,\n",
    "                          evaluator=BinaryClassificationEvaluator(),\n",
    "                          numFolds=3)"
   ]
  },
  {
   "cell_type": "code",
   "execution_count": 128,
   "metadata": {},
   "outputs": [],
   "source": [
    "cvModel_q1 = crossval.fit(train)"
   ]
  },
  {
   "cell_type": "code",
   "execution_count": 129,
   "metadata": {},
   "outputs": [
    {
     "data": {
      "text/plain": [
       "[0.7399309957083067,\n",
       " 0.7274666082439192,\n",
       " 0.756301899159042,\n",
       " 0.7555896484467914,\n",
       " 0.756301899159042,\n",
       " 0.7555896484467914,\n",
       " 0.756301899159042,\n",
       " 0.7555896484467914,\n",
       " 0.7539566331583138,\n",
       " 0.7575178867195674,\n",
       " 0.7750806033369059,\n",
       " 0.7543929576492602,\n",
       " 0.7750806033369059,\n",
       " 0.7543929576492602,\n",
       " 0.7750806033369059,\n",
       " 0.7543929576492602,\n",
       " 0.7913150497184112,\n",
       " 0.8080529414563029,\n",
       " 0.7794773892462967,\n",
       " 0.7893679616368692,\n",
       " 0.7794773892462967,\n",
       " 0.7893679616368692,\n",
       " 0.7794773892462967,\n",
       " 0.7893679616368692]"
      ]
     },
     "execution_count": 129,
     "metadata": {},
     "output_type": "execute_result"
    }
   ],
   "source": [
    "cvModel_q1.avgMetrics"
   ]
  },
  {
   "cell_type": "code",
   "execution_count": 130,
   "metadata": {},
   "outputs": [],
   "source": [
    "results = cvModel_q1.transform(test)"
   ]
  },
  {
   "cell_type": "code",
   "execution_count": 131,
   "metadata": {},
   "outputs": [
    {
     "name": "stdout",
     "output_type": "stream",
     "text": [
      "+--------------------+-----+--------------------+--------------------+----------+\n",
      "|            features|label|       rawPrediction|         probability|prediction|\n",
      "+--------------------+-----+--------------------+--------------------+----------+\n",
      "|[-0.9325754498682...|    1|[7.14278002699055...|[0.59523166891587...|       0.0|\n",
      "|[-0.9325754498682...|    0|[11.0081601354281...|[0.91734667795234...|       0.0|\n",
      "+--------------------+-----+--------------------+--------------------+----------+\n",
      "only showing top 2 rows\n",
      "\n"
     ]
    }
   ],
   "source": [
    "results.show(2)"
   ]
  },
  {
   "cell_type": "code",
   "execution_count": 132,
   "metadata": {},
   "outputs": [
    {
     "name": "stdout",
     "output_type": "stream",
     "text": [
      "The best performing params: \n",
      "numTrees: 12\n",
      "maxDepth: 5\n",
      "maxBins: 200.\n"
     ]
    }
   ],
   "source": [
    "# Get best pipeline and params\n",
    "bestPipeline = cvModel_q1.bestModel\n",
    "bestRFModel = bestPipeline.stages[-1]\n",
    "\n",
    "maxBins_best = bestRFModel._java_obj.getMaxBins()\n",
    "maxDepth_best = bestRFModel._java_obj.getMaxDepth()\n",
    "numTrees_best = bestRFModel._java_obj.getNumTrees()\n",
    "\n",
    "print(\"The best performing params: \\n\" + \\\n",
    "     \"numTrees: \" + str(numTrees_best) + \"\\n\" + \\\n",
    "     \"maxDepth: \" + str(maxDepth_best) + \"\\n\" + \\\n",
    "     \"maxBins: \" + str(maxBins_best) + \".\"\n",
    ")"
   ]
  },
  {
   "cell_type": "markdown",
   "metadata": {},
   "source": [
    "#### Get most influential features"
   ]
  },
  {
   "cell_type": "code",
   "execution_count": 133,
   "metadata": {},
   "outputs": [
    {
     "data": {
      "text/html": [
       "<div>\n",
       "<style scoped>\n",
       "    .dataframe tbody tr th:only-of-type {\n",
       "        vertical-align: middle;\n",
       "    }\n",
       "\n",
       "    .dataframe tbody tr th {\n",
       "        vertical-align: top;\n",
       "    }\n",
       "\n",
       "    .dataframe thead th {\n",
       "        text-align: right;\n",
       "    }\n",
       "</style>\n",
       "<table border=\"1\" class=\"dataframe\">\n",
       "  <thead>\n",
       "    <tr style=\"text-align: right;\">\n",
       "      <th></th>\n",
       "      <th>coefficient</th>\n",
       "    </tr>\n",
       "  </thead>\n",
       "  <tbody>\n",
       "    <tr>\n",
       "      <th>avg_time_between_sessions</th>\n",
       "      <td>0.20</td>\n",
       "    </tr>\n",
       "    <tr>\n",
       "      <th>user_age</th>\n",
       "      <td>0.16</td>\n",
       "    </tr>\n",
       "    <tr>\n",
       "      <th>playlist_additions</th>\n",
       "      <td>0.10</td>\n",
       "    </tr>\n",
       "    <tr>\n",
       "      <th>logouts</th>\n",
       "      <td>0.08</td>\n",
       "    </tr>\n",
       "    <tr>\n",
       "      <th>songs_listened</th>\n",
       "      <td>0.08</td>\n",
       "    </tr>\n",
       "    <tr>\n",
       "      <th>avg_session_length</th>\n",
       "      <td>0.07</td>\n",
       "    </tr>\n",
       "    <tr>\n",
       "      <th>friends_added</th>\n",
       "      <td>0.06</td>\n",
       "    </tr>\n",
       "    <tr>\n",
       "      <th>thumbs_down_given</th>\n",
       "      <td>0.05</td>\n",
       "    </tr>\n",
       "    <tr>\n",
       "      <th>thumbs_up_given</th>\n",
       "      <td>0.05</td>\n",
       "    </tr>\n",
       "    <tr>\n",
       "      <th>session_count</th>\n",
       "      <td>0.04</td>\n",
       "    </tr>\n",
       "    <tr>\n",
       "      <th>errors</th>\n",
       "      <td>0.04</td>\n",
       "    </tr>\n",
       "    <tr>\n",
       "      <th>adverts_rolled</th>\n",
       "      <td>0.03</td>\n",
       "    </tr>\n",
       "    <tr>\n",
       "      <th>help_access_count</th>\n",
       "      <td>0.02</td>\n",
       "    </tr>\n",
       "    <tr>\n",
       "      <th>genderIndex</th>\n",
       "      <td>0.02</td>\n",
       "    </tr>\n",
       "    <tr>\n",
       "      <th>times_upgraded</th>\n",
       "      <td>0.01</td>\n",
       "    </tr>\n",
       "    <tr>\n",
       "      <th>times_downgraded</th>\n",
       "      <td>0.00</td>\n",
       "    </tr>\n",
       "  </tbody>\n",
       "</table>\n",
       "</div>"
      ],
      "text/plain": [
       "                           coefficient\n",
       "avg_time_between_sessions         0.20\n",
       "user_age                          0.16\n",
       "playlist_additions                0.10\n",
       "logouts                           0.08\n",
       "songs_listened                    0.08\n",
       "avg_session_length                0.07\n",
       "friends_added                     0.06\n",
       "thumbs_down_given                 0.05\n",
       "thumbs_up_given                   0.05\n",
       "session_count                     0.04\n",
       "errors                            0.04\n",
       "adverts_rolled                    0.03\n",
       "help_access_count                 0.02\n",
       "genderIndex                       0.02\n",
       "times_upgraded                    0.01\n",
       "times_downgraded                  0.00"
      ]
     },
     "execution_count": 133,
     "metadata": {},
     "output_type": "execute_result"
    }
   ],
   "source": [
    "# Get coefficients\n",
    "coefficients = bestRFModel.featureImportances.toArray()\n",
    "coefficients = pd.DataFrame(data=[coefficients])\n",
    "coefficients.columns = feature_list\n",
    "coefficients = coefficients.sort_values(by=0 , ascending=False, axis=1).round(2)\n",
    "\n",
    "# Transpose for better visualization\n",
    "coefficients_transposed = coefficients.transpose()\n",
    "coefficients_transposed.columns = ['coefficient']\n",
    "coefficients_transposed"
   ]
  },
  {
   "cell_type": "code",
   "execution_count": 134,
   "metadata": {},
   "outputs": [
    {
     "data": {
      "image/png": "[encoded data removed]",
      "text/plain": [
       "<Figure size 720x720 with 1 Axes>"
      ]
     },
     "metadata": {
      "needs_background": "light"
     },
     "output_type": "display_data"
    }
   ],
   "source": [
    "# Visualize\n",
    "ax = coefficients_transposed.plot.bar(figsize=(10,10))\n",
    "for p in ax.patches:\n",
    "    ax.annotate(str(p.get_height()), (p.get_x() * 0.995, p.get_height() * 1.05))"
   ]
  },
  {
   "cell_type": "markdown",
   "metadata": {},
   "source": [
    "### Compute F1 Score"
   ]
  },
  {
   "cell_type": "markdown",
   "metadata": {},
   "source": [
    "#### Model Evaluation Metrics\n",
    "How well was churn predicted among churned users?\n",
    "\n",
    "- **Precision** = True Positive / (True Positive + False Positive)\n",
    "- **Recall** = True Positive / Total Actual Positive \n",
    "- **F1 Score** = 2 * ((Precision * Recall) / (Precision + Recall))\n",
    "\n",
    "Source: https://towardsdatascience.com/accuracy-precision-recall-or-f1-331fb37c5cb9"
   ]
  },
  {
   "cell_type": "code",
   "execution_count": 135,
   "metadata": {
    "scrolled": true
   },
   "outputs": [],
   "source": [
    "# Calculate TP, FP, TN, FN\n",
    "tp = results.filter((results.label == 1) & (results.prediction == 1)).count()\n",
    "fp = results.filter((results.label == 0) & (results.prediction == 1)).count()\n",
    "tn = results.filter((results.label == 0) & (results.prediction == 0)).count()\n",
    "fn = results.filter((results.label == 1) & (results.prediction == 0)).count()\n",
    "overall_users = results.count()"
   ]
  },
  {
   "cell_type": "code",
   "execution_count": 136,
   "metadata": {},
   "outputs": [
    {
     "name": "stdout",
     "output_type": "stream",
     "text": [
      "Overall users in test: 60\n",
      "True Positives: 4\n",
      "False Positives: 2\n",
      "True Negatives: 42\n",
      "False Negatives: 12\n"
     ]
    }
   ],
   "source": [
    "print(\"Overall users in test: \" + str(overall_users))\n",
    "print(\"True Positives: \" + str(tp))\n",
    "print(\"False Positives: \" + str(fp))\n",
    "print(\"True Negatives: \" + str(tn))\n",
    "print(\"False Negatives: \" + str(fn))"
   ]
  },
  {
   "cell_type": "code",
   "execution_count": 137,
   "metadata": {},
   "outputs": [
    {
     "name": "stdout",
     "output_type": "stream",
     "text": [
      "Precision Random Forest: 0.67\n",
      "Recall Random Forest: 0.25\n",
      "F1 Score Random Forest: 0.36\n"
     ]
    }
   ],
   "source": [
    "precision = tp / (tp+fp)\n",
    "recall = tp / (tp + fn)\n",
    "f1_score = 2 * ((precision * recall) / (precision + recall))\n",
    "\n",
    "print(\"Precision \" + model_name + \": \" + str(round(precision, 2)))\n",
    "print(\"Recall \" + model_name + \": \" + str(round(recall, 2)))\n",
    "print(\"F1 Score \" + model_name + \": \" + str(round(f1_score, 2)))"
   ]
  },
  {
   "cell_type": "markdown",
   "metadata": {},
   "source": [
    "## Model 2 - Logistic Regression"
   ]
  },
  {
   "cell_type": "markdown",
   "metadata": {},
   "source": [
    "### Build Pipeline"
   ]
  },
  {
   "cell_type": "code",
   "execution_count": 138,
   "metadata": {},
   "outputs": [],
   "source": [
    "lr =  LogisticRegression(maxIter=10, regParam=0.0, elasticNetParam=0)\n",
    "pipeline = Pipeline(stages=[lr])"
   ]
  },
  {
   "cell_type": "code",
   "execution_count": 139,
   "metadata": {},
   "outputs": [],
   "source": [
    "model_name = \"Logistic Regression\""
   ]
  },
  {
   "cell_type": "markdown",
   "metadata": {},
   "source": [
    "### Tune Model"
   ]
  },
  {
   "cell_type": "code",
   "execution_count": 140,
   "metadata": {},
   "outputs": [],
   "source": [
    "paramGrid = ParamGridBuilder() \\\n",
    "    .addGrid(lr.regParam,[0.0, 0.1]) \\\n",
    "    .addGrid(lr.maxIter,[5, 10, 50, 100]) \\\n",
    "    .build()\n",
    "\n",
    "\n",
    "crossval = CrossValidator(estimator=pipeline,\n",
    "                          estimatorParamMaps=paramGrid,\n",
    "                          evaluator=BinaryClassificationEvaluator(),\n",
    "                          numFolds=3)"
   ]
  },
  {
   "cell_type": "code",
   "execution_count": 141,
   "metadata": {},
   "outputs": [],
   "source": [
    "cvModel_q2 = crossval.fit(train)"
   ]
  },
  {
   "cell_type": "code",
   "execution_count": 142,
   "metadata": {},
   "outputs": [
    {
     "data": {
      "text/plain": [
       "[0.8601768601768602,\n",
       " 0.8459937588088848,\n",
       " 0.7897045376036973,\n",
       " 0.7897045376036973,\n",
       " 0.844002247363592,\n",
       " 0.8432019272355407,\n",
       " 0.8432019272355407,\n",
       " 0.8432019272355407]"
      ]
     },
     "execution_count": 142,
     "metadata": {},
     "output_type": "execute_result"
    }
   ],
   "source": [
    "cvModel_q2.avgMetrics"
   ]
  },
  {
   "cell_type": "code",
   "execution_count": 143,
   "metadata": {},
   "outputs": [],
   "source": [
    "results = cvModel_q2.transform(test)"
   ]
  },
  {
   "cell_type": "code",
   "execution_count": 144,
   "metadata": {},
   "outputs": [
    {
     "name": "stdout",
     "output_type": "stream",
     "text": [
      "+--------------------+-----+--------------------+--------------------+----------+\n",
      "|            features|label|       rawPrediction|         probability|prediction|\n",
      "+--------------------+-----+--------------------+--------------------+----------+\n",
      "|[-0.9325754498682...|    1|[0.98944940971698...|[0.72897915674300...|       0.0|\n",
      "|[-0.9325754498682...|    0|[2.77038327622587...|[0.94105425090175...|       0.0|\n",
      "+--------------------+-----+--------------------+--------------------+----------+\n",
      "only showing top 2 rows\n",
      "\n"
     ]
    }
   ],
   "source": [
    "results.show(2)"
   ]
  },
  {
   "cell_type": "code",
   "execution_count": 145,
   "metadata": {},
   "outputs": [
    {
     "name": "stdout",
     "output_type": "stream",
     "text": [
      "The best performing params: \n",
      "regParam: 0.0\n",
      "maxIter: 5\n"
     ]
    }
   ],
   "source": [
    "# Get best pipeline and params\n",
    "bestPipeline = cvModel_q2.bestModel\n",
    "bestLRModel = bestPipeline.stages[-1]\n",
    "\n",
    "regParam_best = bestLRModel._java_obj.getRegParam()\n",
    "maxIter_best = bestLRModel._java_obj.getMaxIter()\n",
    "\n",
    "print(\"The best performing params: \\n\" + \\\n",
    "     \"regParam: \" + str(regParam_best) + \"\\n\" + \\\n",
    "     \"maxIter: \" + str(maxIter_best)\n",
    ")"
   ]
  },
  {
   "cell_type": "markdown",
   "metadata": {},
   "source": [
    "#### Get most influential features"
   ]
  },
  {
   "cell_type": "code",
   "execution_count": 146,
   "metadata": {},
   "outputs": [
    {
     "data": {
      "text/html": [
       "<div>\n",
       "<style scoped>\n",
       "    .dataframe tbody tr th:only-of-type {\n",
       "        vertical-align: middle;\n",
       "    }\n",
       "\n",
       "    .dataframe tbody tr th {\n",
       "        vertical-align: top;\n",
       "    }\n",
       "\n",
       "    .dataframe thead th {\n",
       "        text-align: right;\n",
       "    }\n",
       "</style>\n",
       "<table border=\"1\" class=\"dataframe\">\n",
       "  <thead>\n",
       "    <tr style=\"text-align: right;\">\n",
       "      <th></th>\n",
       "      <th>coefficient</th>\n",
       "    </tr>\n",
       "  </thead>\n",
       "  <tbody>\n",
       "    <tr>\n",
       "      <th>thumbs_down_given</th>\n",
       "      <td>0.55</td>\n",
       "    </tr>\n",
       "    <tr>\n",
       "      <th>adverts_rolled</th>\n",
       "      <td>0.29</td>\n",
       "    </tr>\n",
       "    <tr>\n",
       "      <th>help_access_count</th>\n",
       "      <td>0.15</td>\n",
       "    </tr>\n",
       "    <tr>\n",
       "      <th>times_upgraded</th>\n",
       "      <td>0.08</td>\n",
       "    </tr>\n",
       "    <tr>\n",
       "      <th>songs_listened</th>\n",
       "      <td>-0.08</td>\n",
       "    </tr>\n",
       "    <tr>\n",
       "      <th>genderIndex</th>\n",
       "      <td>-0.10</td>\n",
       "    </tr>\n",
       "    <tr>\n",
       "      <th>playlist_additions</th>\n",
       "      <td>-0.10</td>\n",
       "    </tr>\n",
       "    <tr>\n",
       "      <th>avg_session_length</th>\n",
       "      <td>-0.11</td>\n",
       "    </tr>\n",
       "    <tr>\n",
       "      <th>times_downgraded</th>\n",
       "      <td>-0.12</td>\n",
       "    </tr>\n",
       "    <tr>\n",
       "      <th>logouts</th>\n",
       "      <td>-0.17</td>\n",
       "    </tr>\n",
       "    <tr>\n",
       "      <th>thumbs_up_given</th>\n",
       "      <td>-0.19</td>\n",
       "    </tr>\n",
       "    <tr>\n",
       "      <th>session_count</th>\n",
       "      <td>-0.45</td>\n",
       "    </tr>\n",
       "    <tr>\n",
       "      <th>friends_added</th>\n",
       "      <td>-0.56</td>\n",
       "    </tr>\n",
       "    <tr>\n",
       "      <th>errors</th>\n",
       "      <td>-0.57</td>\n",
       "    </tr>\n",
       "    <tr>\n",
       "      <th>user_age</th>\n",
       "      <td>-0.98</td>\n",
       "    </tr>\n",
       "    <tr>\n",
       "      <th>avg_time_between_sessions</th>\n",
       "      <td>-2.01</td>\n",
       "    </tr>\n",
       "  </tbody>\n",
       "</table>\n",
       "</div>"
      ],
      "text/plain": [
       "                           coefficient\n",
       "thumbs_down_given                 0.55\n",
       "adverts_rolled                    0.29\n",
       "help_access_count                 0.15\n",
       "times_upgraded                    0.08\n",
       "songs_listened                   -0.08\n",
       "genderIndex                      -0.10\n",
       "playlist_additions               -0.10\n",
       "avg_session_length               -0.11\n",
       "times_downgraded                 -0.12\n",
       "logouts                          -0.17\n",
       "thumbs_up_given                  -0.19\n",
       "session_count                    -0.45\n",
       "friends_added                    -0.56\n",
       "errors                           -0.57\n",
       "user_age                         -0.98\n",
       "avg_time_between_sessions        -2.01"
      ]
     },
     "execution_count": 146,
     "metadata": {},
     "output_type": "execute_result"
    }
   ],
   "source": [
    "# Get coefficients\n",
    "coefficients = bestLRModel.coefficientMatrix.values\n",
    "coefficients = pd.DataFrame(data=[coefficients])\n",
    "coefficients.columns = feature_list\n",
    "coefficients = coefficients.sort_values(by=0 , ascending=False, axis=1).round(2)\n",
    "\n",
    "# Transpose for better visualization\n",
    "coefficients_transposed = coefficients.transpose()\n",
    "coefficients_transposed.columns = ['coefficient']\n",
    "coefficients_transposed"
   ]
  },
  {
   "cell_type": "code",
   "execution_count": 147,
   "metadata": {},
   "outputs": [
    {
     "data": {
      "image/png": "[encoded data removed]",
      "text/plain": [
       "<Figure size 720x720 with 1 Axes>"
      ]
     },
     "metadata": {
      "needs_background": "light"
     },
     "output_type": "display_data"
    }
   ],
   "source": [
    "# Visualize\n",
    "ax = coefficients_transposed.plot.bar(figsize=(10,10))\n",
    "for p in ax.patches:\n",
    "    ax.annotate(str(p.get_height()), (p.get_x() * 0.995, p.get_height() * 1.05))"
   ]
  },
  {
   "cell_type": "markdown",
   "metadata": {},
   "source": [
    "### Compute F1 Score"
   ]
  },
  {
   "cell_type": "markdown",
   "metadata": {},
   "source": [
    "#### Model Evaluation Metrics\n",
    "How well was churn predicted among churned users?\n",
    "\n",
    "- **Precision** = True Positive / (True Positive + False Positive)\n",
    "- **Recall** = True Positive / Total Actual Positive \n",
    "- **F1 Score** = 2 * ((Precision * Recall) / (Precision + Recall))\n",
    "\n",
    "Source: https://towardsdatascience.com/accuracy-precision-recall-or-f1-331fb37c5cb9"
   ]
  },
  {
   "cell_type": "code",
   "execution_count": 148,
   "metadata": {
    "scrolled": true
   },
   "outputs": [],
   "source": [
    "# Calculate TP, FP, TN, FN\n",
    "tp = results.filter((results.label == 1) & (results.prediction == 1)).count()\n",
    "fp = results.filter((results.label == 0) & (results.prediction == 1)).count()\n",
    "tn = results.filter((results.label == 0) & (results.prediction == 0)).count()\n",
    "fn = results.filter((results.label == 1) & (results.prediction == 0)).count()\n",
    "overall_users = results.count()"
   ]
  },
  {
   "cell_type": "code",
   "execution_count": 149,
   "metadata": {},
   "outputs": [
    {
     "name": "stdout",
     "output_type": "stream",
     "text": [
      "Overall users in test: 60\n",
      "True Positives: 5\n",
      "False Positives: 3\n",
      "True Negatives: 41\n",
      "False Negatives: 11\n"
     ]
    }
   ],
   "source": [
    "print(\"Overall users in test: \" + str(overall_users))\n",
    "print(\"True Positives: \" + str(tp))\n",
    "print(\"False Positives: \" + str(fp))\n",
    "print(\"True Negatives: \" + str(tn))\n",
    "print(\"False Negatives: \" + str(fn))"
   ]
  },
  {
   "cell_type": "code",
   "execution_count": 150,
   "metadata": {},
   "outputs": [
    {
     "name": "stdout",
     "output_type": "stream",
     "text": [
      "Precision Logistic Regression: 0.62\n",
      "Recall Logistic Regression: 0.31\n",
      "F1 Score Logistic Regression: 0.42\n"
     ]
    }
   ],
   "source": [
    "precision = tp / (tp+fp)\n",
    "recall = tp / (tp + fn)\n",
    "f1_score = 2 * ((precision * recall) / (precision + recall))\n",
    "\n",
    "print(\"Precision \" + model_name + \": \" + str(round(precision, 2)))\n",
    "print(\"Recall \" + model_name + \": \" + str(round(recall, 2)))\n",
    "print(\"F1 Score \" + model_name + \": \" + str(round(f1_score, 2)))"
   ]
  }
 ],
 "metadata": {
  "kernelspec": {
   "display_name": "Python 3",
   "language": "python",
   "name": "python3"
  },
  "language_info": {
   "codemirror_mode": {
    "name": "ipython",
    "version": 3
   },
   "file_extension": ".py",
   "mimetype": "text/x-python",
   "name": "python",
   "nbconvert_exporter": "python",
   "pygments_lexer": "ipython3",
   "version": "3.9.2"
  }
 },
 "nbformat": 4,
 "nbformat_minor": 4
}
