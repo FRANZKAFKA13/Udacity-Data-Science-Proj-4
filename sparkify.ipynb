{
 "cells": [
  {
   "cell_type": "markdown",
   "metadata": {},
   "source": [
    "# Sparkify Project Workspace\n",
    "This workspace contains a tiny subset (128MB) of the full dataset available (12GB). Feel free to use this workspace to build your project, or to explore a smaller subset with Spark before deploying your cluster on the cloud. Instructions for setting up your Spark cluster is included in the last lesson of the Extracurricular Spark Course content.\n",
    "\n",
    "You can follow the steps below to guide your data analysis and model building portion of this project."
   ]
  },
  {
   "cell_type": "code",
   "execution_count": 161,
   "metadata": {},
   "outputs": [
    {
     "data": {
      "application/vnd.jupyter.widget-view+json": {
       "model_id": "80bfa37166a64ecdae5587003ad1a538",
       "version_major": 2,
       "version_minor": 0
      },
      "text/plain": [
       "VBox()"
      ]
     },
     "metadata": {},
     "output_type": "display_data"
    },
    {
     "data": {
      "application/vnd.jupyter.widget-view+json": {
       "model_id": "",
       "version_major": 2,
       "version_minor": 0
      },
      "text/plain": [
       "FloatProgress(value=0.0, bar_style='info', description='Progress:', layout=Layout(height='25px', width='50%'),…"
      ]
     },
     "metadata": {},
     "output_type": "display_data"
    }
   ],
   "source": [
    "from pyspark.sql import SparkSession\n",
    "from pyspark.ml.feature import RegexTokenizer, VectorAssembler, Normalizer, StandardScaler\n",
    "from pyspark.sql.functions import udf, from_unixtime, trunc\n",
    "from pyspark.sql.types import IntegerType\n",
    "from pyspark.sql.functions import to_timestamp\n",
    "from pyspark.sql.functions import col\n",
    "from pyspark.sql import functions as f\n",
    "from pyspark.sql import types as t\n",
    "\n",
    "from pyspark.ml import Pipeline\n",
    "from pyspark.ml.classification import LogisticRegression, RandomForestClassifier\n",
    "from pyspark.ml.evaluation import MulticlassClassificationEvaluator\n",
    "from pyspark.ml.feature import CountVectorizer, IDF, Normalizer, PCA, RegexTokenizer, StandardScaler, StopWordsRemover, StringIndexer, VectorAssembler, OneHotEncoder\n",
    "from pyspark.ml.regression import LinearRegression\n",
    "from pyspark.ml.tuning import CrossValidator, ParamGridBuilder"
   ]
  },
  {
   "cell_type": "code",
   "execution_count": 162,
   "metadata": {},
   "outputs": [
    {
     "data": {
      "application/vnd.jupyter.widget-view+json": {
       "model_id": "e3d625faad234b6c940078031865dae9",
       "version_major": 2,
       "version_minor": 0
      },
      "text/plain": [
       "VBox()"
      ]
     },
     "metadata": {},
     "output_type": "display_data"
    },
    {
     "data": {
      "application/vnd.jupyter.widget-view+json": {
       "model_id": "",
       "version_major": 2,
       "version_minor": 0
      },
      "text/plain": [
       "FloatProgress(value=0.0, bar_style='info', description='Progress:', layout=Layout(height='25px', width='50%'),…"
      ]
     },
     "metadata": {},
     "output_type": "display_data"
    }
   ],
   "source": [
    "spark = SparkSession \\\n",
    "    .builder \\\n",
    "    .appName(\"Sparkify\") \\\n",
    "    .getOrCreate()"
   ]
  },
  {
   "cell_type": "code",
   "execution_count": 163,
   "metadata": {},
   "outputs": [
    {
     "data": {
      "application/vnd.jupyter.widget-view+json": {
       "model_id": "c1b64ba25d164480b2b8ddee7b297f57",
       "version_major": 2,
       "version_minor": 0
      },
      "text/plain": [
       "VBox()"
      ]
     },
     "metadata": {},
     "output_type": "display_data"
    },
    {
     "data": {
      "application/vnd.jupyter.widget-view+json": {
       "model_id": "",
       "version_major": 2,
       "version_minor": 0
      },
      "text/plain": [
       "FloatProgress(value=0.0, bar_style='info', description='Progress:', layout=Layout(height='25px', width='50%'),…"
      ]
     },
     "metadata": {},
     "output_type": "display_data"
    },
    {
     "name": "stdout",
     "output_type": "stream",
     "text": [
      "[Row(artist='Martha Tilston', auth='Logged In', firstName='Colin', gender='M', itemInSession=50, lastName='Freeman', length=277.89016, level='paid', location='Bakersfield, CA', method='PUT', page='NextSong', registration=1538173362000, sessionId=29, song='Rockpools', status=200, ts=1538352117000, userAgent='Mozilla/5.0 (Windows NT 6.1; WOW64; rv:31.0) Gecko/20100101 Firefox/31.0', userId='30'), Row(artist='Five Iron Frenzy', auth='Logged In', firstName='Micah', gender='M', itemInSession=79, lastName='Long', length=236.09424, level='free', location='Boston-Cambridge-Newton, MA-NH', method='PUT', page='NextSong', registration=1538331630000, sessionId=8, song='Canada', status=200, ts=1538352180000, userAgent='\"Mozilla/5.0 (Windows NT 6.1; WOW64) AppleWebKit/537.36 (KHTML, like Gecko) Chrome/37.0.2062.103 Safari/537.36\"', userId='9')]"
     ]
    }
   ],
   "source": [
    "# FOR RUNNING ON A EC2 CLUSTER \n",
    "event_data_s3n_small = \"s3n://udacity-dsnd/sparkify/mini_sparkify_event_data.json\"\n",
    "event_data_s3n_full = \"s3n://udacity-dsnd/sparkify/sparkify_event_data.json\"\n",
    "#event_data_local = \"mini_sparkify_event_data.json\"\n",
    "\n",
    "df = spark.read.json(event_data_s3n_small)\n",
    "df.head(2)\n",
    "\n",
    "# User very small subset of data for trying out functions\n",
    "#df = df.limit(1000)"
   ]
  },
  {
   "cell_type": "code",
   "execution_count": 164,
   "metadata": {},
   "outputs": [
    {
     "data": {
      "application/vnd.jupyter.widget-view+json": {
       "model_id": "8a8934c137294a2bbcfe759325232dab",
       "version_major": 2,
       "version_minor": 0
      },
      "text/plain": [
       "VBox()"
      ]
     },
     "metadata": {},
     "output_type": "display_data"
    },
    {
     "data": {
      "application/vnd.jupyter.widget-view+json": {
       "model_id": "",
       "version_major": 2,
       "version_minor": 0
      },
      "text/plain": [
       "FloatProgress(value=0.0, bar_style='info', description='Progress:', layout=Layout(height='25px', width='50%'),…"
      ]
     },
     "metadata": {},
     "output_type": "display_data"
    }
   ],
   "source": [
    "# Create view to query with conventional SQL\n",
    "df.createOrReplaceTempView(\"df\")"
   ]
  },
  {
   "cell_type": "code",
   "execution_count": 165,
   "metadata": {},
   "outputs": [
    {
     "data": {
      "application/vnd.jupyter.widget-view+json": {
       "model_id": "c97fcabd61954c6baa26d3dea17ece26",
       "version_major": 2,
       "version_minor": 0
      },
      "text/plain": [
       "VBox()"
      ]
     },
     "metadata": {},
     "output_type": "display_data"
    },
    {
     "data": {
      "application/vnd.jupyter.widget-view+json": {
       "model_id": "",
       "version_major": 2,
       "version_minor": 0
      },
      "text/plain": [
       "FloatProgress(value=0.0, bar_style='info', description='Progress:', layout=Layout(height='25px', width='50%'),…"
      ]
     },
     "metadata": {},
     "output_type": "display_data"
    },
    {
     "name": "stdout",
     "output_type": "stream",
     "text": [
      "[Row(artist='Martha Tilston'), Row(artist='Adam Lambert'), Row(artist='Daft Punk'), Row(artist='Starflyer 59'), Row(artist=None)]"
     ]
    }
   ],
   "source": [
    "df.where(df.userId == 30).select(\"artist\").head(5)"
   ]
  },
  {
   "cell_type": "code",
   "execution_count": 166,
   "metadata": {
    "scrolled": true
   },
   "outputs": [
    {
     "data": {
      "application/vnd.jupyter.widget-view+json": {
       "model_id": "aa143f40e6af455b900f17b74fe7bd49",
       "version_major": 2,
       "version_minor": 0
      },
      "text/plain": [
       "VBox()"
      ]
     },
     "metadata": {},
     "output_type": "display_data"
    },
    {
     "data": {
      "application/vnd.jupyter.widget-view+json": {
       "model_id": "",
       "version_major": 2,
       "version_minor": 0
      },
      "text/plain": [
       "FloatProgress(value=0.0, bar_style='info', description='Progress:', layout=Layout(height='25px', width='50%'),…"
      ]
     },
     "metadata": {},
     "output_type": "display_data"
    },
    {
     "name": "stdout",
     "output_type": "stream",
     "text": [
      "['artist', 'auth', 'firstName', 'gender', 'itemInSession', 'lastName', 'length', 'level', 'location', 'method', 'page', 'registration', 'sessionId', 'song', 'status', 'ts', 'userAgent', 'userId']"
     ]
    }
   ],
   "source": [
    "df.columns"
   ]
  },
  {
   "cell_type": "markdown",
   "metadata": {},
   "source": [
    "# Load and Clean Dataset\n",
    "In this workspace, the mini-dataset file is `mini_sparkify_event_data.json`. Load and clean the dataset, checking for invalid or missing data - for example, records without userids or sessionids. "
   ]
  },
  {
   "cell_type": "code",
   "execution_count": 167,
   "metadata": {},
   "outputs": [
    {
     "data": {
      "application/vnd.jupyter.widget-view+json": {
       "model_id": "14896c59f15b43d2b9760809d2d6455d",
       "version_major": 2,
       "version_minor": 0
      },
      "text/plain": [
       "VBox()"
      ]
     },
     "metadata": {},
     "output_type": "display_data"
    },
    {
     "data": {
      "application/vnd.jupyter.widget-view+json": {
       "model_id": "",
       "version_major": 2,
       "version_minor": 0
      },
      "text/plain": [
       "FloatProgress(value=0.0, bar_style='info', description='Progress:', layout=Layout(height='25px', width='50%'),…"
      ]
     },
     "metadata": {},
     "output_type": "display_data"
    },
    {
     "name": "stderr",
     "output_type": "stream",
     "text": [
      "invalid syntax (<stdin>, line 1)\n",
      "  File \"<stdin>\", line 1\n",
      "    Show how many null values each column has\n",
      "           ^\n",
      "SyntaxError: invalid syntax\n",
      "\n"
     ]
    }
   ],
   "source": [
    "#Show how many null values each column has\n",
    "for column in df.columns:\n",
    "    print(\"Column \" + column + \" has \" + str(len(df.where(df[column] == \"\").collect())) + \" empty values.\")"
   ]
  },
  {
   "cell_type": "code",
   "execution_count": 168,
   "metadata": {},
   "outputs": [
    {
     "data": {
      "application/vnd.jupyter.widget-view+json": {
       "model_id": "3f00d72a676e46fd8b46cb7bf6cfcc90",
       "version_major": 2,
       "version_minor": 0
      },
      "text/plain": [
       "VBox()"
      ]
     },
     "metadata": {},
     "output_type": "display_data"
    },
    {
     "data": {
      "application/vnd.jupyter.widget-view+json": {
       "model_id": "",
       "version_major": 2,
       "version_minor": 0
      },
      "text/plain": [
       "FloatProgress(value=0.0, bar_style='info', description='Progress:', layout=Layout(height='25px', width='50%'),…"
      ]
     },
     "metadata": {},
     "output_type": "display_data"
    },
    {
     "name": "stdout",
     "output_type": "stream",
     "text": [
      "Remove rows with empty userIds.\n",
      "Processing.\n",
      "Done.\n",
      "Check how many empty userIds are left: 0"
     ]
    }
   ],
   "source": [
    "print(\"Remove rows with empty userIds.\")\n",
    "print(\"Processing.\")\n",
    "df = df.where(df.userId != \"\")\n",
    "print(\"Done.\")\n",
    "print(\"Check how many empty userIds are left: \" + \\\n",
    "      str(len(df.where(df.userId == \"\").collect())))"
   ]
  },
  {
   "cell_type": "code",
   "execution_count": 169,
   "metadata": {},
   "outputs": [
    {
     "data": {
      "application/vnd.jupyter.widget-view+json": {
       "model_id": "f98e44d4aaf94e5e8ebaa328d5e48237",
       "version_major": 2,
       "version_minor": 0
      },
      "text/plain": [
       "VBox()"
      ]
     },
     "metadata": {},
     "output_type": "display_data"
    },
    {
     "data": {
      "application/vnd.jupyter.widget-view+json": {
       "model_id": "",
       "version_major": 2,
       "version_minor": 0
      },
      "text/plain": [
       "FloatProgress(value=0.0, bar_style='info', description='Progress:', layout=Layout(height='25px', width='50%'),…"
      ]
     },
     "metadata": {},
     "output_type": "display_data"
    },
    {
     "name": "stdout",
     "output_type": "stream",
     "text": [
      "Number of events after deduplication:\n",
      "278154"
     ]
    }
   ],
   "source": [
    "print(\"Number of events after deduplication:\")\n",
    "len(df.collect())"
   ]
  },
  {
   "cell_type": "code",
   "execution_count": 170,
   "metadata": {},
   "outputs": [
    {
     "data": {
      "application/vnd.jupyter.widget-view+json": {
       "model_id": "0d3a793b15b14bff975dd69821a0b580",
       "version_major": 2,
       "version_minor": 0
      },
      "text/plain": [
       "VBox()"
      ]
     },
     "metadata": {},
     "output_type": "display_data"
    },
    {
     "data": {
      "application/vnd.jupyter.widget-view+json": {
       "model_id": "",
       "version_major": 2,
       "version_minor": 0
      },
      "text/plain": [
       "FloatProgress(value=0.0, bar_style='info', description='Progress:', layout=Layout(height='25px', width='50%'),…"
      ]
     },
     "metadata": {},
     "output_type": "display_data"
    },
    {
     "name": "stdout",
     "output_type": "stream",
     "text": [
      "+--------------------+\n",
      "|                page|\n",
      "+--------------------+\n",
      "|               About|\n",
      "|          Add Friend|\n",
      "|     Add to Playlist|\n",
      "|              Cancel|\n",
      "|Cancellation Conf...|\n",
      "|           Downgrade|\n",
      "|               Error|\n",
      "|                Help|\n",
      "|                Home|\n",
      "|              Logout|\n",
      "|            NextSong|\n",
      "|         Roll Advert|\n",
      "|       Save Settings|\n",
      "|            Settings|\n",
      "|    Submit Downgrade|\n",
      "|      Submit Upgrade|\n",
      "|         Thumbs Down|\n",
      "|           Thumbs Up|\n",
      "|             Upgrade|\n",
      "+--------------------+"
     ]
    }
   ],
   "source": [
    "df.select(\"page\").dropDuplicates().orderBy(df.page.asc()).show()"
   ]
  },
  {
   "cell_type": "code",
   "execution_count": 171,
   "metadata": {},
   "outputs": [
    {
     "data": {
      "application/vnd.jupyter.widget-view+json": {
       "model_id": "046d825e00f24fdb9318fa75471145c0",
       "version_major": 2,
       "version_minor": 0
      },
      "text/plain": [
       "VBox()"
      ]
     },
     "metadata": {},
     "output_type": "display_data"
    },
    {
     "data": {
      "application/vnd.jupyter.widget-view+json": {
       "model_id": "",
       "version_major": 2,
       "version_minor": 0
      },
      "text/plain": [
       "FloatProgress(value=0.0, bar_style='info', description='Progress:', layout=Layout(height='25px', width='50%'),…"
      ]
     },
     "metadata": {},
     "output_type": "display_data"
    },
    {
     "name": "stdout",
     "output_type": "stream",
     "text": [
      "+------+\n",
      "|userId|\n",
      "+------+\n",
      "|    10|\n",
      "|   100|\n",
      "|100001|\n",
      "|100002|\n",
      "|100003|\n",
      "|100004|\n",
      "|100005|\n",
      "|100006|\n",
      "|100007|\n",
      "|100008|\n",
      "+------+\n",
      "only showing top 10 rows"
     ]
    }
   ],
   "source": [
    "df.select(\"userId\").dropDuplicates().orderBy(df.userId.asc()).show(10)"
   ]
  },
  {
   "cell_type": "code",
   "execution_count": 172,
   "metadata": {},
   "outputs": [
    {
     "data": {
      "application/vnd.jupyter.widget-view+json": {
       "model_id": "c424601239a64f3084eacd4d34ca73a8",
       "version_major": 2,
       "version_minor": 0
      },
      "text/plain": [
       "VBox()"
      ]
     },
     "metadata": {},
     "output_type": "display_data"
    },
    {
     "data": {
      "application/vnd.jupyter.widget-view+json": {
       "model_id": "",
       "version_major": 2,
       "version_minor": 0
      },
      "text/plain": [
       "FloatProgress(value=0.0, bar_style='info', description='Progress:', layout=Layout(height='25px', width='50%'),…"
      ]
     },
     "metadata": {},
     "output_type": "display_data"
    },
    {
     "name": "stdout",
     "output_type": "stream",
     "text": [
      "Number of distinct users:\n",
      "225"
     ]
    }
   ],
   "source": [
    "print('Number of distinct users:')\n",
    "len(df.dropDuplicates(['userId']).collect())"
   ]
  },
  {
   "cell_type": "code",
   "execution_count": 173,
   "metadata": {},
   "outputs": [
    {
     "data": {
      "application/vnd.jupyter.widget-view+json": {
       "model_id": "9fb33dcc880c4b9c9d64fc534441fb90",
       "version_major": 2,
       "version_minor": 0
      },
      "text/plain": [
       "VBox()"
      ]
     },
     "metadata": {},
     "output_type": "display_data"
    },
    {
     "data": {
      "application/vnd.jupyter.widget-view+json": {
       "model_id": "",
       "version_major": 2,
       "version_minor": 0
      },
      "text/plain": [
       "FloatProgress(value=0.0, bar_style='info', description='Progress:', layout=Layout(height='25px', width='50%'),…"
      ]
     },
     "metadata": {},
     "output_type": "display_data"
    },
    {
     "name": "stdout",
     "output_type": "stream",
     "text": [
      "Example event flow for one particular user:\n",
      "+--------------------+-------------+\n",
      "|                page|           ts|\n",
      "+--------------------+-------------+\n",
      "|                Home|1538376504000|\n",
      "|            NextSong|1538376509000|\n",
      "|         Roll Advert|1538376542000|\n",
      "|            NextSong|1538376747000|\n",
      "|         Roll Advert|1538376783000|\n",
      "|            NextSong|1538377349000|\n",
      "|            NextSong|1538377748000|\n",
      "|            NextSong|1538377932000|\n",
      "|            NextSong|1538378245000|\n",
      "|            NextSong|1538378483000|\n",
      "|            NextSong|1538378687000|\n",
      "|            NextSong|1538378877000|\n",
      "|            NextSong|1538379041000|\n",
      "|            NextSong|1538379207000|\n",
      "|         Roll Advert|1538379230000|\n",
      "|            NextSong|1538379420000|\n",
      "|            NextSong|1538379668000|\n",
      "|            NextSong|1538380000000|\n",
      "|            NextSong|1538380179000|\n",
      "|              Logout|1538380180000|\n",
      "|                Home|1538380429000|\n",
      "|            NextSong|1538380481000|\n",
      "|            NextSong|1538380829000|\n",
      "|            NextSong|1538381273000|\n",
      "|         Thumbs Down|1538381274000|\n",
      "|            NextSong|1538381449000|\n",
      "|            NextSong|1538381708000|\n",
      "|            NextSong|1538381978000|\n",
      "|            NextSong|1538382217000|\n",
      "|            NextSong|1538382476000|\n",
      "|         Roll Advert|1538382550000|\n",
      "|            NextSong|1538382674000|\n",
      "|         Roll Advert|1538382775000|\n",
      "|            NextSong|1538382964000|\n",
      "|            NextSong|1538383234000|\n",
      "|            NextSong|1538383532000|\n",
      "|            NextSong|1538383757000|\n",
      "|              Logout|1538383758000|\n",
      "|                Home|1538383846000|\n",
      "|            NextSong|1538384003000|\n",
      "|          Add Friend|1538384004000|\n",
      "|            NextSong|1538384240000|\n",
      "|            NextSong|1538384895000|\n",
      "|            NextSong|1538385105000|\n",
      "|            NextSong|1538385353000|\n",
      "|           Thumbs Up|1538385354000|\n",
      "|            NextSong|1538385682000|\n",
      "|            NextSong|1538385917000|\n",
      "|     Add to Playlist|1538386066000|\n",
      "|            NextSong|1538386082000|\n",
      "|              Logout|1538386083000|\n",
      "|                Home|1538451696000|\n",
      "|            NextSong|1538451700000|\n",
      "|            NextSong|1538452219000|\n",
      "|           Thumbs Up|1538452220000|\n",
      "|            NextSong|1538452394000|\n",
      "|            NextSong|1538452617000|\n",
      "|            NextSong|1538452881000|\n",
      "|            NextSong|1538453120000|\n",
      "|            NextSong|1538453404000|\n",
      "|         Roll Advert|1538453436000|\n",
      "|            NextSong|1538453655000|\n",
      "|            NextSong|1538453950000|\n",
      "|            NextSong|1538454144000|\n",
      "|            NextSong|1538454463000|\n",
      "|            NextSong|1538454682000|\n",
      "|            NextSong|1538455031000|\n",
      "|            NextSong|1538455387000|\n",
      "|            NextSong|1538455735000|\n",
      "|            Settings|1538455871000|\n",
      "|            NextSong|1538455885000|\n",
      "|            NextSong|1538456099000|\n",
      "|            NextSong|1538456361000|\n",
      "|            NextSong|1538456593000|\n",
      "|                Home|1538456624000|\n",
      "|            NextSong|1538456826000|\n",
      "|            NextSong|1538456957000|\n",
      "|         Roll Advert|1538457061000|\n",
      "|            NextSong|1538457191000|\n",
      "|            NextSong|1538457526000|\n",
      "|            NextSong|1538457701000|\n",
      "|            NextSong|1538458075000|\n",
      "|            NextSong|1538458310000|\n",
      "|                Home|1538458321000|\n",
      "|            NextSong|1538458851000|\n",
      "|         Thumbs Down|1538458852000|\n",
      "|            NextSong|1538459123000|\n",
      "|            NextSong|1538459171000|\n",
      "|            NextSong|1538459282000|\n",
      "|            NextSong|1538459508000|\n",
      "|             Upgrade|1538459613000|\n",
      "|            NextSong|1538459639000|\n",
      "|            NextSong|1538459825000|\n",
      "|            NextSong|1538460138000|\n",
      "|         Roll Advert|1538460173000|\n",
      "|            NextSong|1538460405000|\n",
      "|            NextSong|1538460683000|\n",
      "|            NextSong|1538460857000|\n",
      "|            NextSong|1538461017000|\n",
      "|           Thumbs Up|1538461018000|\n",
      "|            NextSong|1538461256000|\n",
      "|            NextSong|1538461451000|\n",
      "|            NextSong|1538461759000|\n",
      "|            NextSong|1538461992000|\n",
      "|            NextSong|1538462330000|\n",
      "|           Thumbs Up|1538462331000|\n",
      "|            NextSong|1538462591000|\n",
      "|            NextSong|1538462786000|\n",
      "|            NextSong|1538463081000|\n",
      "|             Upgrade|1538463098000|\n",
      "|            NextSong|1538463447000|\n",
      "|         Roll Advert|1538463489000|\n",
      "|         Roll Advert|1538463534000|\n",
      "|            NextSong|1538463606000|\n",
      "|            NextSong|1538463835000|\n",
      "|            NextSong|1538464098000|\n",
      "|            NextSong|1538464235000|\n",
      "|            NextSong|1538464342000|\n",
      "|            NextSong|1538464495000|\n",
      "|     Add to Playlist|1538464613000|\n",
      "|            NextSong|1538482755000|\n",
      "|              Logout|1538482756000|\n",
      "|                Home|1538483069000|\n",
      "|            NextSong|1538483141000|\n",
      "|         Roll Advert|1538483164000|\n",
      "|            NextSong|1538483424000|\n",
      "|         Roll Advert|1538483727000|\n",
      "|            NextSong|1538483738000|\n",
      "|            NextSong|1538483941000|\n",
      "|              Logout|1538483942000|\n",
      "|                Home|1538484662000|\n",
      "|            NextSong|1538484997000|\n",
      "|            NextSong|1538485105000|\n",
      "|           Thumbs Up|1538485106000|\n",
      "|            NextSong|1538485340000|\n",
      "|            NextSong|1538485623000|\n",
      "|          Add Friend|1538485624000|\n",
      "|            NextSong|1538485920000|\n",
      "|                Home|1538486429000|\n",
      "|            NextSong|1538486486000|\n",
      "|            NextSong|1538486692000|\n",
      "|           Thumbs Up|1538486693000|\n",
      "|            NextSong|1538486935000|\n",
      "|           Thumbs Up|1538486936000|\n",
      "|            NextSong|1538487296000|\n",
      "|            NextSong|1538487551000|\n",
      "|            NextSong|1538487846000|\n",
      "|     Add to Playlist|1538487847000|\n",
      "|           Thumbs Up|1538487848000|\n",
      "|            NextSong|1538488106000|\n",
      "|            NextSong|1538488358000|\n",
      "|            NextSong|1538488580000|\n",
      "|            NextSong|1538488860000|\n",
      "|            NextSong|1538488996000|\n",
      "|            NextSong|1538489401000|\n",
      "|            NextSong|1538489681000|\n",
      "|            NextSong|1538489881000|\n",
      "|               Error|1538489901000|\n",
      "|            NextSong|1538490278000|\n",
      "|            NextSong|1538490541000|\n",
      "|            NextSong|1538490859000|\n",
      "|            NextSong|1538491037000|\n",
      "|            NextSong|1538491293000|\n",
      "|            NextSong|1538491561000|\n",
      "|            NextSong|1538491800000|\n",
      "|            NextSong|1538492036000|\n",
      "|              Logout|1538492037000|\n",
      "|                Home|1538494425000|\n",
      "|            NextSong|1538494783000|\n",
      "|            NextSong|1538494956000|\n",
      "|            NextSong|1538495427000|\n",
      "|            NextSong|1538496021000|\n",
      "|            NextSong|1538496198000|\n",
      "|            NextSong|1538496420000|\n",
      "|            NextSong|1538496753000|\n",
      "|         Roll Advert|1538496839000|\n",
      "|            NextSong|1538496984000|\n",
      "|                Help|1538497010000|\n",
      "|            NextSong|1538497194000|\n",
      "|            NextSong|1538497474000|\n",
      "|            NextSong|1538497758000|\n",
      "|              Logout|1538497759000|\n",
      "|                Home|1538497786000|\n",
      "|            NextSong|1538498032000|\n",
      "|         Roll Advert|1538498073000|\n",
      "|              Cancel|1538498074000|\n",
      "|Cancellation Conf...|1538498205000|\n",
      "+--------------------+-------------+"
     ]
    }
   ],
   "source": [
    "print(\"Example event flow for one particular user:\")\n",
    "df.where(df.userId == 100001).select(\"page\", \"ts\").orderBy(\"ts\").show(1000)"
   ]
  },
  {
   "cell_type": "markdown",
   "metadata": {},
   "source": [
    "# Exploratory Data Analysis\n",
    "When you're working with the full dataset, perform EDA by loading a small subset of the data and doing basic manipulations within Spark. In this workspace, you are already provided a small subset of data you can explore.\n",
    "\n",
    "### Define Churn\n",
    "\n",
    "Once you've done some preliminary analysis, create a column `Churn` to use as the label for your model. I suggest using the `Cancellation Confirmation` events to define your churn, which happen for both paid and free users. As a bonus task, you can also look into the `Downgrade` events.\n",
    "\n",
    "### Explore Data\n",
    "Once you've defined churn, perform some exploratory data analysis to observe the behavior for users who stayed vs users who churned. You can start by exploring aggregates on these two groups of users, observing how much of a specific action they experienced per a certain time unit or number of songs played."
   ]
  },
  {
   "cell_type": "markdown",
   "metadata": {},
   "source": [
    "#### Get users that churned"
   ]
  },
  {
   "cell_type": "code",
   "execution_count": 174,
   "metadata": {},
   "outputs": [
    {
     "data": {
      "application/vnd.jupyter.widget-view+json": {
       "model_id": "223c3a081e044df7930823159860e867",
       "version_major": 2,
       "version_minor": 0
      },
      "text/plain": [
       "VBox()"
      ]
     },
     "metadata": {},
     "output_type": "display_data"
    },
    {
     "data": {
      "application/vnd.jupyter.widget-view+json": {
       "model_id": "",
       "version_major": 2,
       "version_minor": 0
      },
      "text/plain": [
       "FloatProgress(value=0.0, bar_style='info', description='Progress:', layout=Layout(height='25px', width='50%'),…"
      ]
     },
     "metadata": {},
     "output_type": "display_data"
    },
    {
     "name": "stdout",
     "output_type": "stream",
     "text": [
      "Example churned users\n",
      "[Row(userId='125'), Row(userId='51'), Row(userId='54'), Row(userId='100014'), Row(userId='101')]\n",
      "\n",
      "Number of churned users:\n",
      "52"
     ]
    }
   ],
   "source": [
    "# Get users that churned\n",
    "churned_users = df.where(df.page == \"Cancellation Confirmation\").select(\"userId\").dropDuplicates()\n",
    "\n",
    "print(\"Example churned users\")\n",
    "print(churned_users.head(5))\n",
    "\n",
    "print(\"\\nNumber of churned users:\")\n",
    "print(len(churned_users.collect()))"
   ]
  },
  {
   "cell_type": "markdown",
   "metadata": {},
   "source": [
    "#### Add column to df indicating a churned user"
   ]
  },
  {
   "cell_type": "code",
   "execution_count": 175,
   "metadata": {},
   "outputs": [
    {
     "data": {
      "application/vnd.jupyter.widget-view+json": {
       "model_id": "059e2a6b42b941ae84094c93506ed6f5",
       "version_major": 2,
       "version_minor": 0
      },
      "text/plain": [
       "VBox()"
      ]
     },
     "metadata": {},
     "output_type": "display_data"
    },
    {
     "data": {
      "application/vnd.jupyter.widget-view+json": {
       "model_id": "",
       "version_major": 2,
       "version_minor": 0
      },
      "text/plain": [
       "FloatProgress(value=0.0, bar_style='info', description='Progress:', layout=Layout(height='25px', width='50%'),…"
      ]
     },
     "metadata": {},
     "output_type": "display_data"
    },
    {
     "name": "stdout",
     "output_type": "stream",
     "text": [
      "[Row(userId='125', churned=1), Row(userId='51', churned=1), Row(userId='54', churned=1)]"
     ]
    }
   ],
   "source": [
    "churn = udf(lambda x: 1, IntegerType())\n",
    "churned_users = churned_users.withColumn(\"churned\", churn(churned_users.userId))\n",
    "print(churned_users.head(3))\n",
    "\n",
    "df = df.join(churned_users, on=['userId'], how='left')"
   ]
  },
  {
   "cell_type": "markdown",
   "metadata": {},
   "source": [
    "#### Aggregate on user level"
   ]
  },
  {
   "cell_type": "code",
   "execution_count": 176,
   "metadata": {},
   "outputs": [
    {
     "data": {
      "application/vnd.jupyter.widget-view+json": {
       "model_id": "718948b6cd094daea8a428053ebbaf0e",
       "version_major": 2,
       "version_minor": 0
      },
      "text/plain": [
       "VBox()"
      ]
     },
     "metadata": {},
     "output_type": "display_data"
    },
    {
     "data": {
      "application/vnd.jupyter.widget-view+json": {
       "model_id": "",
       "version_major": 2,
       "version_minor": 0
      },
      "text/plain": [
       "FloatProgress(value=0.0, bar_style='info', description='Progress:', layout=Layout(height='25px', width='50%'),…"
      ]
     },
     "metadata": {},
     "output_type": "display_data"
    },
    {
     "name": "stdout",
     "output_type": "stream",
     "text": [
      "['userId', 'artist', 'auth', 'firstName', 'gender', 'itemInSession', 'lastName', 'length', 'level', 'location', 'method', 'page', 'registration', 'sessionId', 'song', 'status', 'ts', 'userAgent', 'churned']"
     ]
    }
   ],
   "source": [
    "df.columns"
   ]
  },
  {
   "cell_type": "code",
   "execution_count": 177,
   "metadata": {},
   "outputs": [
    {
     "data": {
      "application/vnd.jupyter.widget-view+json": {
       "model_id": "a617912fe07f47359d36a3157db776f5",
       "version_major": 2,
       "version_minor": 0
      },
      "text/plain": [
       "VBox()"
      ]
     },
     "metadata": {},
     "output_type": "display_data"
    },
    {
     "data": {
      "application/vnd.jupyter.widget-view+json": {
       "model_id": "",
       "version_major": 2,
       "version_minor": 0
      },
      "text/plain": [
       "FloatProgress(value=0.0, bar_style='info', description='Progress:', layout=Layout(height='25px', width='50%'),…"
      ]
     },
     "metadata": {},
     "output_type": "display_data"
    }
   ],
   "source": [
    "# Create user aggregation and add churn information\n",
    "df_user_agg = df.select([\"userId\", \"gender\", \"churned\"]).groupBy([\"userId\", \"gender\"]).max()\n",
    "df_user_agg = df_user_agg.na.fill(0)\n",
    "df_user_agg = df_user_agg.withColumnRenamed(\"max(churned)\", \"churned\")"
   ]
  },
  {
   "cell_type": "code",
   "execution_count": 178,
   "metadata": {
    "scrolled": true
   },
   "outputs": [
    {
     "data": {
      "application/vnd.jupyter.widget-view+json": {
       "model_id": "26c7cc6749b04b67a165cf92cd24238b",
       "version_major": 2,
       "version_minor": 0
      },
      "text/plain": [
       "VBox()"
      ]
     },
     "metadata": {},
     "output_type": "display_data"
    },
    {
     "data": {
      "application/vnd.jupyter.widget-view+json": {
       "model_id": "",
       "version_major": 2,
       "version_minor": 0
      },
      "text/plain": [
       "FloatProgress(value=0.0, bar_style='info', description='Progress:', layout=Layout(height='25px', width='50%'),…"
      ]
     },
     "metadata": {},
     "output_type": "display_data"
    },
    {
     "name": "stdout",
     "output_type": "stream",
     "text": [
      "+------+------+-------+\n",
      "|userId|gender|churned|\n",
      "+------+------+-------+\n",
      "|100010|     F|      0|\n",
      "|200002|     M|      0|\n",
      "|   125|     M|      1|\n",
      "|   124|     F|      0|\n",
      "|    51|     M|      1|\n",
      "+------+------+-------+\n",
      "only showing top 5 rows"
     ]
    }
   ],
   "source": [
    "df_user_agg.show(5)"
   ]
  },
  {
   "cell_type": "code",
   "execution_count": 179,
   "metadata": {
    "scrolled": true
   },
   "outputs": [
    {
     "data": {
      "application/vnd.jupyter.widget-view+json": {
       "model_id": "b192ced33e754f398249c1ab7cb8d490",
       "version_major": 2,
       "version_minor": 0
      },
      "text/plain": [
       "VBox()"
      ]
     },
     "metadata": {},
     "output_type": "display_data"
    },
    {
     "data": {
      "application/vnd.jupyter.widget-view+json": {
       "model_id": "",
       "version_major": 2,
       "version_minor": 0
      },
      "text/plain": [
       "FloatProgress(value=0.0, bar_style='info', description='Progress:', layout=Layout(height='25px', width='50%'),…"
      ]
     },
     "metadata": {},
     "output_type": "display_data"
    }
   ],
   "source": [
    "# Calculate songs per user\n",
    "df_songs_per_user = df.where(df.page == \"NextSong\").select([\"userId\", \"page\"]).groupBy([\"userId\"]).count()\n",
    "df_songs_per_user = df_songs_per_user.withColumnRenamed(\"count\", \"songs_listened\")"
   ]
  },
  {
   "cell_type": "code",
   "execution_count": 180,
   "metadata": {},
   "outputs": [
    {
     "data": {
      "application/vnd.jupyter.widget-view+json": {
       "model_id": "533b864af5d743808c8a58148f878c85",
       "version_major": 2,
       "version_minor": 0
      },
      "text/plain": [
       "VBox()"
      ]
     },
     "metadata": {},
     "output_type": "display_data"
    },
    {
     "data": {
      "application/vnd.jupyter.widget-view+json": {
       "model_id": "",
       "version_major": 2,
       "version_minor": 0
      },
      "text/plain": [
       "FloatProgress(value=0.0, bar_style='info', description='Progress:', layout=Layout(height='25px', width='50%'),…"
      ]
     },
     "metadata": {},
     "output_type": "display_data"
    }
   ],
   "source": [
    "# Calculate ads per user\n",
    "df_ads_per_user = df.where(df.page == \"Roll Advert\").select([\"userId\", \"page\"]).groupBy([\"userId\"]).count()\n",
    "df_ads_per_user = df_ads_per_user.withColumnRenamed(\"count\", \"adverts_rolled\")"
   ]
  },
  {
   "cell_type": "code",
   "execution_count": 181,
   "metadata": {},
   "outputs": [
    {
     "data": {
      "application/vnd.jupyter.widget-view+json": {
       "model_id": "f2ce7dfc3b9d4a3585e2a92a4c0b2afd",
       "version_major": 2,
       "version_minor": 0
      },
      "text/plain": [
       "VBox()"
      ]
     },
     "metadata": {},
     "output_type": "display_data"
    },
    {
     "data": {
      "application/vnd.jupyter.widget-view+json": {
       "model_id": "",
       "version_major": 2,
       "version_minor": 0
      },
      "text/plain": [
       "FloatProgress(value=0.0, bar_style='info', description='Progress:', layout=Layout(height='25px', width='50%'),…"
      ]
     },
     "metadata": {},
     "output_type": "display_data"
    }
   ],
   "source": [
    "# Calculate friends added per user\n",
    "df_friends_added_per_user = df.where(df.page == \"Add Friend\").select([\"userId\", \"page\"]).groupBy([\"userId\"]).count()\n",
    "df_friends_added_per_user = df_friends_added_per_user.withColumnRenamed(\"count\", \"friends_added\")"
   ]
  },
  {
   "cell_type": "code",
   "execution_count": 182,
   "metadata": {},
   "outputs": [
    {
     "data": {
      "application/vnd.jupyter.widget-view+json": {
       "model_id": "d63b145b10ec4eda917033049cb882ae",
       "version_major": 2,
       "version_minor": 0
      },
      "text/plain": [
       "VBox()"
      ]
     },
     "metadata": {},
     "output_type": "display_data"
    },
    {
     "data": {
      "application/vnd.jupyter.widget-view+json": {
       "model_id": "",
       "version_major": 2,
       "version_minor": 0
      },
      "text/plain": [
       "FloatProgress(value=0.0, bar_style='info', description='Progress:', layout=Layout(height='25px', width='50%'),…"
      ]
     },
     "metadata": {},
     "output_type": "display_data"
    }
   ],
   "source": [
    "# Calculate upgrades to premium per user\n",
    "df_upgrades_per_user = df.where(df.page == \"Submit Upgrade\").select([\"userId\", \"page\"]).groupBy([\"userId\"]).count()\n",
    "df_upgrades_per_user = df_upgrades_per_user.withColumnRenamed(\"count\", \"times_upgraded\")"
   ]
  },
  {
   "cell_type": "code",
   "execution_count": 183,
   "metadata": {},
   "outputs": [
    {
     "data": {
      "application/vnd.jupyter.widget-view+json": {
       "model_id": "9785adef52f44f8bab067fa7dafe9ddf",
       "version_major": 2,
       "version_minor": 0
      },
      "text/plain": [
       "VBox()"
      ]
     },
     "metadata": {},
     "output_type": "display_data"
    },
    {
     "data": {
      "application/vnd.jupyter.widget-view+json": {
       "model_id": "",
       "version_major": 2,
       "version_minor": 0
      },
      "text/plain": [
       "FloatProgress(value=0.0, bar_style='info', description='Progress:', layout=Layout(height='25px', width='50%'),…"
      ]
     },
     "metadata": {},
     "output_type": "display_data"
    }
   ],
   "source": [
    "# Calculate downgrades for free per user\n",
    "df_downgrades_per_user = df.where(df.page == \"Submit Downgrade\").select([\"userId\", \"page\"]).groupBy([\"userId\"]).count()\n",
    "df_downgrades_per_user = df_downgrades_per_user.withColumnRenamed(\"count\", \"times_downgraded\")"
   ]
  },
  {
   "cell_type": "code",
   "execution_count": 184,
   "metadata": {},
   "outputs": [
    {
     "data": {
      "application/vnd.jupyter.widget-view+json": {
       "model_id": "ed8f6fc21946446fbbe555effc53d8ed",
       "version_major": 2,
       "version_minor": 0
      },
      "text/plain": [
       "VBox()"
      ]
     },
     "metadata": {},
     "output_type": "display_data"
    },
    {
     "data": {
      "application/vnd.jupyter.widget-view+json": {
       "model_id": "",
       "version_major": 2,
       "version_minor": 0
      },
      "text/plain": [
       "FloatProgress(value=0.0, bar_style='info', description='Progress:', layout=Layout(height='25px', width='50%'),…"
      ]
     },
     "metadata": {},
     "output_type": "display_data"
    }
   ],
   "source": [
    "# Calculate playlist additions per user\n",
    "df_playlist_adds_per_user = df.where(df.page == \"Add to Playlist\").select([\"userId\", \"page\"]).groupBy([\"userId\"]).count()\n",
    "df_playlist_adds_per_user = df_playlist_adds_per_user.withColumnRenamed(\"count\", \"playlist_additions\")"
   ]
  },
  {
   "cell_type": "code",
   "execution_count": 185,
   "metadata": {},
   "outputs": [
    {
     "data": {
      "application/vnd.jupyter.widget-view+json": {
       "model_id": "7dd8df67d2264519830420df66a59efc",
       "version_major": 2,
       "version_minor": 0
      },
      "text/plain": [
       "VBox()"
      ]
     },
     "metadata": {},
     "output_type": "display_data"
    },
    {
     "data": {
      "application/vnd.jupyter.widget-view+json": {
       "model_id": "",
       "version_major": 2,
       "version_minor": 0
      },
      "text/plain": [
       "FloatProgress(value=0.0, bar_style='info', description='Progress:', layout=Layout(height='25px', width='50%'),…"
      ]
     },
     "metadata": {},
     "output_type": "display_data"
    }
   ],
   "source": [
    "# Calculate errors per user\n",
    "df_errors_per_user = df.where(df.page == \"Error\").select([\"userId\", \"page\"]).groupBy([\"userId\"]).count()\n",
    "df_errors_per_user = df_errors_per_user.withColumnRenamed(\"count\", \"errors\")"
   ]
  },
  {
   "cell_type": "code",
   "execution_count": 186,
   "metadata": {},
   "outputs": [
    {
     "data": {
      "application/vnd.jupyter.widget-view+json": {
       "model_id": "cadc2ce1296f4ff889d7e03271654da8",
       "version_major": 2,
       "version_minor": 0
      },
      "text/plain": [
       "VBox()"
      ]
     },
     "metadata": {},
     "output_type": "display_data"
    },
    {
     "data": {
      "application/vnd.jupyter.widget-view+json": {
       "model_id": "",
       "version_major": 2,
       "version_minor": 0
      },
      "text/plain": [
       "FloatProgress(value=0.0, bar_style='info', description='Progress:', layout=Layout(height='25px', width='50%'),…"
      ]
     },
     "metadata": {},
     "output_type": "display_data"
    }
   ],
   "source": [
    "# Calculate help access per user\n",
    "df_help_per_user = df.where(df.page == \"Help\").select([\"userId\", \"page\"]).groupBy([\"userId\"]).count()\n",
    "df_help_per_user = df_help_per_user.withColumnRenamed(\"count\", \"help_access_count\")"
   ]
  },
  {
   "cell_type": "code",
   "execution_count": 187,
   "metadata": {},
   "outputs": [
    {
     "data": {
      "application/vnd.jupyter.widget-view+json": {
       "model_id": "861279bf32264fdb829220442e22daf4",
       "version_major": 2,
       "version_minor": 0
      },
      "text/plain": [
       "VBox()"
      ]
     },
     "metadata": {},
     "output_type": "display_data"
    },
    {
     "data": {
      "application/vnd.jupyter.widget-view+json": {
       "model_id": "",
       "version_major": 2,
       "version_minor": 0
      },
      "text/plain": [
       "FloatProgress(value=0.0, bar_style='info', description='Progress:', layout=Layout(height='25px', width='50%'),…"
      ]
     },
     "metadata": {},
     "output_type": "display_data"
    }
   ],
   "source": [
    "# Calculate logouts per user\n",
    "df_logouts_per_user = df.where(df.page == \"Logout\").select([\"userId\", \"page\"]).groupBy([\"userId\"]).count()\n",
    "df_logouts_per_user = df_logouts_per_user.withColumnRenamed(\"count\", \"logouts\")"
   ]
  },
  {
   "cell_type": "code",
   "execution_count": 188,
   "metadata": {},
   "outputs": [
    {
     "data": {
      "application/vnd.jupyter.widget-view+json": {
       "model_id": "f6a8ea309ef244a7ac5229150dd6680c",
       "version_major": 2,
       "version_minor": 0
      },
      "text/plain": [
       "VBox()"
      ]
     },
     "metadata": {},
     "output_type": "display_data"
    },
    {
     "data": {
      "application/vnd.jupyter.widget-view+json": {
       "model_id": "",
       "version_major": 2,
       "version_minor": 0
      },
      "text/plain": [
       "FloatProgress(value=0.0, bar_style='info', description='Progress:', layout=Layout(height='25px', width='50%'),…"
      ]
     },
     "metadata": {},
     "output_type": "display_data"
    }
   ],
   "source": [
    "# Calculate thumbs up per user\n",
    "df_thumbs_up_per_user = df.where(df.page == \"Thumbs Up\").select([\"userId\", \"page\"]).groupBy([\"userId\"]).count()\n",
    "df_thumbs_up_per_user = df_thumbs_up_per_user.withColumnRenamed(\"count\", \"thumbs_up_given\")"
   ]
  },
  {
   "cell_type": "code",
   "execution_count": 189,
   "metadata": {},
   "outputs": [
    {
     "data": {
      "application/vnd.jupyter.widget-view+json": {
       "model_id": "47f4bf451c87453cb6e2f6747aa2c691",
       "version_major": 2,
       "version_minor": 0
      },
      "text/plain": [
       "VBox()"
      ]
     },
     "metadata": {},
     "output_type": "display_data"
    },
    {
     "data": {
      "application/vnd.jupyter.widget-view+json": {
       "model_id": "",
       "version_major": 2,
       "version_minor": 0
      },
      "text/plain": [
       "FloatProgress(value=0.0, bar_style='info', description='Progress:', layout=Layout(height='25px', width='50%'),…"
      ]
     },
     "metadata": {},
     "output_type": "display_data"
    }
   ],
   "source": [
    "# Calculate thumbs down per user\n",
    "df_thumbs_down_per_user = df.where(df.page == \"Thumbs Down\").select([\"userId\", \"page\"]).groupBy([\"userId\"]).count()\n",
    "df_thumbs_down_per_user = df_thumbs_down_per_user.withColumnRenamed(\"count\", \"thumbs_down_given\")"
   ]
  },
  {
   "cell_type": "code",
   "execution_count": 190,
   "metadata": {},
   "outputs": [
    {
     "data": {
      "application/vnd.jupyter.widget-view+json": {
       "model_id": "b0d3b63bc990490da8424d40bd0e90fe",
       "version_major": 2,
       "version_minor": 0
      },
      "text/plain": [
       "VBox()"
      ]
     },
     "metadata": {},
     "output_type": "display_data"
    },
    {
     "data": {
      "application/vnd.jupyter.widget-view+json": {
       "model_id": "",
       "version_major": 2,
       "version_minor": 0
      },
      "text/plain": [
       "FloatProgress(value=0.0, bar_style='info', description='Progress:', layout=Layout(height='25px', width='50%'),…"
      ]
     },
     "metadata": {},
     "output_type": "display_data"
    },
    {
     "name": "stdout",
     "output_type": "stream",
     "text": [
      "+------+-------------+-------------+----------+\n",
      "|userId|   last_login| registration|  user_age|\n",
      "+------+-------------+-------------+----------+\n",
      "|100010|1542823952000|1538016340000|4807612000|\n",
      "+------+-------------+-------------+----------+\n",
      "only showing top 1 row"
     ]
    }
   ],
   "source": [
    "# Calculate time registered (\"user age\")\n",
    "df_age_per_user = df.groupBy(\"userId\").agg(f.max('ts').alias(\"last_login\"), \\\n",
    "    f.min('registration').alias(\"registration\"))\n",
    "\n",
    "df_age_per_user = df_age_per_user.withColumn(\"user_age\", df_age_per_user.last_login - df_age_per_user.registration)\n",
    "\n",
    "df_age_per_user.show(1)"
   ]
  },
  {
   "cell_type": "code",
   "execution_count": 191,
   "metadata": {},
   "outputs": [
    {
     "data": {
      "application/vnd.jupyter.widget-view+json": {
       "model_id": "c7161c67f71b437cbde2be0ada504a58",
       "version_major": 2,
       "version_minor": 0
      },
      "text/plain": [
       "VBox()"
      ]
     },
     "metadata": {},
     "output_type": "display_data"
    },
    {
     "data": {
      "application/vnd.jupyter.widget-view+json": {
       "model_id": "",
       "version_major": 2,
       "version_minor": 0
      },
      "text/plain": [
       "FloatProgress(value=0.0, bar_style='info', description='Progress:', layout=Layout(height='25px', width='50%'),…"
      ]
     },
     "metadata": {},
     "output_type": "display_data"
    }
   ],
   "source": [
    "# Join aggregates together to one table\n",
    "df_user_agg = df_user_agg.join(df_songs_per_user, on=['userId'], how='left')\n",
    "df_user_agg = df_user_agg.join(df_ads_per_user, on=['userId'], how='left')\n",
    "df_user_agg = df_user_agg.join(df_friends_added_per_user, on=['userId'], how='left')\n",
    "df_user_agg = df_user_agg.join(df_playlist_adds_per_user, on=['userId'], how='left')\n",
    "df_user_agg = df_user_agg.join(df_errors_per_user, on=['userId'], how='left')\n",
    "df_user_agg = df_user_agg.join(df_help_per_user, on=['userId'], how='left')\n",
    "df_user_agg = df_user_agg.join(df_logouts_per_user, on=['userId'], how='left')\n",
    "df_user_agg = df_user_agg.join(df_thumbs_up_per_user, on=['userId'], how='left')\n",
    "df_user_agg = df_user_agg.join(df_thumbs_down_per_user, on=['userId'], how='left')\n",
    "df_user_agg = df_user_agg.join(df_upgrades_per_user, on=['userId'], how='left')\n",
    "df_user_agg = df_user_agg.join(df_downgrades_per_user, on=['userId'], how='left')\n",
    "df_user_agg = df_user_agg.join(df_age_per_user, on=['userId'], how='left')\n",
    "\n",
    "# Fill null values created after join with 0, as they represent missing counts\n",
    "df_user_agg = df_user_agg.na.fill(0)"
   ]
  },
  {
   "cell_type": "code",
   "execution_count": 192,
   "metadata": {},
   "outputs": [
    {
     "data": {
      "application/vnd.jupyter.widget-view+json": {
       "model_id": "8a1732c52949479195ea347f1c878101",
       "version_major": 2,
       "version_minor": 0
      },
      "text/plain": [
       "VBox()"
      ]
     },
     "metadata": {},
     "output_type": "display_data"
    },
    {
     "data": {
      "application/vnd.jupyter.widget-view+json": {
       "model_id": "",
       "version_major": 2,
       "version_minor": 0
      },
      "text/plain": [
       "FloatProgress(value=0.0, bar_style='info', description='Progress:', layout=Layout(height='25px', width='50%'),…"
      ]
     },
     "metadata": {},
     "output_type": "display_data"
    },
    {
     "name": "stdout",
     "output_type": "stream",
     "text": [
      "+------+------+-------+--------------+--------------+-------------+------------------+------+-----------------+-------+---------------+-----------------+--------------+----------------+-------------+-------------+----------+\n",
      "|userId|gender|churned|songs_listened|adverts_rolled|friends_added|playlist_additions|errors|help_access_count|logouts|thumbs_up_given|thumbs_down_given|times_upgraded|times_downgraded|   last_login| registration|  user_age|\n",
      "+------+------+-------+--------------+--------------+-------------+------------------+------+-----------------+-------+---------------+-----------------+--------------+----------------+-------------+-------------+----------+\n",
      "|100010|     F|      0|           275|            52|            4|                 7|     0|                2|      5|             17|                5|             0|               0|1542823952000|1538016340000|4807612000|\n",
      "+------+------+-------+--------------+--------------+-------------+------------------+------+-----------------+-------+---------------+-----------------+--------------+----------------+-------------+-------------+----------+\n",
      "only showing top 1 row"
     ]
    }
   ],
   "source": [
    "df_user_agg.show(1)"
   ]
  },
  {
   "cell_type": "markdown",
   "metadata": {},
   "source": [
    "#### Observe different aggregates"
   ]
  },
  {
   "cell_type": "code",
   "execution_count": 193,
   "metadata": {},
   "outputs": [
    {
     "data": {
      "application/vnd.jupyter.widget-view+json": {
       "model_id": "9ddf5decaaae4d7493b2e5508c816c42",
       "version_major": 2,
       "version_minor": 0
      },
      "text/plain": [
       "VBox()"
      ]
     },
     "metadata": {},
     "output_type": "display_data"
    },
    {
     "data": {
      "application/vnd.jupyter.widget-view+json": {
       "model_id": "",
       "version_major": 2,
       "version_minor": 0
      },
      "text/plain": [
       "FloatProgress(value=0.0, bar_style='info', description='Progress:', layout=Layout(height='25px', width='50%'),…"
      ]
     },
     "metadata": {},
     "output_type": "display_data"
    },
    {
     "name": "stdout",
     "output_type": "stream",
     "text": [
      "+-------+-------------------+-------------------+------------------+-----------------------+------------------+\n",
      "|churned|avg(songs_listened)|avg(adverts_rolled)|avg(friends_added)|avg(playlist_additions)|       avg(errors)|\n",
      "+-------+-------------------+-------------------+------------------+-----------------------+------------------+\n",
      "|      1|  699.8846153846154| 18.596153846153847| 12.23076923076923|      19.96153846153846|0.6153846153846154|\n",
      "|      0| 1108.1734104046243|  17.14450867052023|21.046242774566473|     31.722543352601157|1.2716763005780347|\n",
      "+-------+-------------------+-------------------+------------------+-----------------------+------------------+"
     ]
    }
   ],
   "source": [
    "df_user_agg.groupBy(\"churned\").agg(f.mean('songs_listened'), \\\n",
    "    f.mean('adverts_rolled'), \\\n",
    "    f.mean('friends_added'), \\\n",
    "    f.mean('playlist_additions'), \\\n",
    "    f.mean('errors')).show()"
   ]
  },
  {
   "cell_type": "code",
   "execution_count": 194,
   "metadata": {},
   "outputs": [
    {
     "data": {
      "application/vnd.jupyter.widget-view+json": {
       "model_id": "f4bb0a9beba34d55bc98b06e0bff9916",
       "version_major": 2,
       "version_minor": 0
      },
      "text/plain": [
       "VBox()"
      ]
     },
     "metadata": {},
     "output_type": "display_data"
    },
    {
     "data": {
      "application/vnd.jupyter.widget-view+json": {
       "model_id": "",
       "version_major": 2,
       "version_minor": 0
      },
      "text/plain": [
       "FloatProgress(value=0.0, bar_style='info', description='Progress:', layout=Layout(height='25px', width='50%'),…"
      ]
     },
     "metadata": {},
     "output_type": "display_data"
    },
    {
     "name": "stdout",
     "output_type": "stream",
     "text": [
      "+-------+--------------------+----------------------+-------------------+---------------------+------------------+----------------------+\n",
      "|churned|avg(thumbs_up_given)|avg(thumbs_down_given)|avg(times_upgraded)|avg(times_downgraded)|      avg(logouts)|avg(help_access_count)|\n",
      "+-------+--------------------+----------------------+-------------------+---------------------+------------------+----------------------+\n",
      "|      1|               35.75|     9.538461538461538| 0.6153846153846154|  0.17307692307692307|10.634615384615385|     4.596153846153846|\n",
      "|      0|   61.80346820809248|     11.84971098265896| 0.7341040462427746|  0.31213872832369943| 15.45086705202312|     7.023121387283237|\n",
      "+-------+--------------------+----------------------+-------------------+---------------------+------------------+----------------------+"
     ]
    }
   ],
   "source": [
    "df_user_agg.groupBy(\"churned\").agg(f.mean('thumbs_up_given'), \\\n",
    "    f.mean('thumbs_down_given'), \\\n",
    "    f.mean('times_upgraded'), \\\n",
    "    f.mean('times_downgraded'), \\\n",
    "    f.mean('logouts'), \\\n",
    "    f.mean('help_access_count')).show()"
   ]
  },
  {
   "cell_type": "code",
   "execution_count": 195,
   "metadata": {},
   "outputs": [
    {
     "data": {
      "application/vnd.jupyter.widget-view+json": {
       "model_id": "c7191e4191ec48afa5be4538f0089726",
       "version_major": 2,
       "version_minor": 0
      },
      "text/plain": [
       "VBox()"
      ]
     },
     "metadata": {},
     "output_type": "display_data"
    },
    {
     "data": {
      "application/vnd.jupyter.widget-view+json": {
       "model_id": "",
       "version_major": 2,
       "version_minor": 0
      },
      "text/plain": [
       "FloatProgress(value=0.0, bar_style='info', description='Progress:', layout=Layout(height='25px', width='50%'),…"
      ]
     },
     "metadata": {},
     "output_type": "display_data"
    },
    {
     "name": "stdout",
     "output_type": "stream",
     "text": [
      "+-------+--------------------+--------------------+------------------+\n",
      "|churned|      avg_last_login|    avg_registration| avg_user_age_days|\n",
      "+-------+--------------------+--------------------+------------------+\n",
      "|      1|2018-10-27 12:03:...|2018-08-31 04:42:...|57.305992922008535|\n",
      "|      0|2018-11-24 11:26:...|2018-08-29 20:32:...| 86.62061938021837|\n",
      "+-------+--------------------+--------------------+------------------+"
     ]
    }
   ],
   "source": [
    "# Convert from unix time to normal time to see results in human readable way\n",
    "df_user_agg.groupBy(\"churned\").agg(\\\n",
    "    from_unixtime(f.mean('last_login') / 1000 ,\"yyyy-MM-dd HH:mm:ss:SSS\").alias(\"avg_last_login\"),\n",
    "    from_unixtime(f.mean('registration') / 1000 ,\"yyyy-MM-dd HH:mm:ss:SSS\").alias(\"avg_registration\"), \\\n",
    "    (f.mean('user_age') / 1000/3600/24).alias(\"avg_user_age_days\")).show()"
   ]
  },
  {
   "cell_type": "markdown",
   "metadata": {},
   "source": [
    "# Feature Engineering\n",
    "Once you've familiarized yourself with the data, build out the features you find promising to train your model on. To work with the full dataset, you can follow the following steps.\n",
    "- Write a script to extract the necessary features from the smaller subset of data\n",
    "- Ensure that your script is scalable, using the best practices discussed in Lesson 3\n",
    "- Try your script on the full data set, debugging your script if necessary\n",
    "\n",
    "If you are working in the classroom workspace, you can just extract features based on the small subset of data contained here. Be sure to transfer over this work to the larger dataset when you work on your Spark cluster."
   ]
  },
  {
   "cell_type": "markdown",
   "metadata": {},
   "source": [
    "#### One Hot Encoding the Gender Column"
   ]
  },
  {
   "cell_type": "code",
   "execution_count": 196,
   "metadata": {},
   "outputs": [
    {
     "data": {
      "application/vnd.jupyter.widget-view+json": {
       "model_id": "112ff10bd8c74a279ca3a84a392480eb",
       "version_major": 2,
       "version_minor": 0
      },
      "text/plain": [
       "VBox()"
      ]
     },
     "metadata": {},
     "output_type": "display_data"
    },
    {
     "data": {
      "application/vnd.jupyter.widget-view+json": {
       "model_id": "",
       "version_major": 2,
       "version_minor": 0
      },
      "text/plain": [
       "FloatProgress(value=0.0, bar_style='info', description='Progress:', layout=Layout(height='25px', width='50%'),…"
      ]
     },
     "metadata": {},
     "output_type": "display_data"
    }
   ],
   "source": [
    "# Use OneHotEncoding to transform gender into one hot vector \n",
    "stringIndexer = StringIndexer(inputCol=\"gender\", outputCol=\"genderIndex\")\n",
    "model = stringIndexer.fit(df_user_agg)\n",
    "indexed = model.transform(df_user_agg)\n",
    "encoder = OneHotEncoder(inputCol=\"genderIndex\", outputCol=\"genderIndexVec\")\n",
    "df_features = encoder.transform(indexed)"
   ]
  },
  {
   "cell_type": "code",
   "execution_count": 197,
   "metadata": {},
   "outputs": [
    {
     "data": {
      "application/vnd.jupyter.widget-view+json": {
       "model_id": "0303fd0ba3264c50a8540ba3ba275246",
       "version_major": 2,
       "version_minor": 0
      },
      "text/plain": [
       "VBox()"
      ]
     },
     "metadata": {},
     "output_type": "display_data"
    },
    {
     "data": {
      "application/vnd.jupyter.widget-view+json": {
       "model_id": "",
       "version_major": 2,
       "version_minor": 0
      },
      "text/plain": [
       "FloatProgress(value=0.0, bar_style='info', description='Progress:', layout=Layout(height='25px', width='50%'),…"
      ]
     },
     "metadata": {},
     "output_type": "display_data"
    },
    {
     "name": "stdout",
     "output_type": "stream",
     "text": [
      "+------+-----------+--------------+\n",
      "|gender|genderIndex|genderIndexVec|\n",
      "+------+-----------+--------------+\n",
      "|     F|        1.0|     (1,[],[])|\n",
      "|     M|        0.0| (1,[0],[1.0])|\n",
      "|     M|        0.0| (1,[0],[1.0])|\n",
      "|     F|        1.0|     (1,[],[])|\n",
      "|     M|        0.0| (1,[0],[1.0])|\n",
      "+------+-----------+--------------+\n",
      "only showing top 5 rows"
     ]
    }
   ],
   "source": [
    "# https://stackoverflow.com/questions/49632830/pyspark-output-of-onehotencoder-looks-odd\n",
    "df_features.select(\"gender\", \"genderIndex\", \"genderIndexVec\").show(5)"
   ]
  },
  {
   "cell_type": "markdown",
   "metadata": {},
   "source": [
    "#### Feature Vector Assembler"
   ]
  },
  {
   "cell_type": "code",
   "execution_count": 198,
   "metadata": {},
   "outputs": [
    {
     "data": {
      "application/vnd.jupyter.widget-view+json": {
       "model_id": "372f532207074adcbe99a261c79df0aa",
       "version_major": 2,
       "version_minor": 0
      },
      "text/plain": [
       "VBox()"
      ]
     },
     "metadata": {},
     "output_type": "display_data"
    },
    {
     "data": {
      "application/vnd.jupyter.widget-view+json": {
       "model_id": "",
       "version_major": 2,
       "version_minor": 0
      },
      "text/plain": [
       "FloatProgress(value=0.0, bar_style='info', description='Progress:', layout=Layout(height='25px', width='50%'),…"
      ]
     },
     "metadata": {},
     "output_type": "display_data"
    },
    {
     "name": "stdout",
     "output_type": "stream",
     "text": [
      "Assembled columns genderIndex, songs_listened, adverts_rolled, friends_added, playlist_additions, errors, help_access_count, logouts, thumbs_up_given, thumbs_down_given, times_upgraded, times_downgraded, user_age,  to vector column 'features'\n",
      "+-------------------------------------------------------------------------+-----+\n",
      "|features_raw                                                             |label|\n",
      "+-------------------------------------------------------------------------+-----+\n",
      "|[1.0,275.0,52.0,4.0,7.0,0.0,2.0,5.0,17.0,5.0,0.0,0.0,4.807612E9]         |0    |\n",
      "|[0.0,387.0,7.0,4.0,8.0,0.0,2.0,5.0,21.0,6.0,1.0,0.0,6.054448E9]          |0    |\n",
      "|(13,[1,2,12],[8.0,1.0,6.161779E9])                                       |1    |\n",
      "|[1.0,4079.0,4.0,74.0,118.0,6.0,23.0,59.0,171.0,41.0,0.0,0.0,1.1366431E10]|0    |\n",
      "|[0.0,2111.0,0.0,28.0,52.0,1.0,12.0,24.0,100.0,21.0,0.0,0.0,1.680985E9]   |1    |\n",
      "|[0.0,150.0,16.0,1.0,5.0,1.0,1.0,3.0,7.0,1.0,0.0,0.0,6.288035E9]          |0    |\n",
      "|[0.0,1914.0,1.0,31.0,59.0,2.0,8.0,27.0,81.0,14.0,0.0,0.0,4.882773E9]     |0    |\n",
      "|[1.0,2841.0,47.0,33.0,72.0,1.0,17.0,36.0,163.0,29.0,1.0,1.0,9.568946E9]  |1    |\n",
      "|[1.0,820.0,8.0,11.0,24.0,3.0,9.0,14.0,58.0,3.0,1.0,0.0,2.03524E9]        |0    |\n",
      "|[0.0,257.0,2.0,6.0,7.0,0.0,2.0,3.0,17.0,3.0,0.0,0.0,7.351206E9]          |1    |\n",
      "|[1.0,1928.0,2.0,41.0,38.0,3.0,16.0,34.0,96.0,17.0,1.0,0.0,5.779219E9]    |0    |\n",
      "|[1.0,84.0,10.0,3.0,1.0,0.0,1.0,2.0,11.0,0.0,0.0,0.0,2.062544E9]          |0    |\n",
      "|[0.0,1797.0,8.0,29.0,61.0,3.0,12.0,24.0,86.0,16.0,1.0,0.0,4.662657E9]    |1    |\n",
      "|[1.0,647.0,39.0,6.0,20.0,1.0,3.0,14.0,40.0,9.0,2.0,1.0,1.0754921E10]     |0    |\n",
      "|[0.0,2070.0,17.0,41.0,67.0,1.0,13.0,18.0,95.0,24.0,1.0,0.0,5.756546E9]   |0    |\n",
      "|[1.0,3632.0,11.0,63.0,113.0,5.0,27.0,41.0,303.0,28.0,0.0,0.0,6.424576E9] |0    |\n",
      "|[0.0,230.0,30.0,7.0,7.0,2.0,0.0,7.0,11.0,5.0,0.0,0.0,5.593438E9]         |1    |\n",
      "|[0.0,3028.0,22.0,47.0,89.0,0.0,28.0,41.0,154.0,22.0,1.0,0.0,5.19299E9]   |1    |\n",
      "|[1.0,1125.0,3.0,12.0,33.0,4.0,7.0,10.0,72.0,9.0,1.0,0.0,6.171072E9]      |0    |\n",
      "|[0.0,215.0,21.0,7.0,7.0,0.0,1.0,3.0,9.0,3.0,0.0,0.0,7.556771E9]          |0    |\n",
      "+-------------------------------------------------------------------------+-----+\n",
      "only showing top 20 rows"
     ]
    }
   ],
   "source": [
    "# Assemble columns into feature vector\n",
    "feature_list = [\"genderIndex\", \"songs_listened\", \"adverts_rolled\", \"friends_added\", \"playlist_additions\",\\\n",
    "               \"errors\", \"help_access_count\", \"logouts\", \"thumbs_up_given\", \"thumbs_down_given\",\\\n",
    "              \"times_upgraded\", \"times_downgraded\", \"user_age\"]\n",
    "\n",
    "assembler = VectorAssembler(\n",
    "    inputCols=feature_list,\n",
    "    outputCol=\"features_raw\")\n",
    "\n",
    "output = assembler.transform(df_features)\n",
    "\n",
    "feature_str = \"\"\n",
    "for feature in feature_list:\n",
    "    feature_str = feature_str + feature + \", \"\n",
    "    \n",
    "print(\"Assembled columns \" + feature_str + \" to vector column 'features'\")\n",
    "\n",
    "# Rename churned column to label\n",
    "output = output.withColumnRenamed(\"churned\", \"label\")\n",
    "df_features = output.select(\"features_raw\", \"label\")\n",
    "df_features.show(truncate=False)"
   ]
  },
  {
   "cell_type": "markdown",
   "metadata": {},
   "source": [
    "## Modeling\n",
    "Split the full dataset into train, test, and validation sets. Test out several of the machine learning methods you learned. Evaluate the accuracy of the various models, tuning parameters as necessary. Determine your winning model based on test accuracy and report results on the validation set. Since the churned users are a fairly small subset, I suggest using F1 score as the metric to optimize."
   ]
  },
  {
   "cell_type": "code",
   "execution_count": 199,
   "metadata": {},
   "outputs": [
    {
     "data": {
      "application/vnd.jupyter.widget-view+json": {
       "model_id": "ba28d9875bae4ce5ba5dd596922e94cf",
       "version_major": 2,
       "version_minor": 0
      },
      "text/plain": [
       "VBox()"
      ]
     },
     "metadata": {},
     "output_type": "display_data"
    },
    {
     "data": {
      "application/vnd.jupyter.widget-view+json": {
       "model_id": "",
       "version_major": 2,
       "version_minor": 0
      },
      "text/plain": [
       "FloatProgress(value=0.0, bar_style='info', description='Progress:', layout=Layout(height='25px', width='50%'),…"
      ]
     },
     "metadata": {},
     "output_type": "display_data"
    }
   ],
   "source": [
    "train, test = df_features.select([\"features_raw\", \"label\"]).randomSplit([0.7, 0.3], seed=42)"
   ]
  },
  {
   "cell_type": "markdown",
   "metadata": {},
   "source": [
    "#### Apply Standard Scaler to Feature Vector (only use training data for fittting)"
   ]
  },
  {
   "cell_type": "code",
   "execution_count": 200,
   "metadata": {},
   "outputs": [
    {
     "data": {
      "application/vnd.jupyter.widget-view+json": {
       "model_id": "30d2ec27e5fa4f0594877dfa2d7c9a74",
       "version_major": 2,
       "version_minor": 0
      },
      "text/plain": [
       "VBox()"
      ]
     },
     "metadata": {},
     "output_type": "display_data"
    },
    {
     "data": {
      "application/vnd.jupyter.widget-view+json": {
       "model_id": "",
       "version_major": 2,
       "version_minor": 0
      },
      "text/plain": [
       "FloatProgress(value=0.0, bar_style='info', description='Progress:', layout=Layout(height='25px', width='50%'),…"
      ]
     },
     "metadata": {},
     "output_type": "display_data"
    },
    {
     "name": "stdout",
     "output_type": "stream",
     "text": [
      "-RECORD 0------------------------------------------------------------------------------------------------------------------------------------------------------------------------------------------------------------------------------------------------------------------------\n",
      " features | [-0.9090432819323164,-0.5409572220642149,-0.4611421714421565,-0.6898758454499456,-0.6095727990394836,-0.7581758900672644,-0.5916125451268657,-0.5651962896804007,-0.5117761802965368,-0.3771032641568506,0.3290094057921096,-0.4928509615516156,-0.2194480471686497] \n",
      " label    | 0                                                                                                                                                                                                                                                                    \n",
      "only showing top 1 row\n",
      "\n",
      "-RECORD 0------------------------------------------------------------------------------------------------------------------------------------------------------------------------------------------------------------------------------------------------------------------------\n",
      " features | [1.0933088120537318,-0.6364744288694253,1.7239210246355046,-0.6898758454499456,-0.6383812554742286,-0.7581758900672644,-0.5916125451268657,-0.5651962896804007,-0.5698677662215615,-0.44655844162302755,-0.9790035977228633,-0.4928509615516156,-0.6082685656071002] \n",
      " label    | 0                                                                                                                                                                                                                                                                    \n",
      "only showing top 1 row"
     ]
    }
   ],
   "source": [
    "scaler = StandardScaler(inputCol=\"features_raw\", outputCol=\"features\",\n",
    "                        withStd=True, withMean=True)\n",
    "\n",
    "# Compute summary statistics by fitting the StandardScaler\n",
    "scalerModel = scaler.fit(train)\n",
    "\n",
    "# Normalize each feature to have unit standard deviation.\n",
    "train = scalerModel.transform(train)\n",
    "test = scalerModel.transform(test)\n",
    "\n",
    "# Select only relevant columns\n",
    "train = train.select(\"features\", \"label\")\n",
    "test = test.select(\"features\", \"label\")\n",
    "\n",
    "# Show example train and test data\n",
    "train.show(1, vertical=True, truncate=False)\n",
    "test.show(1, vertical=True, truncate=False)"
   ]
  },
  {
   "cell_type": "markdown",
   "metadata": {},
   "source": [
    "## Model 1 - Random Forest"
   ]
  },
  {
   "cell_type": "code",
   "execution_count": 201,
   "metadata": {},
   "outputs": [
    {
     "data": {
      "application/vnd.jupyter.widget-view+json": {
       "model_id": "8d3e0038e7a04fecb8eb518c1f4665ae",
       "version_major": 2,
       "version_minor": 0
      },
      "text/plain": [
       "VBox()"
      ]
     },
     "metadata": {},
     "output_type": "display_data"
    },
    {
     "data": {
      "application/vnd.jupyter.widget-view+json": {
       "model_id": "",
       "version_major": 2,
       "version_minor": 0
      },
      "text/plain": [
       "FloatProgress(value=0.0, bar_style='info', description='Progress:', layout=Layout(height='25px', width='50%'),…"
      ]
     },
     "metadata": {},
     "output_type": "display_data"
    }
   ],
   "source": [
    "# Train a RandomForest model.\n",
    "rf = RandomForestClassifier(labelCol=\"label\", featuresCol=\"features\", numTrees=10)\n",
    "\n",
    "# Chain indexers and forest in a Pipeline\n",
    "pipeline = Pipeline(stages=[rf])"
   ]
  },
  {
   "cell_type": "markdown",
   "metadata": {},
   "source": [
    "### Tune Model"
   ]
  },
  {
   "cell_type": "code",
   "execution_count": 202,
   "metadata": {},
   "outputs": [
    {
     "data": {
      "application/vnd.jupyter.widget-view+json": {
       "model_id": "d4e588e40dce46d9ae09f4740f4ecc4b",
       "version_major": 2,
       "version_minor": 0
      },
      "text/plain": [
       "VBox()"
      ]
     },
     "metadata": {},
     "output_type": "display_data"
    },
    {
     "data": {
      "application/vnd.jupyter.widget-view+json": {
       "model_id": "",
       "version_major": 2,
       "version_minor": 0
      },
      "text/plain": [
       "FloatProgress(value=0.0, bar_style='info', description='Progress:', layout=Layout(height='25px', width='50%'),…"
      ]
     },
     "metadata": {},
     "output_type": "display_data"
    }
   ],
   "source": [
    "#paramGrid = ParamGridBuilder() \\\n",
    "#    .addGrid(rf.numTrees,[4, 8, 12]) \\\n",
    "#    .addGrid(rf.maxDepth,[5, 10, 20, 30]) \\\n",
    "#    .addGrid(rf.maxBins,[100, 200]) \\\n",
    "#    .build()\n",
    "\n",
    "paramGrid = ParamGridBuilder() \\\n",
    "    .addGrid(rf.numTrees,[4]) \\\n",
    "    .addGrid(rf.maxDepth,[5]) \\\n",
    "    .addGrid(rf.maxBins,[100]) \\\n",
    "    .build()\n",
    "\n",
    "\n",
    "crossval = CrossValidator(estimator=pipeline,\n",
    "                          estimatorParamMaps=paramGrid,\n",
    "                          evaluator=MulticlassClassificationEvaluator(),\n",
    "                          numFolds=2)"
   ]
  },
  {
   "cell_type": "code",
   "execution_count": 203,
   "metadata": {},
   "outputs": [
    {
     "data": {
      "application/vnd.jupyter.widget-view+json": {
       "model_id": "025904e5f5474c5499041c0ac1f4d39d",
       "version_major": 2,
       "version_minor": 0
      },
      "text/plain": [
       "VBox()"
      ]
     },
     "metadata": {},
     "output_type": "display_data"
    },
    {
     "data": {
      "application/vnd.jupyter.widget-view+json": {
       "model_id": "",
       "version_major": 2,
       "version_minor": 0
      },
      "text/plain": [
       "FloatProgress(value=0.0, bar_style='info', description='Progress:', layout=Layout(height='25px', width='50%'),…"
      ]
     },
     "metadata": {},
     "output_type": "display_data"
    }
   ],
   "source": [
    "cvModel_q1 = crossval.fit(train)"
   ]
  },
  {
   "cell_type": "code",
   "execution_count": 204,
   "metadata": {},
   "outputs": [
    {
     "data": {
      "application/vnd.jupyter.widget-view+json": {
       "model_id": "b6af6754db9f4b5bb5146a897e33b0bf",
       "version_major": 2,
       "version_minor": 0
      },
      "text/plain": [
       "VBox()"
      ]
     },
     "metadata": {},
     "output_type": "display_data"
    },
    {
     "data": {
      "application/vnd.jupyter.widget-view+json": {
       "model_id": "",
       "version_major": 2,
       "version_minor": 0
      },
      "text/plain": [
       "FloatProgress(value=0.0, bar_style='info', description='Progress:', layout=Layout(height='25px', width='50%'),…"
      ]
     },
     "metadata": {},
     "output_type": "display_data"
    },
    {
     "name": "stdout",
     "output_type": "stream",
     "text": [
      "[0.7436830924686649]"
     ]
    }
   ],
   "source": [
    "cvModel_q1.avgMetrics"
   ]
  },
  {
   "cell_type": "code",
   "execution_count": 205,
   "metadata": {},
   "outputs": [
    {
     "data": {
      "application/vnd.jupyter.widget-view+json": {
       "model_id": "d457ae2de97f4c069c364e062f06634d",
       "version_major": 2,
       "version_minor": 0
      },
      "text/plain": [
       "VBox()"
      ]
     },
     "metadata": {},
     "output_type": "display_data"
    },
    {
     "data": {
      "application/vnd.jupyter.widget-view+json": {
       "model_id": "",
       "version_major": 2,
       "version_minor": 0
      },
      "text/plain": [
       "FloatProgress(value=0.0, bar_style='info', description='Progress:', layout=Layout(height='25px', width='50%'),…"
      ]
     },
     "metadata": {},
     "output_type": "display_data"
    }
   ],
   "source": [
    "results = cvModel_q1.transform(test)"
   ]
  },
  {
   "cell_type": "code",
   "execution_count": 206,
   "metadata": {},
   "outputs": [
    {
     "data": {
      "application/vnd.jupyter.widget-view+json": {
       "model_id": "bc6dfd8bb9ce4a25b262ee9cc84612f1",
       "version_major": 2,
       "version_minor": 0
      },
      "text/plain": [
       "VBox()"
      ]
     },
     "metadata": {},
     "output_type": "display_data"
    },
    {
     "data": {
      "application/vnd.jupyter.widget-view+json": {
       "model_id": "",
       "version_major": 2,
       "version_minor": 0
      },
      "text/plain": [
       "FloatProgress(value=0.0, bar_style='info', description='Progress:', layout=Layout(height='25px', width='50%'),…"
      ]
     },
     "metadata": {},
     "output_type": "display_data"
    },
    {
     "name": "stdout",
     "output_type": "stream",
     "text": [
      "+--------------------+-----+--------------------+--------------------+----------+\n",
      "|            features|label|       rawPrediction|         probability|prediction|\n",
      "+--------------------+-----+--------------------+--------------------+----------+\n",
      "|[1.09330881205373...|    0|[1.88679245283018...|[0.47169811320754...|       1.0|\n",
      "|[-0.9090432819323...|    1|           [1.0,3.0]|         [0.25,0.75]|       1.0|\n",
      "+--------------------+-----+--------------------+--------------------+----------+\n",
      "only showing top 2 rows"
     ]
    }
   ],
   "source": [
    "results.show(2)"
   ]
  },
  {
   "cell_type": "code",
   "execution_count": 207,
   "metadata": {},
   "outputs": [
    {
     "data": {
      "application/vnd.jupyter.widget-view+json": {
       "model_id": "70fa28719c734243be9bc5433a78e600",
       "version_major": 2,
       "version_minor": 0
      },
      "text/plain": [
       "VBox()"
      ]
     },
     "metadata": {},
     "output_type": "display_data"
    },
    {
     "data": {
      "application/vnd.jupyter.widget-view+json": {
       "model_id": "",
       "version_major": 2,
       "version_minor": 0
      },
      "text/plain": [
       "FloatProgress(value=0.0, bar_style='info', description='Progress:', layout=Layout(height='25px', width='50%'),…"
      ]
     },
     "metadata": {},
     "output_type": "display_data"
    },
    {
     "name": "stdout",
     "output_type": "stream",
     "text": [
      "The best performing params: \n",
      "numTrees: 4\n",
      "maxDepth: 5\n",
      "maxBins: 100."
     ]
    }
   ],
   "source": [
    "# Get best pipeline and params\n",
    "bestPipeline = cvModel_q1.bestModel\n",
    "bestRFModel = bestPipeline.stages[-1]\n",
    "\n",
    "maxBins_best = bestRFModel._java_obj.getMaxBins()\n",
    "maxDepth_best = bestRFModel._java_obj.getMaxDepth()\n",
    "numTrees_best = bestRFModel._java_obj.getNumTrees()\n",
    "\n",
    "print(\"The best performing params: \\n\" + \\\n",
    "     \"numTrees: \" + str(numTrees_best) + \"\\n\" + \\\n",
    "     \"maxDepth: \" + str(maxDepth_best) + \"\\n\" + \\\n",
    "     \"maxBins: \" + str(maxBins_best) + \".\"\n",
    ")"
   ]
  },
  {
   "cell_type": "markdown",
   "metadata": {},
   "source": [
    "### Compute Accuracy of Best Model"
   ]
  },
  {
   "cell_type": "markdown",
   "metadata": {},
   "source": [
    "#### Accuracy (all users)"
   ]
  },
  {
   "cell_type": "code",
   "execution_count": 208,
   "metadata": {},
   "outputs": [
    {
     "data": {
      "application/vnd.jupyter.widget-view+json": {
       "model_id": "482b0568a82a46b7908a848da47518b9",
       "version_major": 2,
       "version_minor": 0
      },
      "text/plain": [
       "VBox()"
      ]
     },
     "metadata": {},
     "output_type": "display_data"
    },
    {
     "data": {
      "application/vnd.jupyter.widget-view+json": {
       "model_id": "",
       "version_major": 2,
       "version_minor": 0
      },
      "text/plain": [
       "FloatProgress(value=0.0, bar_style='info', description='Progress:', layout=Layout(height='25px', width='50%'),…"
      ]
     },
     "metadata": {},
     "output_type": "display_data"
    },
    {
     "name": "stdout",
     "output_type": "stream",
     "text": [
      "The model has an overall accuracy of 69%."
     ]
    }
   ],
   "source": [
    "count_correct = results.filter(results.label == results.prediction).count()\n",
    "count_all = results.count()\n",
    "accuracy = count_correct/count_all * 100\n",
    "print(\"The model has an overall accuracy of \" + str(int(accuracy)) + \"%.\")"
   ]
  },
  {
   "cell_type": "markdown",
   "metadata": {},
   "source": [
    "#### Accuracy (churned users)"
   ]
  },
  {
   "cell_type": "code",
   "execution_count": 209,
   "metadata": {},
   "outputs": [
    {
     "data": {
      "application/vnd.jupyter.widget-view+json": {
       "model_id": "640fa5e95f26492287a4d8e4f15a0c43",
       "version_major": 2,
       "version_minor": 0
      },
      "text/plain": [
       "VBox()"
      ]
     },
     "metadata": {},
     "output_type": "display_data"
    },
    {
     "data": {
      "application/vnd.jupyter.widget-view+json": {
       "model_id": "",
       "version_major": 2,
       "version_minor": 0
      },
      "text/plain": [
       "FloatProgress(value=0.0, bar_style='info', description='Progress:', layout=Layout(height='25px', width='50%'),…"
      ]
     },
     "metadata": {},
     "output_type": "display_data"
    },
    {
     "name": "stdout",
     "output_type": "stream",
     "text": [
      "The model has an accuracy of 36% for predicting churn correctly."
     ]
    }
   ],
   "source": [
    "result_churners = results.filter(results.label == 1)\n",
    "count_correct = result_churners.filter(results.label == results.prediction).count()\n",
    "count_all = result_churners.count()\n",
    "accuracy = count_correct/count_all * 100\n",
    "print(\"The model has an accuracy of \" + str(int(accuracy)) + \"% for predicting churn correctly.\")"
   ]
  },
  {
   "cell_type": "markdown",
   "metadata": {},
   "source": [
    "## Model 2 - Logistic Regression"
   ]
  },
  {
   "cell_type": "markdown",
   "metadata": {},
   "source": [
    "### Build Pipeline"
   ]
  },
  {
   "cell_type": "code",
   "execution_count": 63,
   "metadata": {},
   "outputs": [
    {
     "data": {
      "application/vnd.jupyter.widget-view+json": {
       "model_id": "1bbb27333cd14baabf57bdb0586d21f7",
       "version_major": 2,
       "version_minor": 0
      },
      "text/plain": [
       "VBox()"
      ]
     },
     "metadata": {},
     "output_type": "display_data"
    },
    {
     "data": {
      "application/vnd.jupyter.widget-view+json": {
       "model_id": "",
       "version_major": 2,
       "version_minor": 0
      },
      "text/plain": [
       "FloatProgress(value=0.0, bar_style='info', description='Progress:', layout=Layout(height='25px', width='50%'),…"
      ]
     },
     "metadata": {},
     "output_type": "display_data"
    }
   ],
   "source": [
    "lr =  LogisticRegression(maxIter=10, regParam=0.0, elasticNetParam=0)\n",
    "pipeline = Pipeline(stages=[lr])"
   ]
  },
  {
   "cell_type": "markdown",
   "metadata": {},
   "source": [
    "### Tune Model"
   ]
  },
  {
   "cell_type": "code",
   "execution_count": 64,
   "metadata": {},
   "outputs": [
    {
     "data": {
      "application/vnd.jupyter.widget-view+json": {
       "model_id": "329ab91c642142eab5cce82d39eeefbb",
       "version_major": 2,
       "version_minor": 0
      },
      "text/plain": [
       "VBox()"
      ]
     },
     "metadata": {},
     "output_type": "display_data"
    },
    {
     "data": {
      "application/vnd.jupyter.widget-view+json": {
       "model_id": "",
       "version_major": 2,
       "version_minor": 0
      },
      "text/plain": [
       "FloatProgress(value=0.0, bar_style='info', description='Progress:', layout=Layout(height='25px', width='50%'),…"
      ]
     },
     "metadata": {},
     "output_type": "display_data"
    }
   ],
   "source": [
    "paramGrid = ParamGridBuilder() \\\n",
    "    .addGrid(lr.regParam,[0.0, 0.1]) \\\n",
    "    .addGrid(lr.maxIter,[10]) \\\n",
    "    .build()\n",
    "\n",
    "\n",
    "crossval = CrossValidator(estimator=pipeline,\n",
    "                          estimatorParamMaps=paramGrid,\n",
    "                          evaluator=MulticlassClassificationEvaluator(),\n",
    "                          numFolds=2)"
   ]
  },
  {
   "cell_type": "code",
   "execution_count": 65,
   "metadata": {},
   "outputs": [
    {
     "data": {
      "application/vnd.jupyter.widget-view+json": {
       "model_id": "c1625a7101d54c28978e3608d8d9ba9f",
       "version_major": 2,
       "version_minor": 0
      },
      "text/plain": [
       "VBox()"
      ]
     },
     "metadata": {},
     "output_type": "display_data"
    },
    {
     "data": {
      "application/vnd.jupyter.widget-view+json": {
       "model_id": "",
       "version_major": 2,
       "version_minor": 0
      },
      "text/plain": [
       "FloatProgress(value=0.0, bar_style='info', description='Progress:', layout=Layout(height='25px', width='50%'),…"
      ]
     },
     "metadata": {},
     "output_type": "display_data"
    },
    {
     "name": "stderr",
     "output_type": "stream",
     "text": [
      "name 'train' is not defined\n",
      "Traceback (most recent call last):\n",
      "NameError: name 'train' is not defined\n",
      "\n"
     ]
    }
   ],
   "source": [
    "cvModel_q2 = crossval.fit(train)"
   ]
  },
  {
   "cell_type": "code",
   "execution_count": 66,
   "metadata": {},
   "outputs": [
    {
     "data": {
      "application/vnd.jupyter.widget-view+json": {
       "model_id": "c5380ff14a5544f88fccc5f97f059092",
       "version_major": 2,
       "version_minor": 0
      },
      "text/plain": [
       "VBox()"
      ]
     },
     "metadata": {},
     "output_type": "display_data"
    },
    {
     "data": {
      "application/vnd.jupyter.widget-view+json": {
       "model_id": "",
       "version_major": 2,
       "version_minor": 0
      },
      "text/plain": [
       "FloatProgress(value=0.0, bar_style='info', description='Progress:', layout=Layout(height='25px', width='50%'),…"
      ]
     },
     "metadata": {},
     "output_type": "display_data"
    },
    {
     "name": "stderr",
     "output_type": "stream",
     "text": [
      "name 'cvModel_q2' is not defined\n",
      "Traceback (most recent call last):\n",
      "NameError: name 'cvModel_q2' is not defined\n",
      "\n"
     ]
    }
   ],
   "source": [
    "cvModel_q2.avgMetrics"
   ]
  },
  {
   "cell_type": "code",
   "execution_count": 67,
   "metadata": {},
   "outputs": [
    {
     "data": {
      "application/vnd.jupyter.widget-view+json": {
       "model_id": "6646da2e6fd44a00be4cad68253082ac",
       "version_major": 2,
       "version_minor": 0
      },
      "text/plain": [
       "VBox()"
      ]
     },
     "metadata": {},
     "output_type": "display_data"
    },
    {
     "data": {
      "application/vnd.jupyter.widget-view+json": {
       "model_id": "",
       "version_major": 2,
       "version_minor": 0
      },
      "text/plain": [
       "FloatProgress(value=0.0, bar_style='info', description='Progress:', layout=Layout(height='25px', width='50%'),…"
      ]
     },
     "metadata": {},
     "output_type": "display_data"
    },
    {
     "name": "stderr",
     "output_type": "stream",
     "text": [
      "name 'cvModel_q2' is not defined\n",
      "Traceback (most recent call last):\n",
      "NameError: name 'cvModel_q2' is not defined\n",
      "\n"
     ]
    }
   ],
   "source": [
    "results = cvModel_q2.transform(test)"
   ]
  },
  {
   "cell_type": "code",
   "execution_count": 68,
   "metadata": {},
   "outputs": [
    {
     "data": {
      "application/vnd.jupyter.widget-view+json": {
       "model_id": "0a7e5c0761ff4d98bc1dceb6beb33b7b",
       "version_major": 2,
       "version_minor": 0
      },
      "text/plain": [
       "VBox()"
      ]
     },
     "metadata": {},
     "output_type": "display_data"
    },
    {
     "data": {
      "application/vnd.jupyter.widget-view+json": {
       "model_id": "",
       "version_major": 2,
       "version_minor": 0
      },
      "text/plain": [
       "FloatProgress(value=0.0, bar_style='info', description='Progress:', layout=Layout(height='25px', width='50%'),…"
      ]
     },
     "metadata": {},
     "output_type": "display_data"
    },
    {
     "name": "stderr",
     "output_type": "stream",
     "text": [
      "name 'results' is not defined\n",
      "Traceback (most recent call last):\n",
      "NameError: name 'results' is not defined\n",
      "\n"
     ]
    }
   ],
   "source": [
    "results.show(2)"
   ]
  },
  {
   "cell_type": "code",
   "execution_count": 69,
   "metadata": {},
   "outputs": [
    {
     "data": {
      "application/vnd.jupyter.widget-view+json": {
       "model_id": "454d6b219a6742d4a938ec6cfa7986d2",
       "version_major": 2,
       "version_minor": 0
      },
      "text/plain": [
       "VBox()"
      ]
     },
     "metadata": {},
     "output_type": "display_data"
    },
    {
     "data": {
      "application/vnd.jupyter.widget-view+json": {
       "model_id": "",
       "version_major": 2,
       "version_minor": 0
      },
      "text/plain": [
       "FloatProgress(value=0.0, bar_style='info', description='Progress:', layout=Layout(height='25px', width='50%'),…"
      ]
     },
     "metadata": {},
     "output_type": "display_data"
    },
    {
     "name": "stderr",
     "output_type": "stream",
     "text": [
      "name 'cvModel_q2' is not defined\n",
      "Traceback (most recent call last):\n",
      "NameError: name 'cvModel_q2' is not defined\n",
      "\n"
     ]
    }
   ],
   "source": [
    "# Get best pipeline and params\n",
    "bestPipeline = cvModel_q2.bestModel\n",
    "bestLRModel = bestPipeline.stages[-1]\n",
    "\n",
    "regParam_best = bestLRModel._java_obj.getRegParam()\n",
    "maxIter_best = bestLRModel._java_obj.getMaxIter()\n",
    "\n",
    "print(\"The best performing params: \\n\" + \\\n",
    "     \"regParam: \" + str(regParam_best) + \"\\n\" + \\\n",
    "     \"maxIter: \" + str(maxIter_best)\n",
    ")"
   ]
  },
  {
   "cell_type": "markdown",
   "metadata": {},
   "source": [
    "### Compute Accuracy of Best Model"
   ]
  },
  {
   "cell_type": "markdown",
   "metadata": {},
   "source": [
    "#### Accuracy (all users)"
   ]
  },
  {
   "cell_type": "code",
   "execution_count": 70,
   "metadata": {},
   "outputs": [
    {
     "data": {
      "application/vnd.jupyter.widget-view+json": {
       "model_id": "5f4d3853f35f44cb8a1543b0cf5877f9",
       "version_major": 2,
       "version_minor": 0
      },
      "text/plain": [
       "VBox()"
      ]
     },
     "metadata": {},
     "output_type": "display_data"
    },
    {
     "data": {
      "application/vnd.jupyter.widget-view+json": {
       "model_id": "",
       "version_major": 2,
       "version_minor": 0
      },
      "text/plain": [
       "FloatProgress(value=0.0, bar_style='info', description='Progress:', layout=Layout(height='25px', width='50%'),…"
      ]
     },
     "metadata": {},
     "output_type": "display_data"
    },
    {
     "name": "stderr",
     "output_type": "stream",
     "text": [
      "name 'results' is not defined\n",
      "Traceback (most recent call last):\n",
      "NameError: name 'results' is not defined\n",
      "\n"
     ]
    }
   ],
   "source": [
    "count_correct = results.filter(results.label == results.prediction).count()\n",
    "count_all = results.count()\n",
    "accuracy = count_correct/count_all * 100\n",
    "print(\"The model has an overall accuracy of \" + str(int(accuracy)) + \"%.\")"
   ]
  },
  {
   "cell_type": "markdown",
   "metadata": {},
   "source": [
    "#### Accuracy (churned users)"
   ]
  },
  {
   "cell_type": "code",
   "execution_count": 71,
   "metadata": {},
   "outputs": [
    {
     "data": {
      "application/vnd.jupyter.widget-view+json": {
       "model_id": "814bd7a9bbe04696b8455fdcd4aea00a",
       "version_major": 2,
       "version_minor": 0
      },
      "text/plain": [
       "VBox()"
      ]
     },
     "metadata": {},
     "output_type": "display_data"
    },
    {
     "data": {
      "application/vnd.jupyter.widget-view+json": {
       "model_id": "",
       "version_major": 2,
       "version_minor": 0
      },
      "text/plain": [
       "FloatProgress(value=0.0, bar_style='info', description='Progress:', layout=Layout(height='25px', width='50%'),…"
      ]
     },
     "metadata": {},
     "output_type": "display_data"
    },
    {
     "name": "stderr",
     "output_type": "stream",
     "text": [
      "name 'results' is not defined\n",
      "Traceback (most recent call last):\n",
      "NameError: name 'results' is not defined\n",
      "\n"
     ]
    }
   ],
   "source": [
    "result_churners = results.filter(results.label == 1)\n",
    "count_correct = result_churners.filter(results.label == results.prediction).count()\n",
    "count_all = result_churners.count()\n",
    "accuracy = count_correct/count_all * 100\n",
    "print(\"The model has an accuracy of \" + str(int(accuracy)) + \"% for predicting churn correctly.\")"
   ]
  },
  {
   "cell_type": "markdown",
   "metadata": {},
   "source": [
    "# Final Steps\n",
    "Clean up your code, adding comments and renaming variables to make the code easier to read and maintain. Refer to the Spark Project Overview page and Data Scientist Capstone Project Rubric to make sure you are including all components of the capstone project and meet all expectations. Remember, this includes thorough documentation in a README file in a Github repository, as well as a web app or blog post."
   ]
  },
  {
   "cell_type": "code",
   "execution_count": null,
   "metadata": {},
   "outputs": [],
   "source": []
  },
  {
   "cell_type": "code",
   "execution_count": null,
   "metadata": {},
   "outputs": [],
   "source": []
  }
 ],
 "metadata": {
  "kernelspec": {
   "display_name": "PySpark",
   "language": "",
   "name": "pysparkkernel"
  },
  "language_info": {
   "codemirror_mode": {
    "name": "python",
    "version": 2
   },
   "mimetype": "text/x-python",
   "name": "pyspark",
   "pygments_lexer": "python2"
  }
 },
 "nbformat": 4,
 "nbformat_minor": 4
}
