{
 "cells": [
  {
   "cell_type": "markdown",
   "metadata": {},
   "source": [
    "# Sparkify Project\n",
    "\n",
    "In this project user churn rate is predicted for a music streaming software called Sparkify.\n",
    "\n",
    "### Notebook Content\n",
    "**1. Get started**\n",
    "- Import packages\n",
    "- Build spark session\n",
    "\n",
    "**2. Extract data**\n",
    "- Extract data from local .json or a s3 storage\n",
    "\n",
    "**3. Clean data**\n",
    "- Drop null values\n",
    "- Add column indicating churn (label)\n",
    "- Aggregate data on user level\n",
    "- Ensure numeric value\n",
    "\n",
    "**4. Exploratory Data Analysis**\n",
    "- Show aggregates of each column\n",
    "\n",
    "**5. Feature Engineering**\n",
    "- One Hot Encoding for categorical features\n",
    "- Assembling feature vector\n",
    "\n",
    "**6. Modeling**\n",
    "- Build pipeline (random forest + logistic regression)\n",
    "- Find best model with grid search\n",
    "- Evaluate accuracy and F2"
   ]
  },
  {
   "cell_type": "markdown",
   "metadata": {},
   "source": [
    "## 1. Get Started\n",
    "Import required packages for [pyspark sql](https://spark.apache.org/docs/2.2.0/api/python/pyspark.sql.html) and [mlib](https://spark.apache.org/docs/2.2.0/api/python/pyspark.ml.html)."
   ]
  },
  {
   "cell_type": "code",
   "execution_count": 303,
   "metadata": {},
   "outputs": [],
   "source": [
    "# SQL\n",
    "from pyspark.sql import SparkSession\n",
    "from pyspark.sql.functions import udf, from_unixtime, trunc, isnan, when, count, col, lit\n",
    "from pyspark.sql.types import IntegerType\n",
    "from pyspark.sql.functions import to_timestamp\n",
    "from pyspark.sql.functions import col\n",
    "from pyspark.sql import functions as f\n",
    "from pyspark.sql import types as t\n",
    "\n",
    "# MLib\n",
    "from pyspark.ml import Pipeline\n",
    "from pyspark.ml.classification import LogisticRegression, RandomForestClassifier\n",
    "from pyspark.ml.evaluation import MulticlassClassificationEvaluator\n",
    "from pyspark.ml.feature import CountVectorizer, IDF, Normalizer, PCA, RegexTokenizer, StandardScaler, StopWordsRemover, StringIndexer, VectorAssembler, OneHotEncoder\n",
    "from pyspark.ml.regression import LinearRegression\n",
    "from pyspark.ml.tuning import CrossValidator, ParamGridBuilder\n",
    "from pyspark.ml.feature import RegexTokenizer, VectorAssembler, Normalizer, StandardScaler\n",
    "\n",
    "from pyspark.mllib.evaluation import MulticlassMetrics"
   ]
  },
  {
   "cell_type": "code",
   "execution_count": 304,
   "metadata": {},
   "outputs": [],
   "source": [
    "spark = SparkSession \\\n",
    "    .builder \\\n",
    "    .appName(\"Sparkify\") \\\n",
    "    .getOrCreate()\n",
    "\n",
    "sparkContext = spark.sparkContext"
   ]
  },
  {
   "cell_type": "markdown",
   "metadata": {},
   "source": [
    "## 2. Extract Data\n",
    "Extract data from a local file or access Amazon S3."
   ]
  },
  {
   "cell_type": "code",
   "execution_count": 305,
   "metadata": {},
   "outputs": [
    {
     "data": {
      "text/plain": [
       "[Row(artist='Martha Tilston', auth='Logged In', firstName='Colin', gender='M', itemInSession=50, lastName='Freeman', length=277.89016, level='paid', location='Bakersfield, CA', method='PUT', page='NextSong', registration=1538173362000, sessionId=29, song='Rockpools', status=200, ts=1538352117000, userAgent='Mozilla/5.0 (Windows NT 6.1; WOW64; rv:31.0) Gecko/20100101 Firefox/31.0', userId='30'),\n",
       " Row(artist='Five Iron Frenzy', auth='Logged In', firstName='Micah', gender='M', itemInSession=79, lastName='Long', length=236.09424, level='free', location='Boston-Cambridge-Newton, MA-NH', method='PUT', page='NextSong', registration=1538331630000, sessionId=8, song='Canada', status=200, ts=1538352180000, userAgent='\"Mozilla/5.0 (Windows NT 6.1; WOW64) AppleWebKit/537.36 (KHTML, like Gecko) Chrome/37.0.2062.103 Safari/537.36\"', userId='9')]"
      ]
     },
     "execution_count": 305,
     "metadata": {},
     "output_type": "execute_result"
    }
   ],
   "source": [
    "# For running on a EC2 cluster \n",
    "event_data_s3n_small = \"s3n://udacity-dsnd/sparkify/mini_sparkify_event_data.json\"\n",
    "event_data_s3n_full = \"s3n://udacity-dsnd/sparkify/sparkify_event_data.json\"\n",
    "\n",
    "# For local use\n",
    "event_data_local = \"data/mini_sparkify_event_data.json\"\n",
    "\n",
    "df = spark.read.json(event_data_local)\n",
    "df.head(2)\n",
    "\n",
    "# User very small subset of data for trying out functions\n",
    "#df = df.limit(1000)"
   ]
  },
  {
   "cell_type": "code",
   "execution_count": 306,
   "metadata": {
    "scrolled": true
   },
   "outputs": [
    {
     "data": {
      "text/plain": [
       "['artist',\n",
       " 'auth',\n",
       " 'firstName',\n",
       " 'gender',\n",
       " 'itemInSession',\n",
       " 'lastName',\n",
       " 'length',\n",
       " 'level',\n",
       " 'location',\n",
       " 'method',\n",
       " 'page',\n",
       " 'registration',\n",
       " 'sessionId',\n",
       " 'song',\n",
       " 'status',\n",
       " 'ts',\n",
       " 'userAgent',\n",
       " 'userId']"
      ]
     },
     "execution_count": 306,
     "metadata": {},
     "output_type": "execute_result"
    }
   ],
   "source": [
    "# Show columns\n",
    "df.columns"
   ]
  },
  {
   "cell_type": "markdown",
   "metadata": {},
   "source": [
    "## 2. Clean Data\n",
    "Check for empty values and null values. \n",
    "Create dataframe that aggregates data on a user level."
   ]
  },
  {
   "cell_type": "code",
   "execution_count": 307,
   "metadata": {},
   "outputs": [
    {
     "name": "stdout",
     "output_type": "stream",
     "text": [
      "Column artist has 0 empty values.\n",
      "Column auth has 0 empty values.\n",
      "Column firstName has 0 empty values.\n",
      "Column gender has 0 empty values.\n",
      "Column itemInSession has 0 empty values.\n",
      "Column lastName has 0 empty values.\n",
      "Column length has 0 empty values.\n",
      "Column level has 0 empty values.\n",
      "Column location has 0 empty values.\n",
      "Column method has 0 empty values.\n",
      "Column page has 0 empty values.\n",
      "Column registration has 0 empty values.\n",
      "Column sessionId has 0 empty values.\n",
      "Column song has 0 empty values.\n",
      "Column status has 0 empty values.\n",
      "Column ts has 0 empty values.\n",
      "Column userAgent has 0 empty values.\n",
      "Column userId has 8346 empty values.\n"
     ]
    }
   ],
   "source": [
    "# Show how many null values each column has\n",
    "for column in df.columns:\n",
    "    print(\"Column \" + column + \" has \" + str(len(df.where(df[column] == \"\").collect())) + \" empty values.\")"
   ]
  },
  {
   "cell_type": "code",
   "execution_count": 308,
   "metadata": {},
   "outputs": [
    {
     "name": "stdout",
     "output_type": "stream",
     "text": [
      "Remove rows with empty userIds.\n",
      "Check how many empty userIds are left: 0\n"
     ]
    }
   ],
   "source": [
    "print(\"Remove rows with empty userIds.\")\n",
    "df = df.where(df.userId != \"\")\n",
    "print(\"Check how many empty userIds are left: \" + \\\n",
    "      str(len(df.where(df.userId == \"\").collect())))"
   ]
  },
  {
   "cell_type": "code",
   "execution_count": 309,
   "metadata": {},
   "outputs": [
    {
     "name": "stdout",
     "output_type": "stream",
     "text": [
      "Null values per column:\n",
      "-RECORD 0------------\n",
      " artist        | 0   \n",
      " auth          | 0   \n",
      " firstName     | 0   \n",
      " gender        | 0   \n",
      " itemInSession | 0   \n",
      " lastName      | 0   \n",
      " length        | 0   \n",
      " level         | 0   \n",
      " location      | 0   \n",
      " method        | 0   \n",
      " page          | 0   \n",
      " registration  | 0   \n",
      " sessionId     | 0   \n",
      " song          | 0   \n",
      " status        | 0   \n",
      " ts            | 0   \n",
      " userAgent     | 0   \n",
      " userId        | 0   \n",
      "\n"
     ]
    }
   ],
   "source": [
    "print(\"Null values per column:\")\n",
    "df.select([count(when(isnan(c), c)).alias(c) for c in df.columns]).show(vertical=True)"
   ]
  },
  {
   "cell_type": "code",
   "execution_count": 310,
   "metadata": {},
   "outputs": [
    {
     "name": "stdout",
     "output_type": "stream",
     "text": [
      "+--------------------+\n",
      "|                page|\n",
      "+--------------------+\n",
      "|               About|\n",
      "|          Add Friend|\n",
      "|     Add to Playlist|\n",
      "|              Cancel|\n",
      "|Cancellation Conf...|\n",
      "|           Downgrade|\n",
      "|               Error|\n",
      "|                Help|\n",
      "|                Home|\n",
      "|              Logout|\n",
      "|            NextSong|\n",
      "|         Roll Advert|\n",
      "|       Save Settings|\n",
      "|            Settings|\n",
      "|    Submit Downgrade|\n",
      "|      Submit Upgrade|\n",
      "|         Thumbs Down|\n",
      "|           Thumbs Up|\n",
      "|             Upgrade|\n",
      "+--------------------+\n",
      "\n"
     ]
    }
   ],
   "source": [
    "df.select(\"page\").dropDuplicates().orderBy(df.page.asc()).show()"
   ]
  },
  {
   "cell_type": "code",
   "execution_count": 311,
   "metadata": {},
   "outputs": [
    {
     "name": "stdout",
     "output_type": "stream",
     "text": [
      "Example event flow for one particular user:\n",
      "+--------------------+-------------+\n",
      "|                page|           ts|\n",
      "+--------------------+-------------+\n",
      "|                Home|1538376504000|\n",
      "|            NextSong|1538376509000|\n",
      "|         Roll Advert|1538376542000|\n",
      "|            NextSong|1538376747000|\n",
      "|         Roll Advert|1538376783000|\n",
      "|            NextSong|1538377349000|\n",
      "|            NextSong|1538377748000|\n",
      "|            NextSong|1538377932000|\n",
      "|            NextSong|1538378245000|\n",
      "|            NextSong|1538378483000|\n",
      "|            NextSong|1538378687000|\n",
      "|            NextSong|1538378877000|\n",
      "|            NextSong|1538379041000|\n",
      "|            NextSong|1538379207000|\n",
      "|         Roll Advert|1538379230000|\n",
      "|            NextSong|1538379420000|\n",
      "|            NextSong|1538379668000|\n",
      "|            NextSong|1538380000000|\n",
      "|            NextSong|1538380179000|\n",
      "|              Logout|1538380180000|\n",
      "|                Home|1538380429000|\n",
      "|            NextSong|1538380481000|\n",
      "|            NextSong|1538380829000|\n",
      "|            NextSong|1538381273000|\n",
      "|         Thumbs Down|1538381274000|\n",
      "|            NextSong|1538381449000|\n",
      "|            NextSong|1538381708000|\n",
      "|            NextSong|1538381978000|\n",
      "|            NextSong|1538382217000|\n",
      "|            NextSong|1538382476000|\n",
      "|         Roll Advert|1538382550000|\n",
      "|            NextSong|1538382674000|\n",
      "|         Roll Advert|1538382775000|\n",
      "|            NextSong|1538382964000|\n",
      "|            NextSong|1538383234000|\n",
      "|            NextSong|1538383532000|\n",
      "|            NextSong|1538383757000|\n",
      "|              Logout|1538383758000|\n",
      "|                Home|1538383846000|\n",
      "|            NextSong|1538384003000|\n",
      "|          Add Friend|1538384004000|\n",
      "|            NextSong|1538384240000|\n",
      "|            NextSong|1538384895000|\n",
      "|            NextSong|1538385105000|\n",
      "|            NextSong|1538385353000|\n",
      "|           Thumbs Up|1538385354000|\n",
      "|            NextSong|1538385682000|\n",
      "|            NextSong|1538385917000|\n",
      "|     Add to Playlist|1538386066000|\n",
      "|            NextSong|1538386082000|\n",
      "|              Logout|1538386083000|\n",
      "|                Home|1538451696000|\n",
      "|            NextSong|1538451700000|\n",
      "|            NextSong|1538452219000|\n",
      "|           Thumbs Up|1538452220000|\n",
      "|            NextSong|1538452394000|\n",
      "|            NextSong|1538452617000|\n",
      "|            NextSong|1538452881000|\n",
      "|            NextSong|1538453120000|\n",
      "|            NextSong|1538453404000|\n",
      "|         Roll Advert|1538453436000|\n",
      "|            NextSong|1538453655000|\n",
      "|            NextSong|1538453950000|\n",
      "|            NextSong|1538454144000|\n",
      "|            NextSong|1538454463000|\n",
      "|            NextSong|1538454682000|\n",
      "|            NextSong|1538455031000|\n",
      "|            NextSong|1538455387000|\n",
      "|            NextSong|1538455735000|\n",
      "|            Settings|1538455871000|\n",
      "|            NextSong|1538455885000|\n",
      "|            NextSong|1538456099000|\n",
      "|            NextSong|1538456361000|\n",
      "|            NextSong|1538456593000|\n",
      "|                Home|1538456624000|\n",
      "|            NextSong|1538456826000|\n",
      "|            NextSong|1538456957000|\n",
      "|         Roll Advert|1538457061000|\n",
      "|            NextSong|1538457191000|\n",
      "|            NextSong|1538457526000|\n",
      "|            NextSong|1538457701000|\n",
      "|            NextSong|1538458075000|\n",
      "|            NextSong|1538458310000|\n",
      "|                Home|1538458321000|\n",
      "|            NextSong|1538458851000|\n",
      "|         Thumbs Down|1538458852000|\n",
      "|            NextSong|1538459123000|\n",
      "|            NextSong|1538459171000|\n",
      "|            NextSong|1538459282000|\n",
      "|            NextSong|1538459508000|\n",
      "|             Upgrade|1538459613000|\n",
      "|            NextSong|1538459639000|\n",
      "|            NextSong|1538459825000|\n",
      "|            NextSong|1538460138000|\n",
      "|         Roll Advert|1538460173000|\n",
      "|            NextSong|1538460405000|\n",
      "|            NextSong|1538460683000|\n",
      "|            NextSong|1538460857000|\n",
      "|            NextSong|1538461017000|\n",
      "|           Thumbs Up|1538461018000|\n",
      "|            NextSong|1538461256000|\n",
      "|            NextSong|1538461451000|\n",
      "|            NextSong|1538461759000|\n",
      "|            NextSong|1538461992000|\n",
      "|            NextSong|1538462330000|\n",
      "|           Thumbs Up|1538462331000|\n",
      "|            NextSong|1538462591000|\n",
      "|            NextSong|1538462786000|\n",
      "|            NextSong|1538463081000|\n",
      "|             Upgrade|1538463098000|\n",
      "|            NextSong|1538463447000|\n",
      "|         Roll Advert|1538463489000|\n",
      "|         Roll Advert|1538463534000|\n",
      "|            NextSong|1538463606000|\n",
      "|            NextSong|1538463835000|\n",
      "|            NextSong|1538464098000|\n",
      "|            NextSong|1538464235000|\n",
      "|            NextSong|1538464342000|\n",
      "|            NextSong|1538464495000|\n",
      "|     Add to Playlist|1538464613000|\n",
      "|            NextSong|1538482755000|\n",
      "|              Logout|1538482756000|\n",
      "|                Home|1538483069000|\n",
      "|            NextSong|1538483141000|\n",
      "|         Roll Advert|1538483164000|\n",
      "|            NextSong|1538483424000|\n",
      "|         Roll Advert|1538483727000|\n",
      "|            NextSong|1538483738000|\n",
      "|            NextSong|1538483941000|\n",
      "|              Logout|1538483942000|\n",
      "|                Home|1538484662000|\n",
      "|            NextSong|1538484997000|\n",
      "|            NextSong|1538485105000|\n",
      "|           Thumbs Up|1538485106000|\n",
      "|            NextSong|1538485340000|\n",
      "|            NextSong|1538485623000|\n",
      "|          Add Friend|1538485624000|\n",
      "|            NextSong|1538485920000|\n",
      "|                Home|1538486429000|\n",
      "|            NextSong|1538486486000|\n",
      "|            NextSong|1538486692000|\n",
      "|           Thumbs Up|1538486693000|\n",
      "|            NextSong|1538486935000|\n",
      "|           Thumbs Up|1538486936000|\n",
      "|            NextSong|1538487296000|\n",
      "|            NextSong|1538487551000|\n",
      "|            NextSong|1538487846000|\n",
      "|     Add to Playlist|1538487847000|\n",
      "|           Thumbs Up|1538487848000|\n",
      "|            NextSong|1538488106000|\n",
      "|            NextSong|1538488358000|\n",
      "|            NextSong|1538488580000|\n",
      "|            NextSong|1538488860000|\n",
      "|            NextSong|1538488996000|\n",
      "|            NextSong|1538489401000|\n",
      "|            NextSong|1538489681000|\n",
      "|            NextSong|1538489881000|\n",
      "|               Error|1538489901000|\n",
      "|            NextSong|1538490278000|\n",
      "|            NextSong|1538490541000|\n",
      "|            NextSong|1538490859000|\n",
      "|            NextSong|1538491037000|\n",
      "|            NextSong|1538491293000|\n",
      "|            NextSong|1538491561000|\n",
      "|            NextSong|1538491800000|\n",
      "|            NextSong|1538492036000|\n",
      "|              Logout|1538492037000|\n",
      "|                Home|1538494425000|\n",
      "|            NextSong|1538494783000|\n",
      "|            NextSong|1538494956000|\n",
      "|            NextSong|1538495427000|\n",
      "|            NextSong|1538496021000|\n",
      "|            NextSong|1538496198000|\n",
      "|            NextSong|1538496420000|\n",
      "|            NextSong|1538496753000|\n",
      "|         Roll Advert|1538496839000|\n",
      "|            NextSong|1538496984000|\n",
      "|                Help|1538497010000|\n",
      "|            NextSong|1538497194000|\n",
      "|            NextSong|1538497474000|\n",
      "|            NextSong|1538497758000|\n",
      "|              Logout|1538497759000|\n",
      "|                Home|1538497786000|\n",
      "|            NextSong|1538498032000|\n",
      "|         Roll Advert|1538498073000|\n",
      "|              Cancel|1538498074000|\n",
      "|Cancellation Conf...|1538498205000|\n",
      "+--------------------+-------------+\n",
      "\n"
     ]
    }
   ],
   "source": [
    "print(\"Example event flow for one particular user:\")\n",
    "df.where(df.userId == 100001).select(\"page\", \"ts\").orderBy(\"ts\").show(1000)"
   ]
  },
  {
   "cell_type": "markdown",
   "metadata": {},
   "source": [
    "#### Get users that churned\n",
    "Creating a column `Churn` to use as the label for your model. I am using the `Cancellation Confirmation` events to define churn, which happen for both paid and free users."
   ]
  },
  {
   "cell_type": "code",
   "execution_count": 312,
   "metadata": {},
   "outputs": [],
   "source": [
    "# Get users that churned\n",
    "churned_users = df.where(df.page == \"Cancellation Confirmation\").select(\"userId\").dropDuplicates()"
   ]
  },
  {
   "cell_type": "markdown",
   "metadata": {},
   "source": [
    "#### Add a boolean column to df indicating user churn"
   ]
  },
  {
   "cell_type": "code",
   "execution_count": 313,
   "metadata": {},
   "outputs": [
    {
     "name": "stdout",
     "output_type": "stream",
     "text": [
      "+------+-------+\n",
      "|userId|churned|\n",
      "+------+-------+\n",
      "|   125|      1|\n",
      "|    51|      1|\n",
      "|    54|      1|\n",
      "|100014|      1|\n",
      "|   101|      1|\n",
      "+------+-------+\n",
      "only showing top 5 rows\n",
      "\n"
     ]
    }
   ],
   "source": [
    "churn = udf(lambda x: 1, IntegerType())\n",
    "churned_users = churned_users.withColumn(\"churned\", lit(1))\n",
    "churned_users.show(5)\n",
    "\n",
    "# Join new column to df\n",
    "df = df.join(churned_users, on=['userId'], how='left')"
   ]
  },
  {
   "cell_type": "markdown",
   "metadata": {},
   "source": [
    "#### Aggregate on user level"
   ]
  },
  {
   "cell_type": "code",
   "execution_count": 314,
   "metadata": {},
   "outputs": [
    {
     "data": {
      "text/plain": [
       "['userId',\n",
       " 'artist',\n",
       " 'auth',\n",
       " 'firstName',\n",
       " 'gender',\n",
       " 'itemInSession',\n",
       " 'lastName',\n",
       " 'length',\n",
       " 'level',\n",
       " 'location',\n",
       " 'method',\n",
       " 'page',\n",
       " 'registration',\n",
       " 'sessionId',\n",
       " 'song',\n",
       " 'status',\n",
       " 'ts',\n",
       " 'userAgent',\n",
       " 'churned']"
      ]
     },
     "execution_count": 314,
     "metadata": {},
     "output_type": "execute_result"
    }
   ],
   "source": [
    "df.columns"
   ]
  },
  {
   "cell_type": "code",
   "execution_count": 315,
   "metadata": {},
   "outputs": [],
   "source": [
    "# Create user aggregation and add churn information\n",
    "df_user_agg = df.select([\"userId\", \"gender\", \"churned\"]).groupBy([\"userId\", \"gender\"]).max()\n",
    "df_user_agg = df_user_agg.na.fill(0)\n",
    "df_user_agg = df_user_agg.withColumnRenamed(\"max(churned)\", \"churned\")"
   ]
  },
  {
   "cell_type": "code",
   "execution_count": 316,
   "metadata": {
    "scrolled": true
   },
   "outputs": [
    {
     "name": "stdout",
     "output_type": "stream",
     "text": [
      "+------+------+-------+\n",
      "|userId|gender|churned|\n",
      "+------+------+-------+\n",
      "|100010|     F|      0|\n",
      "|200002|     M|      0|\n",
      "|   125|     M|      1|\n",
      "|   124|     F|      0|\n",
      "|    51|     M|      1|\n",
      "+------+------+-------+\n",
      "only showing top 5 rows\n",
      "\n"
     ]
    }
   ],
   "source": [
    "df_user_agg.show(5)"
   ]
  },
  {
   "cell_type": "code",
   "execution_count": 317,
   "metadata": {
    "scrolled": true
   },
   "outputs": [],
   "source": [
    "# Calculate songs per user\n",
    "df_songs_per_user = df.where(df.page == \"NextSong\").select([\"userId\", \"page\"]).groupBy([\"userId\"]).count()\n",
    "df_songs_per_user = df_songs_per_user.withColumnRenamed(\"count\", \"songs_listened\")"
   ]
  },
  {
   "cell_type": "code",
   "execution_count": 318,
   "metadata": {},
   "outputs": [],
   "source": [
    "# Calculate ads per user\n",
    "df_ads_per_user = df.where(df.page == \"Roll Advert\").select([\"userId\", \"page\"]).groupBy([\"userId\"]).count()\n",
    "df_ads_per_user = df_ads_per_user.withColumnRenamed(\"count\", \"adverts_rolled\")"
   ]
  },
  {
   "cell_type": "code",
   "execution_count": 319,
   "metadata": {},
   "outputs": [],
   "source": [
    "# Calculate friends added per user\n",
    "df_friends_added_per_user = df.where(df.page == \"Add Friend\").select([\"userId\", \"page\"]).groupBy([\"userId\"]).count()\n",
    "df_friends_added_per_user = df_friends_added_per_user.withColumnRenamed(\"count\", \"friends_added\")"
   ]
  },
  {
   "cell_type": "code",
   "execution_count": 320,
   "metadata": {},
   "outputs": [],
   "source": [
    "# Calculate upgrades to premium per user\n",
    "df_upgrades_per_user = df.where(df.page == \"Submit Upgrade\").select([\"userId\", \"page\"]).groupBy([\"userId\"]).count()\n",
    "df_upgrades_per_user = df_upgrades_per_user.withColumnRenamed(\"count\", \"times_upgraded\")"
   ]
  },
  {
   "cell_type": "code",
   "execution_count": 321,
   "metadata": {},
   "outputs": [],
   "source": [
    "# Calculate downgrades for free per user\n",
    "df_downgrades_per_user = df.where(df.page == \"Submit Downgrade\").select([\"userId\", \"page\"]).groupBy([\"userId\"]).count()\n",
    "df_downgrades_per_user = df_downgrades_per_user.withColumnRenamed(\"count\", \"times_downgraded\")"
   ]
  },
  {
   "cell_type": "code",
   "execution_count": 322,
   "metadata": {},
   "outputs": [],
   "source": [
    "# Calculate playlist additions per user\n",
    "df_playlist_adds_per_user = df.where(df.page == \"Add to Playlist\").select([\"userId\", \"page\"]).groupBy([\"userId\"]).count()\n",
    "df_playlist_adds_per_user = df_playlist_adds_per_user.withColumnRenamed(\"count\", \"playlist_additions\")"
   ]
  },
  {
   "cell_type": "code",
   "execution_count": 323,
   "metadata": {},
   "outputs": [],
   "source": [
    "# Calculate errors per user\n",
    "df_errors_per_user = df.where(df.page == \"Error\").select([\"userId\", \"page\"]).groupBy([\"userId\"]).count()\n",
    "df_errors_per_user = df_errors_per_user.withColumnRenamed(\"count\", \"errors\")"
   ]
  },
  {
   "cell_type": "code",
   "execution_count": 324,
   "metadata": {},
   "outputs": [],
   "source": [
    "# Calculate help access per user\n",
    "df_help_per_user = df.where(df.page == \"Help\").select([\"userId\", \"page\"]).groupBy([\"userId\"]).count()\n",
    "df_help_per_user = df_help_per_user.withColumnRenamed(\"count\", \"help_access_count\")"
   ]
  },
  {
   "cell_type": "code",
   "execution_count": 325,
   "metadata": {},
   "outputs": [],
   "source": [
    "# Calculate logouts per user\n",
    "df_logouts_per_user = df.where(df.page == \"Logout\").select([\"userId\", \"page\"]).groupBy([\"userId\"]).count()\n",
    "df_logouts_per_user = df_logouts_per_user.withColumnRenamed(\"count\", \"logouts\")"
   ]
  },
  {
   "cell_type": "code",
   "execution_count": 326,
   "metadata": {},
   "outputs": [],
   "source": [
    "# Calculate thumbs up per user\n",
    "df_thumbs_up_per_user = df.where(df.page == \"Thumbs Up\").select([\"userId\", \"page\"]).groupBy([\"userId\"]).count()\n",
    "df_thumbs_up_per_user = df_thumbs_up_per_user.withColumnRenamed(\"count\", \"thumbs_up_given\")"
   ]
  },
  {
   "cell_type": "code",
   "execution_count": 327,
   "metadata": {},
   "outputs": [],
   "source": [
    "# Calculate thumbs down per user\n",
    "df_thumbs_down_per_user = df.where(df.page == \"Thumbs Down\").select([\"userId\", \"page\"]).groupBy([\"userId\"]).count()\n",
    "df_thumbs_down_per_user = df_thumbs_down_per_user.withColumnRenamed(\"count\", \"thumbs_down_given\")"
   ]
  },
  {
   "cell_type": "code",
   "execution_count": 328,
   "metadata": {},
   "outputs": [
    {
     "name": "stdout",
     "output_type": "stream",
     "text": [
      "+------+-------------+-------------+----------+\n",
      "|userId|   last_login| registration|  user_age|\n",
      "+------+-------------+-------------+----------+\n",
      "|100010|1542823952000|1538016340000|4807612000|\n",
      "+------+-------------+-------------+----------+\n",
      "only showing top 1 row\n",
      "\n"
     ]
    }
   ],
   "source": [
    "# Calculate time registered (\"user age\")\n",
    "df_age_per_user = df.groupBy(\"userId\").agg(f.max('ts').alias(\"last_login\"), \\\n",
    "    f.min('registration').alias(\"registration\"))\n",
    "\n",
    "df_age_per_user = df_age_per_user.withColumn(\"user_age\", df_age_per_user.last_login - df_age_per_user.registration)\n",
    "\n",
    "df_age_per_user.show(1)"
   ]
  },
  {
   "cell_type": "code",
   "execution_count": 329,
   "metadata": {},
   "outputs": [],
   "source": [
    "# Join aggregates together to one table\n",
    "df_user_agg = df_user_agg.join(df_songs_per_user, on=['userId'], how='left')\n",
    "df_user_agg = df_user_agg.join(df_ads_per_user, on=['userId'], how='left')\n",
    "df_user_agg = df_user_agg.join(df_friends_added_per_user, on=['userId'], how='left')\n",
    "df_user_agg = df_user_agg.join(df_playlist_adds_per_user, on=['userId'], how='left')\n",
    "df_user_agg = df_user_agg.join(df_errors_per_user, on=['userId'], how='left')\n",
    "df_user_agg = df_user_agg.join(df_help_per_user, on=['userId'], how='left')\n",
    "df_user_agg = df_user_agg.join(df_logouts_per_user, on=['userId'], how='left')\n",
    "df_user_agg = df_user_agg.join(df_thumbs_up_per_user, on=['userId'], how='left')\n",
    "df_user_agg = df_user_agg.join(df_thumbs_down_per_user, on=['userId'], how='left')\n",
    "df_user_agg = df_user_agg.join(df_upgrades_per_user, on=['userId'], how='left')\n",
    "df_user_agg = df_user_agg.join(df_downgrades_per_user, on=['userId'], how='left')\n",
    "df_user_agg = df_user_agg.join(df_age_per_user, on=['userId'], how='left')\n",
    "\n",
    "# Fill null values created after join with 0, as they represent missing counts\n",
    "df_user_agg = df_user_agg.na.fill(0)"
   ]
  },
  {
   "cell_type": "code",
   "execution_count": 330,
   "metadata": {
    "scrolled": true
   },
   "outputs": [
    {
     "name": "stdout",
     "output_type": "stream",
     "text": [
      "-RECORD 0---------------------------\n",
      " userId             | 125           \n",
      " gender             | M             \n",
      " churned            | 1             \n",
      " songs_listened     | 8             \n",
      " adverts_rolled     | 1             \n",
      " friends_added      | 0             \n",
      " playlist_additions | 0             \n",
      " errors             | 0             \n",
      " help_access_count  | 0             \n",
      " logouts            | 0             \n",
      " thumbs_up_given    | 0             \n",
      " thumbs_down_given  | 0             \n",
      " times_upgraded     | 0             \n",
      " times_downgraded   | 0             \n",
      " last_login         | 1539318918000 \n",
      " registration       | 1533157139000 \n",
      " user_age           | 6161779000    \n",
      "\n"
     ]
    }
   ],
   "source": [
    "df_user_agg.where(df_user_agg.userId == 125).show(1, vertical=True)"
   ]
  },
  {
   "cell_type": "markdown",
   "metadata": {},
   "source": [
    "## 3. Explore Data\n"
   ]
  },
  {
   "cell_type": "code",
   "execution_count": 331,
   "metadata": {},
   "outputs": [
    {
     "name": "stdout",
     "output_type": "stream",
     "text": [
      "Number of distinct users:\n",
      "225\n",
      "\n",
      "Number of churned users:\n",
      "52\n"
     ]
    }
   ],
   "source": [
    "print('Number of distinct users:')\n",
    "print(len(df.dropDuplicates(['userId']).collect()))\n",
    "print(\"\\nNumber of churned users:\")\n",
    "print(len(churned_users.collect()))"
   ]
  },
  {
   "cell_type": "markdown",
   "metadata": {},
   "source": [
    "#### Observe different aggregates"
   ]
  },
  {
   "cell_type": "code",
   "execution_count": 332,
   "metadata": {},
   "outputs": [
    {
     "name": "stdout",
     "output_type": "stream",
     "text": [
      "+-------+-------------------+-------------------+------------------+-----------------------+------------------+\n",
      "|churned|avg(songs_listened)|avg(adverts_rolled)|avg(friends_added)|avg(playlist_additions)|       avg(errors)|\n",
      "+-------+-------------------+-------------------+------------------+-----------------------+------------------+\n",
      "|      1|  699.8846153846154| 18.596153846153847| 12.23076923076923|      19.96153846153846|0.6153846153846154|\n",
      "|      0| 1108.1734104046243|  17.14450867052023|21.046242774566473|     31.722543352601157|1.2716763005780347|\n",
      "+-------+-------------------+-------------------+------------------+-----------------------+------------------+\n",
      "\n"
     ]
    }
   ],
   "source": [
    "df_user_agg.groupBy(\"churned\").agg(f.mean('songs_listened'), \\\n",
    "    f.mean('adverts_rolled'), \\\n",
    "    f.mean('friends_added'), \\\n",
    "    f.mean('playlist_additions'), \\\n",
    "    f.mean('errors')).show()"
   ]
  },
  {
   "cell_type": "code",
   "execution_count": 333,
   "metadata": {},
   "outputs": [
    {
     "name": "stdout",
     "output_type": "stream",
     "text": [
      "+-------+--------------------+----------------------+-------------------+---------------------+------------------+----------------------+\n",
      "|churned|avg(thumbs_up_given)|avg(thumbs_down_given)|avg(times_upgraded)|avg(times_downgraded)|      avg(logouts)|avg(help_access_count)|\n",
      "+-------+--------------------+----------------------+-------------------+---------------------+------------------+----------------------+\n",
      "|      1|               35.75|     9.538461538461538| 0.6153846153846154|  0.17307692307692307|10.634615384615385|     4.596153846153846|\n",
      "|      0|   61.80346820809248|     11.84971098265896| 0.7341040462427746|  0.31213872832369943| 15.45086705202312|     7.023121387283237|\n",
      "+-------+--------------------+----------------------+-------------------+---------------------+------------------+----------------------+\n",
      "\n"
     ]
    }
   ],
   "source": [
    "df_user_agg.groupBy(\"churned\").agg(f.mean('thumbs_up_given'), \\\n",
    "    f.mean('thumbs_down_given'), \\\n",
    "    f.mean('times_upgraded'), \\\n",
    "    f.mean('times_downgraded'), \\\n",
    "    f.mean('logouts'), \\\n",
    "    f.mean('help_access_count')).show()"
   ]
  },
  {
   "cell_type": "code",
   "execution_count": 334,
   "metadata": {},
   "outputs": [
    {
     "name": "stdout",
     "output_type": "stream",
     "text": [
      "+-------+--------------------+--------------------+------------------+\n",
      "|churned|      avg_last_login|    avg_registration| avg_user_age_days|\n",
      "+-------+--------------------+--------------------+------------------+\n",
      "|      1|2018-10-27 14:03:...|2018-08-31 06:42:...|57.305992922008535|\n",
      "|      0|2018-11-24 12:26:...|2018-08-29 22:32:...| 86.62061938021837|\n",
      "+-------+--------------------+--------------------+------------------+\n",
      "\n"
     ]
    }
   ],
   "source": [
    "# Convert from unix time to normal time to see results in human readable way\n",
    "df_user_agg.groupBy(\"churned\").agg(\\\n",
    "    from_unixtime(f.mean('last_login') / 1000 ,\"yyyy-MM-dd HH:mm:ss:SSS\").alias(\"avg_last_login\"),\n",
    "    from_unixtime(f.mean('registration') / 1000 ,\"yyyy-MM-dd HH:mm:ss:SSS\").alias(\"avg_registration\"), \\\n",
    "    (f.mean('user_age') / 1000/3600/24).alias(\"avg_user_age_days\")).show()"
   ]
  },
  {
   "cell_type": "markdown",
   "metadata": {},
   "source": [
    "# Feature Engineering\n",
    "One Hot Encoding categorical columns (gender) and assembling required subset of features into a feature vector.\n",
    "The output feature column is not scaled yet and therefore called \"features_raw\"."
   ]
  },
  {
   "cell_type": "markdown",
   "metadata": {},
   "source": [
    "#### Select required features"
   ]
  },
  {
   "cell_type": "code",
   "execution_count": 335,
   "metadata": {},
   "outputs": [],
   "source": [
    "# Select required features\n",
    "feature_list = [\"genderIndex\", \"songs_listened\", \"adverts_rolled\", \"friends_added\", \"playlist_additions\",\\\n",
    "               \"errors\", \"help_access_count\", \"logouts\", \"thumbs_up_given\", \"thumbs_down_given\",\\\n",
    "              \"times_upgraded\", \"times_downgraded\", \"user_age\"]"
   ]
  },
  {
   "cell_type": "markdown",
   "metadata": {},
   "source": [
    "#### One Hot Encoding the Gender Column"
   ]
  },
  {
   "cell_type": "code",
   "execution_count": 336,
   "metadata": {},
   "outputs": [],
   "source": [
    "# Use OneHotEncoding to transform gender into one hot vector \n",
    "stringIndexer = StringIndexer(inputCol=\"gender\", outputCol=\"genderIndex\")\n",
    "model = stringIndexer.fit(df_user_agg)\n",
    "indexed = model.transform(df_user_agg)\n",
    "\n",
    "# In Cloud\n",
    "#encoder = OneHotEncoder(inputCol=\"genderIndex\", outputCol=\"genderIndexVec\")\n",
    "#df_features = encoder.transform(indexed)\n",
    "\n",
    "# Local\n",
    "encoder = OneHotEncoder(inputCol=\"genderIndex\", outputCol=\"genderIndexVec\")\n",
    "encoder.setDropLast(False)\n",
    "ohe = encoder.fit(indexed)\n",
    "df_features = ohe.transform(indexed)"
   ]
  },
  {
   "cell_type": "code",
   "execution_count": 337,
   "metadata": {},
   "outputs": [
    {
     "name": "stdout",
     "output_type": "stream",
     "text": [
      "+------+-----------+--------------+\n",
      "|gender|genderIndex|genderIndexVec|\n",
      "+------+-----------+--------------+\n",
      "|     F|        1.0| (2,[1],[1.0])|\n",
      "|     M|        0.0| (2,[0],[1.0])|\n",
      "|     M|        0.0| (2,[0],[1.0])|\n",
      "|     F|        1.0| (2,[1],[1.0])|\n",
      "|     M|        0.0| (2,[0],[1.0])|\n",
      "+------+-----------+--------------+\n",
      "only showing top 5 rows\n",
      "\n"
     ]
    }
   ],
   "source": [
    "# https://stackoverflow.com/questions/49632830/pyspark-output-of-onehotencoder-looks-odd\n",
    "df_features.select(\"gender\", \"genderIndex\", \"genderIndexVec\").show(5)"
   ]
  },
  {
   "cell_type": "markdown",
   "metadata": {},
   "source": [
    "#### Feature Vector Assembler"
   ]
  },
  {
   "cell_type": "code",
   "execution_count": 338,
   "metadata": {},
   "outputs": [
    {
     "name": "stdout",
     "output_type": "stream",
     "text": [
      "Assembled columns genderIndex, songs_listened, adverts_rolled, friends_added, playlist_additions, errors, help_access_count, logouts, thumbs_up_given, thumbs_down_given, times_upgraded, times_downgraded, user_age,  to vector column 'features'\n",
      "+-------------------------------------------------------------------------+-----+\n",
      "|features_raw                                                             |label|\n",
      "+-------------------------------------------------------------------------+-----+\n",
      "|[1.0,275.0,52.0,4.0,7.0,0.0,2.0,5.0,17.0,5.0,0.0,0.0,4.807612E9]         |0    |\n",
      "|[0.0,387.0,7.0,4.0,8.0,0.0,2.0,5.0,21.0,6.0,1.0,0.0,6.054448E9]          |0    |\n",
      "|(13,[1,2,12],[8.0,1.0,6.161779E9])                                       |1    |\n",
      "|[1.0,4079.0,4.0,74.0,118.0,6.0,23.0,59.0,171.0,41.0,0.0,0.0,1.1366431E10]|0    |\n",
      "|[0.0,2111.0,0.0,28.0,52.0,1.0,12.0,24.0,100.0,21.0,0.0,0.0,1.680985E9]   |1    |\n",
      "|[0.0,150.0,16.0,1.0,5.0,1.0,1.0,3.0,7.0,1.0,0.0,0.0,6.288035E9]          |0    |\n",
      "|[0.0,1914.0,1.0,31.0,59.0,2.0,8.0,27.0,81.0,14.0,0.0,0.0,4.882773E9]     |0    |\n",
      "|[1.0,2841.0,47.0,33.0,72.0,1.0,17.0,36.0,163.0,29.0,1.0,1.0,9.568946E9]  |1    |\n",
      "|[1.0,820.0,8.0,11.0,24.0,3.0,9.0,14.0,58.0,3.0,1.0,0.0,2.03524E9]        |0    |\n",
      "|[0.0,257.0,2.0,6.0,7.0,0.0,2.0,3.0,17.0,3.0,0.0,0.0,7.351206E9]          |1    |\n",
      "|[1.0,1928.0,2.0,41.0,38.0,3.0,16.0,34.0,96.0,17.0,1.0,0.0,5.779219E9]    |0    |\n",
      "|[1.0,84.0,10.0,3.0,1.0,0.0,1.0,2.0,11.0,0.0,0.0,0.0,2.062544E9]          |0    |\n",
      "|[0.0,1797.0,8.0,29.0,61.0,3.0,12.0,24.0,86.0,16.0,1.0,0.0,4.662657E9]    |1    |\n",
      "|[1.0,647.0,39.0,6.0,20.0,1.0,3.0,14.0,40.0,9.0,2.0,1.0,1.0754921E10]     |0    |\n",
      "|[0.0,2070.0,17.0,41.0,67.0,1.0,13.0,18.0,95.0,24.0,1.0,0.0,5.756546E9]   |0    |\n",
      "|[1.0,3632.0,11.0,63.0,113.0,5.0,27.0,41.0,303.0,28.0,0.0,0.0,6.424576E9] |0    |\n",
      "|[0.0,230.0,30.0,7.0,7.0,2.0,0.0,7.0,11.0,5.0,0.0,0.0,5.593438E9]         |1    |\n",
      "|[0.0,3028.0,22.0,47.0,89.0,0.0,28.0,41.0,154.0,22.0,1.0,0.0,5.19299E9]   |1    |\n",
      "|[1.0,1125.0,3.0,12.0,33.0,4.0,7.0,10.0,72.0,9.0,1.0,0.0,6.171072E9]      |0    |\n",
      "|[0.0,215.0,21.0,7.0,7.0,0.0,1.0,3.0,9.0,3.0,0.0,0.0,7.556771E9]          |0    |\n",
      "+-------------------------------------------------------------------------+-----+\n",
      "only showing top 20 rows\n",
      "\n"
     ]
    }
   ],
   "source": [
    "# Assemble columns into feature vector\n",
    "assembler = VectorAssembler(\n",
    "    inputCols=feature_list,\n",
    "    outputCol=\"features_raw\")\n",
    "\n",
    "output = assembler.transform(df_features)\n",
    "\n",
    "feature_str = \"\"\n",
    "for feature in feature_list:\n",
    "    feature_str = feature_str + feature + \", \"\n",
    "    \n",
    "print(\"Assembled columns \" + feature_str + \" to vector column 'features'\")\n",
    "\n",
    "# Rename churned column to label\n",
    "output = output.withColumnRenamed(\"churned\", \"label\")\n",
    "df_features = output.select(\"features_raw\", \"label\")\n",
    "df_features.show(truncate=False)"
   ]
  },
  {
   "cell_type": "markdown",
   "metadata": {},
   "source": [
    "## Modeling\n",
    "Split the full dataset into train, test, and validation sets. \n",
    "Test out two ML models:\n",
    "- Random Forest Classifier\n",
    "- Logistic Regression\n",
    "\n",
    "Evaluating the accuracy of the various models, tuning parameters as necessary."
   ]
  },
  {
   "cell_type": "code",
   "execution_count": 339,
   "metadata": {},
   "outputs": [],
   "source": [
    "train, test = df_features.select([\"features_raw\", \"label\"]).randomSplit([0.7, 0.3], seed=42)"
   ]
  },
  {
   "cell_type": "markdown",
   "metadata": {},
   "source": [
    "#### Apply Standard Scaler to Feature Vector (only use training data for fittting)"
   ]
  },
  {
   "cell_type": "code",
   "execution_count": 340,
   "metadata": {},
   "outputs": [
    {
     "name": "stdout",
     "output_type": "stream",
     "text": [
      "-RECORD 0----------------------------------------------------------------------------------------------------------------------------------------------------------------------------------------------------------------------------------------------------------------------------\n",
      " features | [-0.9555298793060595,-0.5439738915591357,-0.49468011245263704,-0.6931110808050502,-0.6133286470638624,-0.7825327949102233,-0.5951993048674474,-0.5809558577810566,-0.5156540944278364,-0.38763499730063644,0.36187874786029606,-0.48950888391319386,-0.2987138412644498] \n",
      " label    | 0                                                                                                                                                                                                                                                                        \n",
      "only showing top 1 row\n",
      "\n",
      "-RECORD 0------------------------------------------------------------------------------------------------------------------------------------------------------------------------------------------------------------------------------------------------------------------------\n",
      " features | [-0.9555298793060595,-0.868134433856168,-0.7569904023980633,-0.8751458254653498,-0.8444430673105932,-0.7825327949102233,-0.861345335499233,-0.8889819391881078,-0.8191603687938042,-0.8396475383225794,-0.9085466435641478,-0.48950888391319386,-0.2649453432113492] \n",
      " label    | 1                                                                                                                                                                                                                                                                    \n",
      "only showing top 1 row\n",
      "\n"
     ]
    }
   ],
   "source": [
    "scaler = StandardScaler(inputCol=\"features_raw\", outputCol=\"features\",\n",
    "                        withStd=True, withMean=True)\n",
    "\n",
    "# Compute summary statistics by fitting the StandardScaler\n",
    "scalerModel = scaler.fit(train)\n",
    "\n",
    "# Normalize each feature to have unit standard deviation.\n",
    "train = scalerModel.transform(train)\n",
    "test = scalerModel.transform(test)\n",
    "\n",
    "# Select only relevant columns\n",
    "train = train.select(\"features\", \"label\")\n",
    "test = test.select(\"features\", \"label\")\n",
    "\n",
    "# Show example train and test data\n",
    "train.show(1, vertical=True, truncate=False)\n",
    "test.show(1, vertical=True, truncate=False)"
   ]
  },
  {
   "cell_type": "markdown",
   "metadata": {},
   "source": [
    "## Model 1 - Random Forest"
   ]
  },
  {
   "cell_type": "code",
   "execution_count": 341,
   "metadata": {},
   "outputs": [],
   "source": [
    "# Configure Random Forest classifier\n",
    "rf = RandomForestClassifier(labelCol=\"label\", featuresCol=\"features\", numTrees=10)\n",
    "\n",
    "# Chain indexers and forest in a Pipeline\n",
    "pipeline = Pipeline(stages=[rf])"
   ]
  },
  {
   "cell_type": "markdown",
   "metadata": {},
   "source": [
    "### Tune Model"
   ]
  },
  {
   "cell_type": "code",
   "execution_count": 342,
   "metadata": {},
   "outputs": [],
   "source": [
    "paramGrid = ParamGridBuilder() \\\n",
    "    .addGrid(rf.numTrees,[4, 8, 12]) \\\n",
    "    .addGrid(rf.maxDepth,[5, 10, 20, 30]) \\\n",
    "    .addGrid(rf.maxBins,[100, 200]) \\\n",
    "    .build()\n",
    "\n",
    "#paramGrid = ParamGridBuilder() \\\n",
    "#    .addGrid(rf.numTrees,[4]) \\\n",
    "#    .addGrid(rf.maxDepth,[5]) \\\n",
    "#    .addGrid(rf.maxBins,[100]) \\\n",
    "#    .build()\n",
    "\n",
    "\n",
    "crossval = CrossValidator(estimator=pipeline,\n",
    "                          estimatorParamMaps=paramGrid,\n",
    "                          evaluator=MulticlassClassificationEvaluator(),\n",
    "                          numFolds=2)"
   ]
  },
  {
   "cell_type": "code",
   "execution_count": 343,
   "metadata": {},
   "outputs": [
    {
     "name": "stderr",
     "output_type": "stream",
     "text": [
      "Exception ignored in: <function JavaModelWrapper.__del__ at 0x000001F1A7BE30D0>\n",
      "Traceback (most recent call last):\n",
      "  File \"c:\\python3\\lib\\site-packages\\pyspark\\mllib\\common.py\", line 137, in __del__\n",
      "    self._sc._gateway.detach(self._java_model)\n",
      "AttributeError: 'MulticlassMetrics' object has no attribute '_sc'\n"
     ]
    }
   ],
   "source": [
    "cvModel_q1 = crossval.fit(train)"
   ]
  },
  {
   "cell_type": "code",
   "execution_count": 344,
   "metadata": {},
   "outputs": [
    {
     "data": {
      "text/plain": [
       "[0.7730279496730672,\n",
       " 0.7730279496730672,\n",
       " 0.7763499697106194,\n",
       " 0.7763499697106194,\n",
       " 0.7763499697106194,\n",
       " 0.7763499697106194,\n",
       " 0.7763499697106194,\n",
       " 0.7763499697106194,\n",
       " 0.767055156717452,\n",
       " 0.767055156717452,\n",
       " 0.7551783957078579,\n",
       " 0.7551783957078579,\n",
       " 0.7551783957078579,\n",
       " 0.7551783957078579,\n",
       " 0.7551783957078579,\n",
       " 0.7551783957078579,\n",
       " 0.7695126348382927,\n",
       " 0.7695126348382927,\n",
       " 0.7355793976426299,\n",
       " 0.7355793976426299,\n",
       " 0.7355793976426299,\n",
       " 0.7355793976426299,\n",
       " 0.7355793976426299,\n",
       " 0.7355793976426299]"
      ]
     },
     "execution_count": 344,
     "metadata": {},
     "output_type": "execute_result"
    }
   ],
   "source": [
    "cvModel_q1.avgMetrics"
   ]
  },
  {
   "cell_type": "code",
   "execution_count": 345,
   "metadata": {},
   "outputs": [],
   "source": [
    "results = cvModel_q1.transform(test)"
   ]
  },
  {
   "cell_type": "code",
   "execution_count": 346,
   "metadata": {},
   "outputs": [
    {
     "name": "stdout",
     "output_type": "stream",
     "text": [
      "+--------------------+-----+-------------+-----------+----------+\n",
      "|            features|label|rawPrediction|probability|prediction|\n",
      "+--------------------+-----+-------------+-----------+----------+\n",
      "|[-0.9555298793060...|    1|    [4.0,0.0]|  [1.0,0.0]|       0.0|\n",
      "|[-0.9555298793060...|    0|    [4.0,0.0]|  [1.0,0.0]|       0.0|\n",
      "+--------------------+-----+-------------+-----------+----------+\n",
      "only showing top 2 rows\n",
      "\n"
     ]
    }
   ],
   "source": [
    "results.show(2)"
   ]
  },
  {
   "cell_type": "code",
   "execution_count": 347,
   "metadata": {},
   "outputs": [
    {
     "name": "stdout",
     "output_type": "stream",
     "text": [
      "The best performing params: \n",
      "numTrees: 4\n",
      "maxDepth: 10\n",
      "maxBins: 100.\n"
     ]
    }
   ],
   "source": [
    "# Get best pipeline and params\n",
    "bestPipeline = cvModel_q1.bestModel\n",
    "bestRFModel = bestPipeline.stages[-1]\n",
    "\n",
    "maxBins_best = bestRFModel._java_obj.getMaxBins()\n",
    "maxDepth_best = bestRFModel._java_obj.getMaxDepth()\n",
    "numTrees_best = bestRFModel._java_obj.getNumTrees()\n",
    "\n",
    "print(\"The best performing params: \\n\" + \\\n",
    "     \"numTrees: \" + str(numTrees_best) + \"\\n\" + \\\n",
    "     \"maxDepth: \" + str(maxDepth_best) + \"\\n\" + \\\n",
    "     \"maxBins: \" + str(maxBins_best) + \".\"\n",
    ")"
   ]
  },
  {
   "cell_type": "markdown",
   "metadata": {},
   "source": [
    "### Compute Accuracy of Best Model"
   ]
  },
  {
   "cell_type": "markdown",
   "metadata": {},
   "source": [
    "#### Accuracy (all users))\n",
    "How well was churn predicted among all users?"
   ]
  },
  {
   "cell_type": "code",
   "execution_count": 348,
   "metadata": {},
   "outputs": [
    {
     "name": "stdout",
     "output_type": "stream",
     "text": [
      "The model has an overall accuracy of 66%.\n"
     ]
    }
   ],
   "source": [
    "count_correct = results.filter(results.label == results.prediction).count()\n",
    "count_all = results.count()\n",
    "accuracy = count_correct/count_all * 100\n",
    "print(\"The model has an overall accuracy of \" + str(int(accuracy)) + \"%.\")"
   ]
  },
  {
   "cell_type": "markdown",
   "metadata": {},
   "source": [
    "#### Accuracy (churned users)\n",
    "How well was churn predicted among churned users?"
   ]
  },
  {
   "cell_type": "code",
   "execution_count": 349,
   "metadata": {},
   "outputs": [
    {
     "name": "stdout",
     "output_type": "stream",
     "text": [
      "The model has an accuracy of 16% for predicting churn correctly.\n"
     ]
    }
   ],
   "source": [
    "result_churners = results.filter(results.label == 1)\n",
    "count_correct = result_churners.filter(results.label == results.prediction).count()\n",
    "count_all = result_churners.count()\n",
    "accuracy = count_correct/count_all * 100\n",
    "print(\"The model has an accuracy of \" + str(int(accuracy)) + \"% for predicting churn correctly.\")"
   ]
  },
  {
   "cell_type": "markdown",
   "metadata": {},
   "source": [
    "## Model 2 - Logistic Regression"
   ]
  },
  {
   "cell_type": "markdown",
   "metadata": {},
   "source": [
    "### Build Pipeline"
   ]
  },
  {
   "cell_type": "code",
   "execution_count": 350,
   "metadata": {},
   "outputs": [],
   "source": [
    "lr =  LogisticRegression(maxIter=10, regParam=0.0, elasticNetParam=0)\n",
    "pipeline = Pipeline(stages=[lr])"
   ]
  },
  {
   "cell_type": "markdown",
   "metadata": {},
   "source": [
    "### Tune Model --> input F1 estimator here"
   ]
  },
  {
   "cell_type": "code",
   "execution_count": 351,
   "metadata": {},
   "outputs": [],
   "source": [
    "paramGrid = ParamGridBuilder() \\\n",
    "    .addGrid(lr.regParam,[0.0, 0.1]) \\\n",
    "    .addGrid(lr.maxIter,[5, 10, 50, 100]) \\\n",
    "    .build()\n",
    "\n",
    "\n",
    "crossval = CrossValidator(estimator=pipeline,\n",
    "                          estimatorParamMaps=paramGrid,\n",
    "                          evaluator=MulticlassClassificationEvaluator(),\n",
    "                          numFolds=2)"
   ]
  },
  {
   "cell_type": "code",
   "execution_count": 352,
   "metadata": {},
   "outputs": [],
   "source": [
    "cvModel_q2 = crossval.fit(train)"
   ]
  },
  {
   "cell_type": "code",
   "execution_count": 353,
   "metadata": {},
   "outputs": [
    {
     "data": {
      "text/plain": [
       "[0.7589439389338912,\n",
       " 0.7400005349308758,\n",
       " 0.741290383181997,\n",
       " 0.741290383181997,\n",
       " 0.6929578374983036,\n",
       " 0.6929578374983036,\n",
       " 0.6929578374983036,\n",
       " 0.6929578374983036]"
      ]
     },
     "execution_count": 353,
     "metadata": {},
     "output_type": "execute_result"
    }
   ],
   "source": [
    "cvModel_q2.avgMetrics"
   ]
  },
  {
   "cell_type": "code",
   "execution_count": 354,
   "metadata": {},
   "outputs": [],
   "source": [
    "results = cvModel_q2.transform(test)"
   ]
  },
  {
   "cell_type": "code",
   "execution_count": 355,
   "metadata": {},
   "outputs": [
    {
     "name": "stdout",
     "output_type": "stream",
     "text": [
      "+--------------------+-----+--------------------+--------------------+----------+\n",
      "|            features|label|       rawPrediction|         probability|prediction|\n",
      "+--------------------+-----+--------------------+--------------------+----------+\n",
      "|[-0.9555298793060...|    1|[1.29115316421777...|[0.78434231022866...|       0.0|\n",
      "|[-0.9555298793060...|    0|[1.41030407288604...|[0.80381389948080...|       0.0|\n",
      "+--------------------+-----+--------------------+--------------------+----------+\n",
      "only showing top 2 rows\n",
      "\n"
     ]
    }
   ],
   "source": [
    "results.show(2)"
   ]
  },
  {
   "cell_type": "code",
   "execution_count": 356,
   "metadata": {},
   "outputs": [
    {
     "name": "stdout",
     "output_type": "stream",
     "text": [
      "The best performing params: \n",
      "regParam: 0.0\n",
      "maxIter: 5\n"
     ]
    }
   ],
   "source": [
    "# Get best pipeline and params\n",
    "bestPipeline = cvModel_q2.bestModel\n",
    "bestLRModel = bestPipeline.stages[-1]\n",
    "\n",
    "regParam_best = bestLRModel._java_obj.getRegParam()\n",
    "maxIter_best = bestLRModel._java_obj.getMaxIter()\n",
    "\n",
    "print(\"The best performing params: \\n\" + \\\n",
    "     \"regParam: \" + str(regParam_best) + \"\\n\" + \\\n",
    "     \"maxIter: \" + str(maxIter_best)\n",
    ")"
   ]
  },
  {
   "cell_type": "markdown",
   "metadata": {},
   "source": [
    "### Compute Accuracy of Best Model"
   ]
  },
  {
   "cell_type": "markdown",
   "metadata": {},
   "source": [
    "#### Accuracy (all users)"
   ]
  },
  {
   "cell_type": "code",
   "execution_count": 357,
   "metadata": {},
   "outputs": [
    {
     "name": "stdout",
     "output_type": "stream",
     "text": [
      "The model has an overall accuracy of 76%.\n"
     ]
    }
   ],
   "source": [
    "count_correct = results.filter(results.label == results.prediction).count()\n",
    "count_all = results.count()\n",
    "accuracy = count_correct/count_all * 100\n",
    "print(\"The model has an overall accuracy of \" + str(int(accuracy)) + \"%.\")"
   ]
  },
  {
   "cell_type": "markdown",
   "metadata": {},
   "source": [
    "#### Accuracy (churned users)"
   ]
  },
  {
   "cell_type": "code",
   "execution_count": 358,
   "metadata": {},
   "outputs": [
    {
     "name": "stdout",
     "output_type": "stream",
     "text": [
      "The model has an accuracy of 33% for predicting churn correctly.\n"
     ]
    }
   ],
   "source": [
    "result_churners = results.filter(results.label == 1)\n",
    "count_correct = result_churners.filter(results.label == results.prediction).count()\n",
    "count_all = result_churners.count()\n",
    "accuracy = count_correct/count_all * 100\n",
    "print(\"The model has an accuracy of \" + str(int(accuracy)) + \"% for predicting churn correctly.\")"
   ]
  },
  {
   "cell_type": "markdown",
   "metadata": {},
   "source": [
    "# Final Steps\n",
    "Clean up your code, adding comments and renaming variables to make the code easier to read and maintain. Refer to the Spark Project Overview page and Data Scientist Capstone Project Rubric to make sure you are including all components of the capstone project and meet all expectations. Remember, this includes thorough documentation in a README file in a Github repository, as well as a web app or blog post."
   ]
  },
  {
   "cell_type": "code",
   "execution_count": null,
   "metadata": {},
   "outputs": [],
   "source": []
  },
  {
   "cell_type": "code",
   "execution_count": null,
   "metadata": {},
   "outputs": [],
   "source": []
  }
 ],
 "metadata": {
  "kernelspec": {
   "display_name": "Python 3",
   "language": "python",
   "name": "python3"
  },
  "language_info": {
   "codemirror_mode": {
    "name": "ipython",
    "version": 3
   },
   "file_extension": ".py",
   "mimetype": "text/x-python",
   "name": "python",
   "nbconvert_exporter": "python",
   "pygments_lexer": "ipython3",
   "version": "3.9.2"
  }
 },
 "nbformat": 4,
 "nbformat_minor": 4
}
